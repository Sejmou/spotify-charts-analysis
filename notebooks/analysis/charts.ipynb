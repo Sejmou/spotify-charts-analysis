{
  "cells": [
    {
      "cell_type": "markdown",
      "metadata": {},
      "source": [
        "# Exploring collected Chart Data"
      ]
    },
    {
      "cell_type": "code",
      "execution_count": 97,
      "metadata": {},
      "outputs": [],
      "source": [
        "import pandas as pd\n",
        "from helpers.data import (\n",
        "    create_data_path,\n",
        ")\n",
        "from helpers.spotify_util import (\n",
        "    create_spotipy_client,\n",
        ")\n",
        "import os\n",
        "from tqdm import tqdm\n",
        "from datetime import date\n",
        "\n",
        "data_folder = create_data_path(\"top200_2017-01_to_2023-06\")\n",
        "spotify = create_spotipy_client() # will be used later to verify/validate data we collected"
      ]
    },
    {
      "cell_type": "code",
      "execution_count": 98,
      "metadata": {},
      "outputs": [
        {
          "data": {
            "text/html": [
              "<div>\n",
              "<style scoped>\n",
              "    .dataframe tbody tr th:only-of-type {\n",
              "        vertical-align: middle;\n",
              "    }\n",
              "\n",
              "    .dataframe tbody tr th {\n",
              "        vertical-align: top;\n",
              "    }\n",
              "\n",
              "    .dataframe thead th {\n",
              "        text-align: right;\n",
              "    }\n",
              "</style>\n",
              "<table border=\"1\" class=\"dataframe\">\n",
              "  <thead>\n",
              "    <tr style=\"text-align: right;\">\n",
              "      <th></th>\n",
              "      <th>date</th>\n",
              "      <th>region_code</th>\n",
              "      <th>track_id</th>\n",
              "      <th>pos</th>\n",
              "      <th>artist_names</th>\n",
              "      <th>track_name</th>\n",
              "      <th>source</th>\n",
              "      <th>peak_rank</th>\n",
              "      <th>previous_rank</th>\n",
              "      <th>days_on_chart</th>\n",
              "      <th>streams</th>\n",
              "    </tr>\n",
              "  </thead>\n",
              "  <tbody>\n",
              "    <tr>\n",
              "      <th>0</th>\n",
              "      <td>2017-01-01</td>\n",
              "      <td>AR</td>\n",
              "      <td>6mICuAdrwEjh6Y6lroV2Kg</td>\n",
              "      <td>1</td>\n",
              "      <td>Shakira, Maluma</td>\n",
              "      <td>Chantaje (feat. Maluma)</td>\n",
              "      <td>Sony Music Latin</td>\n",
              "      <td>1</td>\n",
              "      <td>-1</td>\n",
              "      <td>1</td>\n",
              "      <td>253019</td>\n",
              "    </tr>\n",
              "    <tr>\n",
              "      <th>1</th>\n",
              "      <td>2017-01-01</td>\n",
              "      <td>AR</td>\n",
              "      <td>7DM4BPaS7uofFul3ywMe46</td>\n",
              "      <td>2</td>\n",
              "      <td>Ricky Martin, Maluma</td>\n",
              "      <td>Vente Pa' Ca (feat. Maluma)</td>\n",
              "      <td>Sony Music Latin</td>\n",
              "      <td>2</td>\n",
              "      <td>-1</td>\n",
              "      <td>1</td>\n",
              "      <td>223988</td>\n",
              "    </tr>\n",
              "    <tr>\n",
              "      <th>2</th>\n",
              "      <td>2017-01-01</td>\n",
              "      <td>AR</td>\n",
              "      <td>3AEZUABDXNtecAOSC1qTfo</td>\n",
              "      <td>3</td>\n",
              "      <td>CNCO</td>\n",
              "      <td>Reggaetón Lento (Bailemos)</td>\n",
              "      <td>Sony Music Latin</td>\n",
              "      <td>3</td>\n",
              "      <td>-1</td>\n",
              "      <td>1</td>\n",
              "      <td>210943</td>\n",
              "    </tr>\n",
              "    <tr>\n",
              "      <th>3</th>\n",
              "      <td>2017-01-01</td>\n",
              "      <td>AR</td>\n",
              "      <td>6rQSrBHf7HlZjtcMZ4S4bO</td>\n",
              "      <td>4</td>\n",
              "      <td>J Balvin, Pharrell Williams, BIA, Sky Rompiendo</td>\n",
              "      <td>Safari</td>\n",
              "      <td>UMLE - Latino</td>\n",
              "      <td>4</td>\n",
              "      <td>-1</td>\n",
              "      <td>1</td>\n",
              "      <td>173865</td>\n",
              "    </tr>\n",
              "    <tr>\n",
              "      <th>4</th>\n",
              "      <td>2017-01-01</td>\n",
              "      <td>AR</td>\n",
              "      <td>58IL315gMSTD37DOZPJ2hf</td>\n",
              "      <td>5</td>\n",
              "      <td>Daddy Yankee</td>\n",
              "      <td>Shaky Shaky</td>\n",
              "      <td>El Cartel Records (EC3)</td>\n",
              "      <td>5</td>\n",
              "      <td>-1</td>\n",
              "      <td>1</td>\n",
              "      <td>153956</td>\n",
              "    </tr>\n",
              "  </tbody>\n",
              "</table>\n",
              "</div>"
            ],
            "text/plain": [
              "        date region_code                track_id  pos  \\\n",
              "0 2017-01-01          AR  6mICuAdrwEjh6Y6lroV2Kg    1   \n",
              "1 2017-01-01          AR  7DM4BPaS7uofFul3ywMe46    2   \n",
              "2 2017-01-01          AR  3AEZUABDXNtecAOSC1qTfo    3   \n",
              "3 2017-01-01          AR  6rQSrBHf7HlZjtcMZ4S4bO    4   \n",
              "4 2017-01-01          AR  58IL315gMSTD37DOZPJ2hf    5   \n",
              "\n",
              "                                      artist_names  \\\n",
              "0                                  Shakira, Maluma   \n",
              "1                             Ricky Martin, Maluma   \n",
              "2                                             CNCO   \n",
              "3  J Balvin, Pharrell Williams, BIA, Sky Rompiendo   \n",
              "4                                     Daddy Yankee   \n",
              "\n",
              "                    track_name                   source  peak_rank  \\\n",
              "0      Chantaje (feat. Maluma)         Sony Music Latin          1   \n",
              "1  Vente Pa' Ca (feat. Maluma)         Sony Music Latin          2   \n",
              "2   Reggaetón Lento (Bailemos)         Sony Music Latin          3   \n",
              "3                       Safari            UMLE - Latino          4   \n",
              "4                  Shaky Shaky  El Cartel Records (EC3)          5   \n",
              "\n",
              "   previous_rank  days_on_chart  streams  \n",
              "0             -1              1   253019  \n",
              "1             -1              1   223988  \n",
              "2             -1              1   210943  \n",
              "3             -1              1   173865  \n",
              "4             -1              1   153956  "
            ]
          },
          "execution_count": 98,
          "metadata": {},
          "output_type": "execute_result"
        }
      ],
      "source": [
        "charts_path = os.path.join(data_folder, \"charts.parquet\")\n",
        "charts = pd.read_parquet(charts_path)\n",
        "charts.head()"
      ]
    },
    {
      "cell_type": "code",
      "execution_count": 99,
      "metadata": {},
      "outputs": [
        {
          "data": {
            "text/plain": [
              "163454"
            ]
          },
          "execution_count": 99,
          "metadata": {},
          "output_type": "execute_result"
        }
      ],
      "source": [
        "charts.track_id.nunique()"
      ]
    },
    {
      "cell_type": "code",
      "execution_count": 100,
      "metadata": {},
      "outputs": [
        {
          "data": {
            "text/plain": [
              "date             datetime64[ns]\n",
              "region_code              object\n",
              "track_id                 object\n",
              "pos                       int64\n",
              "artist_names             object\n",
              "track_name               object\n",
              "source                   object\n",
              "peak_rank                 int64\n",
              "previous_rank             int64\n",
              "days_on_chart             int64\n",
              "streams                   int64\n",
              "dtype: object"
            ]
          },
          "execution_count": 100,
          "metadata": {},
          "output_type": "execute_result"
        }
      ],
      "source": [
        "charts.dtypes"
      ]
    },
    {
      "cell_type": "markdown",
      "metadata": {},
      "source": [
        "### Exploring Data Completeness by Region"
      ]
    },
    {
      "cell_type": "code",
      "execution_count": 101,
      "metadata": {},
      "outputs": [
        {
          "data": {
            "text/plain": [
              "region_code\n",
              "FR    474390\n",
              "PL    474390\n",
              "IE    474389\n",
              "BE    474389\n",
              "GB    474389\n",
              "       ...  \n",
              "BY     99198\n",
              "KZ     99155\n",
              "VE     92000\n",
              "PK     80878\n",
              "LU     77692\n",
              "Length: 73, dtype: int64"
            ]
          },
          "execution_count": 101,
          "metadata": {},
          "output_type": "execute_result"
        }
      ],
      "source": [
        "region_chart_entry_counts = (\n",
        "    charts.groupby(\"region_code\").size().sort_values(ascending=False)\n",
        ")\n",
        "region_chart_entry_counts"
      ]
    },
    {
      "cell_type": "code",
      "execution_count": 102,
      "metadata": {},
      "outputs": [
        {
          "data": {
            "text/plain": [
              "<Axes: title={'center': 'Number of chart entries per region'}, xlabel='region_code'>"
            ]
          },
          "execution_count": 102,
          "metadata": {},
          "output_type": "execute_result"
        },
        {
          "data": {
            "image/png": "[encoded data removed]",
            "text/plain": [
              "<Figure size 1200x400 with 1 Axes>"
            ]
          },
          "metadata": {},
          "output_type": "display_data"
        }
      ],
      "source": [
        "region_chart_entry_counts.plot.bar(figsize=(12, 4), title=\"Number of chart entries per region\")"
      ]
    },
    {
      "cell_type": "markdown",
      "metadata": {},
      "source": [
        "Looks like data completeness is good for most of the countries :)\n",
        "\n",
        "It can happen that _some_ chart entries happen for a particular day. But it would be more annoying if data were missing for a few days completely. How often is that the case for what regions?"
      ]
    },
    {
      "cell_type": "code",
      "execution_count": 103,
      "metadata": {},
      "outputs": [
        {
          "data": {
            "text/plain": [
              "2372"
            ]
          },
          "execution_count": 103,
          "metadata": {},
          "output_type": "execute_result"
        }
      ],
      "source": [
        "ideal_day_count = (charts.date.max() - charts.date.min()).days + 1\n",
        "ideal_day_count"
      ]
    },
    {
      "cell_type": "code",
      "execution_count": 104,
      "metadata": {},
      "outputs": [
        {
          "data": {
            "text/plain": [
              "<Axes: title={'center': 'Number of days with chart data by region'}, xlabel='region_code'>"
            ]
          },
          "execution_count": 104,
          "metadata": {},
          "output_type": "execute_result"
        },
        {
          "data": {
            "image/png": "[encoded data removed]",
            "text/plain": [
              "<Figure size 1200x400 with 1 Axes>"
            ]
          },
          "metadata": {},
          "output_type": "display_data"
        }
      ],
      "source": [
        "days_with_data_by_region = charts.groupby(\"region_code\").date.nunique().sort_values(ascending=False)\n",
        "days_with_data_by_region.plot.bar(figsize=(12, 4), title=\"Number of days with chart data by region\")"
      ]
    },
    {
      "cell_type": "markdown",
      "metadata": {},
      "source": [
        "How many regions are there where data exists for every single day since data is available in our dataset?"
      ]
    },
    {
      "cell_type": "code",
      "execution_count": 105,
      "metadata": {},
      "outputs": [
        {
          "data": {
            "text/plain": [
              "Index(['JP', 'HU', 'IE', 'UY', 'IS', 'IT', 'AR', 'US', 'TW', 'LT', 'LU', 'LV',\n",
              "       'TR', 'MX', 'MY', 'NI', 'NL', 'NO', 'NZ', 'PA', 'PE', 'PH', 'SV', 'PL',\n",
              "       'PT', 'PY', 'SK', 'SG', 'ID', 'HN', 'HK', 'AT', 'AU', 'BE', 'BG', 'BO',\n",
              "       'BR', 'WW', 'CA', 'CH', 'CL', 'CO', 'CR', 'CZ', 'DE', 'DK', 'DO', 'EC',\n",
              "       'EE', 'ES', 'FI', 'FR', 'GB', 'GR', 'GT', 'SE'],\n",
              "      dtype='object', name='region_code')"
            ]
          },
          "execution_count": 105,
          "metadata": {},
          "output_type": "execute_result"
        }
      ],
      "source": [
        "regions_with_data_for_every_day = days_with_data_by_region[days_with_data_by_region / ideal_day_count == 1].index\n",
        "regions_with_data_for_every_day"
      ]
    },
    {
      "cell_type": "code",
      "execution_count": 106,
      "metadata": {},
      "outputs": [
        {
          "data": {
            "text/plain": [
              "(56,)"
            ]
          },
          "execution_count": 106,
          "metadata": {},
          "output_type": "execute_result"
        }
      ],
      "source": [
        "regions_with_data_for_every_day.shape"
      ]
    },
    {
      "cell_type": "code",
      "execution_count": 107,
      "metadata": {},
      "outputs": [],
      "source": [
        "complete_data_chart_entry_count = ideal_day_count * 200"
      ]
    },
    {
      "cell_type": "code",
      "execution_count": 108,
      "metadata": {},
      "outputs": [
        {
          "data": {
            "text/plain": [
              "474400"
            ]
          },
          "execution_count": 108,
          "metadata": {},
          "output_type": "execute_result"
        }
      ],
      "source": [
        "complete_data_chart_entry_count"
      ]
    },
    {
      "cell_type": "code",
      "execution_count": 109,
      "metadata": {},
      "outputs": [],
      "source": [
        "# get first date for each region\n",
        "first_dates_by_region = charts.groupby(\"region_code\").date.min()\n",
        "# find regions where the first date is not the same as the first date for the regions with data for every day\n",
        "regions_with_missing_data = first_dates_by_region[first_dates_by_region != first_dates_by_region[regions_with_data_for_every_day].min()].index"
      ]
    },
    {
      "cell_type": "code",
      "execution_count": 110,
      "metadata": {},
      "outputs": [],
      "source": [
        "# create a timeline of dates for each region\n",
        "dates_by_region = charts.groupby(\"region_code\").date.unique()\n",
        "# check if any dates are missing in between the first and last date\n",
        "missing_dates_by_region = dates_by_region.apply(lambda dates: pd.date_range(dates.min(), dates.max()).difference(dates))"
      ]
    },
    {
      "cell_type": "code",
      "execution_count": 111,
      "metadata": {},
      "outputs": [],
      "source": [
        "# get length of missing dates for each region\n",
        "missing_date_counts_by_region = missing_dates_by_region.apply(len).sort_values(ascending=False)\n",
        "assert missing_dates_by_region[missing_date_counts_by_region > 0].empty"
      ]
    },
    {
      "cell_type": "markdown",
      "metadata": {},
      "source": [
        "Notice that there are no regions where data is missing in between. However, for some regions data started being collected later (i.e. it is not available for the entire time period from 1st January 2017 up until 30th June 2023)."
      ]
    },
    {
      "cell_type": "code",
      "execution_count": 112,
      "metadata": {},
      "outputs": [
        {
          "data": {
            "text/plain": [
              "2017-01-01    56\n",
              "2022-02-20     3\n",
              "2018-03-14     3\n",
              "2019-06-04     1\n",
              "2019-07-22     1\n",
              "2019-02-27     1\n",
              "2021-02-01     1\n",
              "2019-07-08     1\n",
              "2022-05-15     1\n",
              "2019-04-12     1\n",
              "2017-08-23     1\n",
              "2020-07-15     1\n",
              "2022-03-28     1\n",
              "2018-04-20     1\n",
              "Name: date, dtype: int64"
            ]
          },
          "execution_count": 112,
          "metadata": {},
          "output_type": "execute_result"
        }
      ],
      "source": [
        "first_date_with_data_by_region = charts.groupby(\"region_code\").date.min()\n",
        "first_date_with_data_by_region.value_counts()"
      ]
    },
    {
      "cell_type": "markdown",
      "metadata": {},
      "source": [
        "Let's do a quick sanity check that data is in fact available until 30th June 2023 (for all regions)."
      ]
    },
    {
      "cell_type": "code",
      "execution_count": 113,
      "metadata": {},
      "outputs": [
        {
          "data": {
            "text/plain": [
              "2023-06-30    73\n",
              "Name: date, dtype: int64"
            ]
          },
          "execution_count": 113,
          "metadata": {},
          "output_type": "execute_result"
        }
      ],
      "source": [
        "last_date_with_data_by_region = charts.groupby(\"region_code\").date.max()\n",
        "last_date_with_data_by_region.value_counts()"
      ]
    },
    {
      "cell_type": "code",
      "execution_count": 114,
      "metadata": {},
      "outputs": [
        {
          "data": {
            "text/plain": [
              "0"
            ]
          },
          "execution_count": 114,
          "metadata": {},
          "output_type": "execute_result"
        }
      ],
      "source": [
        "regions_with_complete_data = region_chart_entry_counts[\n",
        "    region_chart_entry_counts >= complete_data_chart_entry_count\n",
        "].index\n",
        "len(regions_with_complete_data)"
      ]
    },
    {
      "cell_type": "markdown",
      "metadata": {},
      "source": [
        "There's no country for which the data is perfect! However, there's probably a lot where the data coverage is at least almost perfect"
      ]
    },
    {
      "cell_type": "code",
      "execution_count": 115,
      "metadata": {},
      "outputs": [
        {
          "data": {
            "text/plain": [
              "38"
            ]
          },
          "execution_count": 115,
          "metadata": {},
          "output_type": "execute_result"
        }
      ],
      "source": [
        "regions_with_almost_complete_data = region_chart_entry_counts[\n",
        "    region_chart_entry_counts >= complete_data_chart_entry_count * 0.99\n",
        "].index\n",
        "len(regions_with_almost_complete_data)"
      ]
    },
    {
      "cell_type": "markdown",
      "metadata": {},
      "source": [
        "Let's quickly also verify that indeed there is no region for which data is available BEFORE the first date we have collected in this dataset."
      ]
    },
    {
      "cell_type": "code",
      "execution_count": 116,
      "metadata": {},
      "outputs": [],
      "source": [
        "def get_spotify_chart_page_url(region_code: str, date: date):\n",
        "    return f\"https://charts.spotify.com/charts/view/regional-{region_code.lower()}-daily/{date.strftime('%Y-%m-%d')}\""
      ]
    },
    {
      "cell_type": "code",
      "execution_count": 117,
      "metadata": {},
      "outputs": [
        {
          "name": "stderr",
          "output_type": "stream",
          "text": [
            "/var/folders/wb/tytgfnn124jb9y2y1l2jhlbr0000gn/T/ipykernel_61555/3387649982.py:3: FutureWarning: iteritems is deprecated and will be removed in a future version. Use .items instead.\n",
            "  for region_code, date in one_date_before_first_per_region.iteritems():\n"
          ]
        }
      ],
      "source": [
        "one_date_before_first_per_region = first_dates_by_region - pd.Timedelta(days=1)\n",
        "chart_page_urls = []\n",
        "for region_code, date in one_date_before_first_per_region.iteritems():\n",
        "    chart_page_urls.append(get_spotify_chart_page_url(region_code, date))"
      ]
    },
    {
      "cell_type": "code",
      "execution_count": 118,
      "metadata": {},
      "outputs": [
        {
          "data": {
            "text/plain": [
              "'https://charts.spotify.com/charts/view/regional-ae-daily/2019-06-03'"
            ]
          },
          "execution_count": 118,
          "metadata": {},
          "output_type": "execute_result"
        }
      ],
      "source": [
        "chart_page_urls[0]"
      ]
    },
    {
      "cell_type": "markdown",
      "metadata": {},
      "source": [
        "Here's some code we can use to check whether indeed no charts exist prior to the first date per region:"
      ]
    },
    {
      "cell_type": "code",
      "execution_count": 119,
      "metadata": {},
      "outputs": [],
      "source": [
        "from selenium import webdriver\n",
        "from selenium.webdriver.common.by import By\n",
        "from helpers.scraping import login_and_accept_cookies, get_spotify_credentials\n",
        "\n",
        "def verify_chart_page_does_not_exist(\n",
        "    driver: webdriver,\n",
        "    url: str,\n",
        "):\n",
        "    driver.get(url) # navigate to chart page\n",
        "    error_alert = driver.find_element(By.CSS_SELECTOR, '[class^=\"ErrorPanel\"]') # find error alert\n",
        "    assert error_alert.text == \"Couldn't find this chart\", f\"Could not find 'missing chart error' text on page: {url}\"\n",
        "\n",
        "def verify_chart_pages_do_not_exist(chart_page_urls: list):\n",
        "    try:\n",
        "        driver = webdriver.Chrome()\n",
        "        driver.implicitly_wait(5)\n",
        "        username, password = get_spotify_credentials()\n",
        "        driver.get('https://open.spotify.com')\n",
        "        login_and_accept_cookies(driver, username=username, password=password)\n",
        "    \n",
        "        for url in chart_page_urls:\n",
        "            verify_chart_page_does_not_exist(driver, url)\n",
        "            \n",
        "    except Exception as e:\n",
        "        print(f'Error occurred while verifying charts do not exist: {e}')\n",
        "    finally:\n",
        "        driver.quit()"
      ]
    },
    {
      "cell_type": "code",
      "execution_count": 120,
      "metadata": {},
      "outputs": [],
      "source": [
        "# verify_chart_pages_do_not_exist(chart_page_urls) # uncomment to run\n",
        "# NOTE: this does NOT work in Jupyter notebooks opened in  VS Code \n",
        "# (Error occurred while verifying charts do not exist: (102, 'Operation not supported on socket'))"
      ]
    },
    {
      "cell_type": "markdown",
      "metadata": {},
      "source": [
        "When running this, we find out that indeed only error pages show up, which is good in this case!"
      ]
    },
    {
      "cell_type": "markdown",
      "metadata": {},
      "source": [
        "For our further analysis, let's only look at *countries* that have almost complete data."
      ]
    },
    {
      "cell_type": "code",
      "execution_count": 121,
      "metadata": {},
      "outputs": [
        {
          "data": {
            "text/plain": [
              "37"
            ]
          },
          "execution_count": 121,
          "metadata": {},
          "output_type": "execute_result"
        }
      ],
      "source": [
        "countries_to_keep = set(regions_with_almost_complete_data)\n",
        "countries_to_keep.discard(\"WW\")\n",
        "len(countries_to_keep)"
      ]
    },
    {
      "cell_type": "code",
      "execution_count": 122,
      "metadata": {},
      "outputs": [],
      "source": [
        "country_charts = charts[charts.region_code.isin(countries_to_keep)]"
      ]
    },
    {
      "cell_type": "markdown",
      "metadata": {},
      "source": [
        "### Estimating popularity of Spotify by market (country)"
      ]
    },
    {
      "cell_type": "markdown",
      "metadata": {},
      "source": [
        "#### Biggest markets by total number of streams of Daily Top 200 tracks"
      ]
    },
    {
      "cell_type": "markdown",
      "metadata": {},
      "source": [
        "A simple approach is just summing up the number of streams for each country. This approach gives us a good idea for the absolute number of streams of the Top 200 for all countries with good data coverage (which we already identified before)."
      ]
    },
    {
      "cell_type": "code",
      "execution_count": 123,
      "metadata": {},
      "outputs": [
        {
          "data": {
            "text/plain": [
              "<Axes: title={'center': 'Top countries by streams'}, xlabel='region_code'>"
            ]
          },
          "execution_count": 123,
          "metadata": {},
          "output_type": "execute_result"
        },
        {
          "data": {
            "image/png": "[encoded data removed]",
            "text/plain": [
              "<Figure size 1400x400 with 1 Axes>"
            ]
          },
          "metadata": {},
          "output_type": "display_data"
        }
      ],
      "source": [
        "streams_by_region = country_charts.groupby(\"region_code\").streams.sum()\n",
        "streams_by_country = streams_by_region[streams_by_region.index != \"ww\"].sort_values(\n",
        "    ascending=False\n",
        ")\n",
        "\n",
        "streams_by_country.sort_values(ascending=False).plot(\n",
        "    kind=\"bar\", figsize=(14, 4), title=f\"Top countries by streams\"\n",
        ")"
      ]
    },
    {
      "cell_type": "markdown",
      "metadata": {},
      "source": [
        "#### Estimating markets where Spotify is most popular"
      ]
    },
    {
      "cell_type": "markdown",
      "metadata": {},
      "source": [
        "Probably it is smarter to identify \"important\" markets by putting the number of total streams in relation to the total population of each country. Unfortunately, no data is available for 2022 yet (as of June 21st, 2023). So, I use the data from the year 2021."
      ]
    },
    {
      "cell_type": "code",
      "execution_count": 124,
      "metadata": {},
      "outputs": [
        {
          "data": {
            "text/html": [
              "<div>\n",
              "<style scoped>\n",
              "    .dataframe tbody tr th:only-of-type {\n",
              "        vertical-align: middle;\n",
              "    }\n",
              "\n",
              "    .dataframe tbody tr th {\n",
              "        vertical-align: top;\n",
              "    }\n",
              "\n",
              "    .dataframe thead th {\n",
              "        text-align: right;\n",
              "    }\n",
              "</style>\n",
              "<table border=\"1\" class=\"dataframe\">\n",
              "  <thead>\n",
              "    <tr style=\"text-align: right;\">\n",
              "      <th></th>\n",
              "      <th>alpha3</th>\n",
              "      <th>population</th>\n",
              "    </tr>\n",
              "  </thead>\n",
              "  <tbody>\n",
              "    <tr>\n",
              "      <th>0</th>\n",
              "      <td>ABW</td>\n",
              "      <td>106537.0</td>\n",
              "    </tr>\n",
              "    <tr>\n",
              "      <th>1</th>\n",
              "      <td>AFE</td>\n",
              "      <td>702976832.0</td>\n",
              "    </tr>\n",
              "    <tr>\n",
              "      <th>2</th>\n",
              "      <td>AFG</td>\n",
              "      <td>40099462.0</td>\n",
              "    </tr>\n",
              "    <tr>\n",
              "      <th>3</th>\n",
              "      <td>AFW</td>\n",
              "      <td>478185907.0</td>\n",
              "    </tr>\n",
              "    <tr>\n",
              "      <th>4</th>\n",
              "      <td>AGO</td>\n",
              "      <td>34503774.0</td>\n",
              "    </tr>\n",
              "  </tbody>\n",
              "</table>\n",
              "</div>"
            ],
            "text/plain": [
              "  alpha3   population\n",
              "0    ABW     106537.0\n",
              "1    AFE  702976832.0\n",
              "2    AFG   40099462.0\n",
              "3    AFW  478185907.0\n",
              "4    AGO   34503774.0"
            ]
          },
          "execution_count": 124,
          "metadata": {},
          "output_type": "execute_result"
        }
      ],
      "source": [
        "population = pd.read_csv(create_data_path(\"country_population.csv\"), skiprows=3)[\n",
        "    [\"Country Code\", \"2021\"]\n",
        "].rename(columns={\"Country Code\": \"alpha3\", \"2021\": \"population\"})\n",
        "population.head()"
      ]
    },
    {
      "cell_type": "code",
      "execution_count": 125,
      "metadata": {},
      "outputs": [
        {
          "data": {
            "text/html": [
              "<div>\n",
              "<style scoped>\n",
              "    .dataframe tbody tr th:only-of-type {\n",
              "        vertical-align: middle;\n",
              "    }\n",
              "\n",
              "    .dataframe tbody tr th {\n",
              "        vertical-align: top;\n",
              "    }\n",
              "\n",
              "    .dataframe thead th {\n",
              "        text-align: right;\n",
              "    }\n",
              "</style>\n",
              "<table border=\"1\" class=\"dataframe\">\n",
              "  <thead>\n",
              "    <tr style=\"text-align: right;\">\n",
              "      <th></th>\n",
              "      <th>alpha3</th>\n",
              "      <th>alpha2</th>\n",
              "    </tr>\n",
              "  </thead>\n",
              "  <tbody>\n",
              "    <tr>\n",
              "      <th>0</th>\n",
              "      <td>AFG</td>\n",
              "      <td>AF</td>\n",
              "    </tr>\n",
              "    <tr>\n",
              "      <th>1</th>\n",
              "      <td>ALA</td>\n",
              "      <td>AX</td>\n",
              "    </tr>\n",
              "    <tr>\n",
              "      <th>2</th>\n",
              "      <td>ALB</td>\n",
              "      <td>AL</td>\n",
              "    </tr>\n",
              "    <tr>\n",
              "      <th>3</th>\n",
              "      <td>DZA</td>\n",
              "      <td>DZ</td>\n",
              "    </tr>\n",
              "    <tr>\n",
              "      <th>4</th>\n",
              "      <td>ASM</td>\n",
              "      <td>AS</td>\n",
              "    </tr>\n",
              "  </tbody>\n",
              "</table>\n",
              "</div>"
            ],
            "text/plain": [
              "  alpha3 alpha2\n",
              "0    AFG     AF\n",
              "1    ALA     AX\n",
              "2    ALB     AL\n",
              "3    DZA     DZ\n",
              "4    ASM     AS"
            ]
          },
          "execution_count": 125,
          "metadata": {},
          "output_type": "execute_result"
        }
      ],
      "source": [
        "country_codes = pd.read_csv(create_data_path(\"country_codes.csv\"))[\n",
        "    [\"alpha-3\", \"alpha-2\"]\n",
        "].rename(columns={\"alpha-3\": \"alpha3\", \"alpha-2\": \"alpha2\"})\n",
        "country_codes.head()"
      ]
    },
    {
      "cell_type": "code",
      "execution_count": 126,
      "metadata": {},
      "outputs": [
        {
          "data": {
            "text/html": [
              "<div>\n",
              "<style scoped>\n",
              "    .dataframe tbody tr th:only-of-type {\n",
              "        vertical-align: middle;\n",
              "    }\n",
              "\n",
              "    .dataframe tbody tr th {\n",
              "        vertical-align: top;\n",
              "    }\n",
              "\n",
              "    .dataframe thead th {\n",
              "        text-align: right;\n",
              "    }\n",
              "</style>\n",
              "<table border=\"1\" class=\"dataframe\">\n",
              "  <thead>\n",
              "    <tr style=\"text-align: right;\">\n",
              "      <th></th>\n",
              "      <th>alpha3</th>\n",
              "      <th>alpha2</th>\n",
              "      <th>population</th>\n",
              "    </tr>\n",
              "  </thead>\n",
              "  <tbody>\n",
              "    <tr>\n",
              "      <th>0</th>\n",
              "      <td>AFG</td>\n",
              "      <td>AF</td>\n",
              "      <td>40099462.0</td>\n",
              "    </tr>\n",
              "    <tr>\n",
              "      <th>1</th>\n",
              "      <td>ALB</td>\n",
              "      <td>AL</td>\n",
              "      <td>2811666.0</td>\n",
              "    </tr>\n",
              "    <tr>\n",
              "      <th>2</th>\n",
              "      <td>DZA</td>\n",
              "      <td>DZ</td>\n",
              "      <td>44177969.0</td>\n",
              "    </tr>\n",
              "    <tr>\n",
              "      <th>3</th>\n",
              "      <td>ASM</td>\n",
              "      <td>AS</td>\n",
              "      <td>45035.0</td>\n",
              "    </tr>\n",
              "    <tr>\n",
              "      <th>4</th>\n",
              "      <td>AND</td>\n",
              "      <td>AD</td>\n",
              "      <td>79034.0</td>\n",
              "    </tr>\n",
              "  </tbody>\n",
              "</table>\n",
              "</div>"
            ],
            "text/plain": [
              "  alpha3 alpha2  population\n",
              "0    AFG     AF  40099462.0\n",
              "1    ALB     AL   2811666.0\n",
              "2    DZA     DZ  44177969.0\n",
              "3    ASM     AS     45035.0\n",
              "4    AND     AD     79034.0"
            ]
          },
          "execution_count": 126,
          "metadata": {},
          "output_type": "execute_result"
        }
      ],
      "source": [
        "country_population = pd.merge(country_codes, population, on='alpha3')\n",
        "country_population.head()"
      ]
    },
    {
      "cell_type": "code",
      "execution_count": 127,
      "metadata": {},
      "outputs": [
        {
          "data": {
            "text/plain": [
              "region_code\n",
              "AR    29991337600\n",
              "AT     3740452452\n",
              "AU    26628983129\n",
              "BE     5579066997\n",
              "BR    83750767455\n",
              "Name: streams, dtype: int64"
            ]
          },
          "execution_count": 127,
          "metadata": {},
          "output_type": "execute_result"
        }
      ],
      "source": [
        "streams_by_region.head()"
      ]
    },
    {
      "cell_type": "code",
      "execution_count": 128,
      "metadata": {},
      "outputs": [
        {
          "data": {
            "text/html": [
              "<div>\n",
              "<style scoped>\n",
              "    .dataframe tbody tr th:only-of-type {\n",
              "        vertical-align: middle;\n",
              "    }\n",
              "\n",
              "    .dataframe tbody tr th {\n",
              "        vertical-align: top;\n",
              "    }\n",
              "\n",
              "    .dataframe thead th {\n",
              "        text-align: right;\n",
              "    }\n",
              "</style>\n",
              "<table border=\"1\" class=\"dataframe\">\n",
              "  <thead>\n",
              "    <tr style=\"text-align: right;\">\n",
              "      <th></th>\n",
              "      <th>region</th>\n",
              "      <th>alpha2</th>\n",
              "    </tr>\n",
              "  </thead>\n",
              "  <tbody>\n",
              "    <tr>\n",
              "      <th>0</th>\n",
              "      <td>Global</td>\n",
              "      <td>WW</td>\n",
              "    </tr>\n",
              "    <tr>\n",
              "      <th>1</th>\n",
              "      <td>Argentina</td>\n",
              "      <td>AR</td>\n",
              "    </tr>\n",
              "    <tr>\n",
              "      <th>2</th>\n",
              "      <td>Australia</td>\n",
              "      <td>AU</td>\n",
              "    </tr>\n",
              "    <tr>\n",
              "      <th>3</th>\n",
              "      <td>Austria</td>\n",
              "      <td>AT</td>\n",
              "    </tr>\n",
              "    <tr>\n",
              "      <th>4</th>\n",
              "      <td>Belarus</td>\n",
              "      <td>BY</td>\n",
              "    </tr>\n",
              "  </tbody>\n",
              "</table>\n",
              "</div>"
            ],
            "text/plain": [
              "      region alpha2\n",
              "0     Global     WW\n",
              "1  Argentina     AR\n",
              "2  Australia     AU\n",
              "3    Austria     AT\n",
              "4    Belarus     BY"
            ]
          },
          "execution_count": 128,
          "metadata": {},
          "output_type": "execute_result"
        }
      ],
      "source": [
        "region_names_and_codes = pd.read_csv(create_data_path(\"region_names_and_codes.csv\"))[\n",
        "    [\"name\", \"code\"]\n",
        "].rename(columns={\"code\": \"alpha2\", \"name\": \"region\"})\n",
        "region_names_and_codes.alpha2 = (\n",
        "    region_names_and_codes.alpha2.str.upper()\n",
        ")  # convert to uppercase to match existing data\n",
        "region_names_and_codes.head()"
      ]
    },
    {
      "cell_type": "code",
      "execution_count": 129,
      "metadata": {},
      "outputs": [
        {
          "data": {
            "text/plain": [
              "True"
            ]
          },
          "execution_count": 129,
          "metadata": {},
          "output_type": "execute_result"
        }
      ],
      "source": [
        "len(region_names_and_codes[region_names_and_codes.alpha2.isin(countries_to_keep)]) == len(countries_to_keep)"
      ]
    },
    {
      "cell_type": "code",
      "execution_count": 130,
      "metadata": {},
      "outputs": [],
      "source": [
        "population_and_streams = pd.merge(\n",
        "    country_population,\n",
        "    streams_by_country,\n",
        "    left_on=\"alpha2\",\n",
        "    right_index=True,\n",
        "    how=\"right\",\n",
        ").reset_index(drop=True)"
      ]
    },
    {
      "cell_type": "code",
      "execution_count": 131,
      "metadata": {},
      "outputs": [
        {
          "data": {
            "text/html": [
              "<div>\n",
              "<style scoped>\n",
              "    .dataframe tbody tr th:only-of-type {\n",
              "        vertical-align: middle;\n",
              "    }\n",
              "\n",
              "    .dataframe tbody tr th {\n",
              "        vertical-align: top;\n",
              "    }\n",
              "\n",
              "    .dataframe thead th {\n",
              "        text-align: right;\n",
              "    }\n",
              "</style>\n",
              "<table border=\"1\" class=\"dataframe\">\n",
              "  <thead>\n",
              "    <tr style=\"text-align: right;\">\n",
              "      <th></th>\n",
              "      <th>alpha3</th>\n",
              "      <th>alpha2</th>\n",
              "      <th>population</th>\n",
              "      <th>streams</th>\n",
              "    </tr>\n",
              "  </thead>\n",
              "  <tbody>\n",
              "    <tr>\n",
              "      <th>0</th>\n",
              "      <td>USA</td>\n",
              "      <td>US</td>\n",
              "      <td>331893745.0</td>\n",
              "      <td>187566267362</td>\n",
              "    </tr>\n",
              "    <tr>\n",
              "      <th>1</th>\n",
              "      <td>BRA</td>\n",
              "      <td>BR</td>\n",
              "      <td>214326223.0</td>\n",
              "      <td>83750767455</td>\n",
              "    </tr>\n",
              "    <tr>\n",
              "      <th>2</th>\n",
              "      <td>MEX</td>\n",
              "      <td>MX</td>\n",
              "      <td>126705138.0</td>\n",
              "      <td>77219794766</td>\n",
              "    </tr>\n",
              "    <tr>\n",
              "      <th>3</th>\n",
              "      <td>DEU</td>\n",
              "      <td>DE</td>\n",
              "      <td>83196078.0</td>\n",
              "      <td>53583751297</td>\n",
              "    </tr>\n",
              "    <tr>\n",
              "      <th>4</th>\n",
              "      <td>GBR</td>\n",
              "      <td>GB</td>\n",
              "      <td>67326569.0</td>\n",
              "      <td>48165879307</td>\n",
              "    </tr>\n",
              "  </tbody>\n",
              "</table>\n",
              "</div>"
            ],
            "text/plain": [
              "  alpha3 alpha2   population       streams\n",
              "0    USA     US  331893745.0  187566267362\n",
              "1    BRA     BR  214326223.0   83750767455\n",
              "2    MEX     MX  126705138.0   77219794766\n",
              "3    DEU     DE   83196078.0   53583751297\n",
              "4    GBR     GB   67326569.0   48165879307"
            ]
          },
          "execution_count": 131,
          "metadata": {},
          "output_type": "execute_result"
        }
      ],
      "source": [
        "population_and_streams.head()"
      ]
    },
    {
      "cell_type": "code",
      "execution_count": 132,
      "metadata": {},
      "outputs": [
        {
          "data": {
            "text/plain": [
              "37"
            ]
          },
          "execution_count": 132,
          "metadata": {},
          "output_type": "execute_result"
        }
      ],
      "source": [
        "len(population_and_streams)"
      ]
    },
    {
      "cell_type": "code",
      "execution_count": 133,
      "metadata": {},
      "outputs": [
        {
          "data": {
            "text/html": [
              "<div>\n",
              "<style scoped>\n",
              "    .dataframe tbody tr th:only-of-type {\n",
              "        vertical-align: middle;\n",
              "    }\n",
              "\n",
              "    .dataframe tbody tr th {\n",
              "        vertical-align: top;\n",
              "    }\n",
              "\n",
              "    .dataframe thead th {\n",
              "        text-align: right;\n",
              "    }\n",
              "</style>\n",
              "<table border=\"1\" class=\"dataframe\">\n",
              "  <thead>\n",
              "    <tr style=\"text-align: right;\">\n",
              "      <th></th>\n",
              "      <th>alpha3</th>\n",
              "      <th>alpha2</th>\n",
              "      <th>population</th>\n",
              "      <th>streams</th>\n",
              "    </tr>\n",
              "  </thead>\n",
              "  <tbody>\n",
              "    <tr>\n",
              "      <th>29</th>\n",
              "      <td>NaN</td>\n",
              "      <td>TW</td>\n",
              "      <td>NaN</td>\n",
              "      <td>4978737257</td>\n",
              "    </tr>\n",
              "  </tbody>\n",
              "</table>\n",
              "</div>"
            ],
            "text/plain": [
              "   alpha3 alpha2  population     streams\n",
              "29    NaN     TW         NaN  4978737257"
            ]
          },
          "execution_count": 133,
          "metadata": {},
          "output_type": "execute_result"
        }
      ],
      "source": [
        "population_and_streams[population_and_streams.population.isna()]"
      ]
    },
    {
      "cell_type": "markdown",
      "metadata": {},
      "source": [
        "No data seems to be available for Taiwan (code `TW`). I looked up the data manually [here](https://www.census.gov/data-tools/demo/idb/#/country?COUNTRY_YEAR=2021&COUNTRY_YR_ANIM=2021&FIPS_SINGLE=TW). So let's just use that number (23,572,052)."
      ]
    },
    {
      "cell_type": "code",
      "execution_count": 134,
      "metadata": {},
      "outputs": [],
      "source": [
        "population_and_streams.loc[population_and_streams.alpha2 == 'TW', 'population'] = 23572052"
      ]
    },
    {
      "cell_type": "code",
      "execution_count": 135,
      "metadata": {},
      "outputs": [
        {
          "data": {
            "text/plain": [
              "True"
            ]
          },
          "execution_count": 135,
          "metadata": {},
          "output_type": "execute_result"
        }
      ],
      "source": [
        "len(population_and_streams) == len(countries_to_keep)"
      ]
    },
    {
      "cell_type": "code",
      "execution_count": 136,
      "metadata": {},
      "outputs": [
        {
          "data": {
            "text/html": [
              "<div>\n",
              "<style scoped>\n",
              "    .dataframe tbody tr th:only-of-type {\n",
              "        vertical-align: middle;\n",
              "    }\n",
              "\n",
              "    .dataframe tbody tr th {\n",
              "        vertical-align: top;\n",
              "    }\n",
              "\n",
              "    .dataframe thead th {\n",
              "        text-align: right;\n",
              "    }\n",
              "</style>\n",
              "<table border=\"1\" class=\"dataframe\">\n",
              "  <thead>\n",
              "    <tr style=\"text-align: right;\">\n",
              "      <th></th>\n",
              "      <th>country</th>\n",
              "      <th>alpha2</th>\n",
              "      <th>alpha3</th>\n",
              "      <th>population</th>\n",
              "      <th>streams</th>\n",
              "    </tr>\n",
              "  </thead>\n",
              "  <tbody>\n",
              "    <tr>\n",
              "      <th>0</th>\n",
              "      <td>Argentina</td>\n",
              "      <td>AR</td>\n",
              "      <td>ARG</td>\n",
              "      <td>45808747.0</td>\n",
              "      <td>29991337600</td>\n",
              "    </tr>\n",
              "    <tr>\n",
              "      <th>1</th>\n",
              "      <td>Australia</td>\n",
              "      <td>AU</td>\n",
              "      <td>AUS</td>\n",
              "      <td>25688079.0</td>\n",
              "      <td>26628983129</td>\n",
              "    </tr>\n",
              "    <tr>\n",
              "      <th>2</th>\n",
              "      <td>Austria</td>\n",
              "      <td>AT</td>\n",
              "      <td>AUT</td>\n",
              "      <td>8955797.0</td>\n",
              "      <td>3740452452</td>\n",
              "    </tr>\n",
              "    <tr>\n",
              "      <th>3</th>\n",
              "      <td>Belgium</td>\n",
              "      <td>BE</td>\n",
              "      <td>BEL</td>\n",
              "      <td>11592952.0</td>\n",
              "      <td>5579066997</td>\n",
              "    </tr>\n",
              "    <tr>\n",
              "      <th>4</th>\n",
              "      <td>Brazil</td>\n",
              "      <td>BR</td>\n",
              "      <td>BRA</td>\n",
              "      <td>214326223.0</td>\n",
              "      <td>83750767455</td>\n",
              "    </tr>\n",
              "  </tbody>\n",
              "</table>\n",
              "</div>"
            ],
            "text/plain": [
              "     country alpha2 alpha3   population      streams\n",
              "0  Argentina     AR    ARG   45808747.0  29991337600\n",
              "1  Australia     AU    AUS   25688079.0  26628983129\n",
              "2    Austria     AT    AUT    8955797.0   3740452452\n",
              "3    Belgium     BE    BEL   11592952.0   5579066997\n",
              "4     Brazil     BR    BRA  214326223.0  83750767455"
            ]
          },
          "execution_count": 136,
          "metadata": {},
          "output_type": "execute_result"
        }
      ],
      "source": [
        "population_and_streams = pd.merge(region_names_and_codes, population_and_streams, on='alpha2').rename(columns={'region': 'country'})\n",
        "population_and_streams.head()"
      ]
    },
    {
      "cell_type": "code",
      "execution_count": 137,
      "metadata": {},
      "outputs": [],
      "source": [
        "population_and_streams['streams_vs_pop'] = population_and_streams.streams / population_and_streams.population"
      ]
    },
    {
      "cell_type": "code",
      "execution_count": 138,
      "metadata": {},
      "outputs": [
        {
          "data": {
            "text/html": [
              "<div>\n",
              "<style scoped>\n",
              "    .dataframe tbody tr th:only-of-type {\n",
              "        vertical-align: middle;\n",
              "    }\n",
              "\n",
              "    .dataframe tbody tr th {\n",
              "        vertical-align: top;\n",
              "    }\n",
              "\n",
              "    .dataframe thead th {\n",
              "        text-align: right;\n",
              "    }\n",
              "</style>\n",
              "<table border=\"1\" class=\"dataframe\">\n",
              "  <thead>\n",
              "    <tr style=\"text-align: right;\">\n",
              "      <th></th>\n",
              "      <th>country</th>\n",
              "      <th>alpha2</th>\n",
              "      <th>alpha3</th>\n",
              "      <th>population</th>\n",
              "      <th>streams</th>\n",
              "      <th>streams_vs_pop</th>\n",
              "    </tr>\n",
              "  </thead>\n",
              "  <tbody>\n",
              "    <tr>\n",
              "      <th>0</th>\n",
              "      <td>Argentina</td>\n",
              "      <td>AR</td>\n",
              "      <td>ARG</td>\n",
              "      <td>45808747.0</td>\n",
              "      <td>29991337600</td>\n",
              "      <td>654.707661</td>\n",
              "    </tr>\n",
              "    <tr>\n",
              "      <th>1</th>\n",
              "      <td>Australia</td>\n",
              "      <td>AU</td>\n",
              "      <td>AUS</td>\n",
              "      <td>25688079.0</td>\n",
              "      <td>26628983129</td>\n",
              "      <td>1036.628046</td>\n",
              "    </tr>\n",
              "    <tr>\n",
              "      <th>2</th>\n",
              "      <td>Austria</td>\n",
              "      <td>AT</td>\n",
              "      <td>AUT</td>\n",
              "      <td>8955797.0</td>\n",
              "      <td>3740452452</td>\n",
              "      <td>417.657128</td>\n",
              "    </tr>\n",
              "    <tr>\n",
              "      <th>3</th>\n",
              "      <td>Belgium</td>\n",
              "      <td>BE</td>\n",
              "      <td>BEL</td>\n",
              "      <td>11592952.0</td>\n",
              "      <td>5579066997</td>\n",
              "      <td>481.246450</td>\n",
              "    </tr>\n",
              "    <tr>\n",
              "      <th>4</th>\n",
              "      <td>Brazil</td>\n",
              "      <td>BR</td>\n",
              "      <td>BRA</td>\n",
              "      <td>214326223.0</td>\n",
              "      <td>83750767455</td>\n",
              "      <td>390.763045</td>\n",
              "    </tr>\n",
              "  </tbody>\n",
              "</table>\n",
              "</div>"
            ],
            "text/plain": [
              "     country alpha2 alpha3   population      streams  streams_vs_pop\n",
              "0  Argentina     AR    ARG   45808747.0  29991337600      654.707661\n",
              "1  Australia     AU    AUS   25688079.0  26628983129     1036.628046\n",
              "2    Austria     AT    AUT    8955797.0   3740452452      417.657128\n",
              "3    Belgium     BE    BEL   11592952.0   5579066997      481.246450\n",
              "4     Brazil     BR    BRA  214326223.0  83750767455      390.763045"
            ]
          },
          "execution_count": 138,
          "metadata": {},
          "output_type": "execute_result"
        }
      ],
      "source": [
        "population_and_streams.head()"
      ]
    },
    {
      "cell_type": "code",
      "execution_count": 139,
      "metadata": {},
      "outputs": [
        {
          "data": {
            "text/plain": [
              "<Axes: title={'center': 'Top countries (ratio of total streams of chart tracks to population)'}, xlabel='country'>"
            ]
          },
          "execution_count": 139,
          "metadata": {},
          "output_type": "execute_result"
        },
        {
          "data": {
            "image/png": "[encoded data removed]",
            "text/plain": [
              "<Figure size 1600x500 with 1 Axes>"
            ]
          },
          "metadata": {},
          "output_type": "display_data"
        }
      ],
      "source": [
        "population_and_streams.set_index('country').streams_vs_pop.sort_values(ascending=False).plot(kind='bar', figsize=(16, 5), title=f'Top countries (ratio of total streams of chart tracks to population)')"
      ]
    },
    {
      "cell_type": "markdown",
      "metadata": {},
      "source": [
        "This ratio between total Spotify streams and total population for a given country might not be the best metric for 'popularity', but it does produce interesting insights. \n",
        "\n",
        "We notice that the ratio of Spotify streams (compared to the total population) is biggest in Norway. The number is also quite big for Sweden (Spotify's 'country of origin') and Denmark. The popularity of Spotify in Chile is certainly surprising."
      ]
    },
    {
      "cell_type": "markdown",
      "metadata": {},
      "source": [
        "#### Estimating most 'financially relevant' markets"
      ]
    },
    {
      "cell_type": "markdown",
      "metadata": {},
      "source": [
        "Of course, smaller markets (like Austria with only around 9 mio. total population) are much less relevant for Spotify in terms of number of paying customers and therefore income compared to bigger countries (like the US with its more than 300 mio. inhabitants). So, let's try to find a metric for measuring 'financial relevance' of a particular market/country.\n",
        "\n",
        "Let's assume that the total number of streams of Top 200 tracks also correlates with the overall popularity of Spotify for any given country.\n",
        "\n",
        "Then, we can just use the ratio of total streams and population for each country that we already calculated above and multiply it with the population of each country. If we assume that more streams also means more money for Spotify, this would give us a rough idea of the relevance of this country for Spotify."
      ]
    },
    {
      "cell_type": "code",
      "execution_count": 140,
      "metadata": {},
      "outputs": [],
      "source": [
        "population_and_streams['financial_relevance'] = population_and_streams.streams_vs_pop * population_and_streams.population\n",
        "population_and_streams.financial_relevance = population_and_streams.financial_relevance / population_and_streams.financial_relevance.max()"
      ]
    },
    {
      "cell_type": "code",
      "execution_count": 141,
      "metadata": {},
      "outputs": [
        {
          "data": {
            "text/plain": [
              "<Axes: title={'center': \"Top countries by estimated 'financial relevance', i.e. (total streams of chart tracks / population) * population, normalized by max\"}, xlabel='country'>"
            ]
          },
          "execution_count": 141,
          "metadata": {},
          "output_type": "execute_result"
        },
        {
          "data": {
            "image/png": "[encoded data removed]",
            "text/plain": [
              "<Figure size 1600x500 with 1 Axes>"
            ]
          },
          "metadata": {},
          "output_type": "display_data"
        }
      ],
      "source": [
        "population_and_streams.set_index(\"country\").financial_relevance.sort_values(\n",
        "    ascending=False\n",
        ").plot(\n",
        "    kind=\"bar\",\n",
        "    figsize=(16, 5),\n",
        "    title=f\"Top countries by estimated 'financial relevance', i.e. (total streams of chart tracks / population) * population, normalized by max\",\n",
        ")"
      ]
    },
    {
      "cell_type": "markdown",
      "metadata": {},
      "source": [
        "Here, the US again appear as most relevant! There's one more caveat though: some countries (like India) have significantly lower GDP compared to first world countries. Furthermore, it makes a difference what percentage of customers pays for Spotify Premium AND how much Spotify Premium costs in that particular country.\n",
        "\n",
        "So, this metric is maybe not really that suitable for estimating financial relevance. But still, it might give us a rough idea of where Spotify is 'biggest' (in terms of total number of people using the service)."
      ]
    }
  ],
  "metadata": {
    "kernelspec": {
      "display_name": "spotify-charts-analysis",
      "language": "python",
      "name": "python3"
    },
    "language_info": {
      "codemirror_mode": {
        "name": "ipython",
        "version": 3
      },
      "file_extension": ".py",
      "mimetype": "text/x-python",
      "name": "python",
      "nbconvert_exporter": "python",
      "pygments_lexer": "ipython3",
      "version": "3.10.11"
    },
    "orig_nbformat": 4
  },
  "nbformat": 4,
  "nbformat_minor": 2
}
