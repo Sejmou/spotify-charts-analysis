{
 "cells": [
  {
   "cell_type": "markdown",
   "metadata": {},
   "source": [
    "# Processing scraped track credits data (internal Spotify API)"
   ]
  },
  {
   "cell_type": "code",
   "execution_count": 1,
   "metadata": {},
   "outputs": [],
   "source": [
    "import pandas as pd\n",
    "from helpers.data import (\n",
    "    create_data_path,\n",
    "    write_series_to_file_as_prettified_json,\n",
    ")\n",
    "from helpers.spotify_util import (\n",
    "    get_spotify_track_link,\n",
    ")\n",
    "import os\n",
    "\n",
    "data_folder = create_data_path(\"top200_Jan_2017_to_June_2023\")"
   ]
  },
  {
   "cell_type": "code",
   "execution_count": 2,
   "metadata": {},
   "outputs": [],
   "source": [
    "credits_api_resp = pd.read_json(os.path.join(data_folder, \"credits.jsonl\"), lines=True).set_index('track_id')"
   ]
  },
  {
   "cell_type": "code",
   "execution_count": 3,
   "metadata": {},
   "outputs": [
    {
     "data": {
      "text/html": [
       "<div>\n",
       "<style scoped>\n",
       "    .dataframe tbody tr th:only-of-type {\n",
       "        vertical-align: middle;\n",
       "    }\n",
       "\n",
       "    .dataframe tbody tr th {\n",
       "        vertical-align: top;\n",
       "    }\n",
       "\n",
       "    .dataframe thead th {\n",
       "        text-align: right;\n",
       "    }\n",
       "</style>\n",
       "<table border=\"1\" class=\"dataframe\">\n",
       "  <thead>\n",
       "    <tr style=\"text-align: right;\">\n",
       "      <th></th>\n",
       "      <th>status_code</th>\n",
       "      <th>content</th>\n",
       "      <th>content_type</th>\n",
       "      <th>url</th>\n",
       "      <th>timestamp</th>\n",
       "    </tr>\n",
       "    <tr>\n",
       "      <th>track_id</th>\n",
       "      <th></th>\n",
       "      <th></th>\n",
       "      <th></th>\n",
       "      <th></th>\n",
       "      <th></th>\n",
       "    </tr>\n",
       "  </thead>\n",
       "  <tbody>\n",
       "    <tr>\n",
       "      <th>01ARBHp9XYwUOiQHIR2F3Y</th>\n",
       "      <td>200</td>\n",
       "      <td>{'trackUri': 'spotify:track:01ARBHp9XYwUOiQHIR...</td>\n",
       "      <td>json</td>\n",
       "      <td>https://spclient.wg.spotify.com/track-credits-...</td>\n",
       "      <td>2023-07-19 15:49:35.452185+00:00</td>\n",
       "    </tr>\n",
       "    <tr>\n",
       "      <th>6QQ51riWstSxoNWBdOYRuV</th>\n",
       "      <td>200</td>\n",
       "      <td>{'trackUri': 'spotify:track:6QQ51riWstSxoNWBdO...</td>\n",
       "      <td>json</td>\n",
       "      <td>https://spclient.wg.spotify.com/track-credits-...</td>\n",
       "      <td>2023-07-19 15:49:35.553219+00:00</td>\n",
       "    </tr>\n",
       "    <tr>\n",
       "      <th>1xYzN6PXSwoOChUJnq8eJU</th>\n",
       "      <td>200</td>\n",
       "      <td>{'trackUri': 'spotify:track:1xYzN6PXSwoOChUJnq...</td>\n",
       "      <td>json</td>\n",
       "      <td>https://spclient.wg.spotify.com/track-credits-...</td>\n",
       "      <td>2023-07-19 15:49:35.572632+00:00</td>\n",
       "    </tr>\n",
       "    <tr>\n",
       "      <th>3GAz3o5o3lZGUOPUSPG8ul</th>\n",
       "      <td>200</td>\n",
       "      <td>{'trackUri': 'spotify:track:3GAz3o5o3lZGUOPUSP...</td>\n",
       "      <td>json</td>\n",
       "      <td>https://spclient.wg.spotify.com/track-credits-...</td>\n",
       "      <td>2023-07-19 15:49:35.542785+00:00</td>\n",
       "    </tr>\n",
       "    <tr>\n",
       "      <th>7GXr7pcHuyCMgYeZ1mb9OW</th>\n",
       "      <td>200</td>\n",
       "      <td>{'trackUri': 'spotify:track:7GXr7pcHuyCMgYeZ1m...</td>\n",
       "      <td>json</td>\n",
       "      <td>https://spclient.wg.spotify.com/track-credits-...</td>\n",
       "      <td>2023-07-19 15:49:35.654708+00:00</td>\n",
       "    </tr>\n",
       "  </tbody>\n",
       "</table>\n",
       "</div>"
      ],
      "text/plain": [
       "                        status_code  \\\n",
       "track_id                              \n",
       "01ARBHp9XYwUOiQHIR2F3Y          200   \n",
       "6QQ51riWstSxoNWBdOYRuV          200   \n",
       "1xYzN6PXSwoOChUJnq8eJU          200   \n",
       "3GAz3o5o3lZGUOPUSPG8ul          200   \n",
       "7GXr7pcHuyCMgYeZ1mb9OW          200   \n",
       "\n",
       "                                                                  content  \\\n",
       "track_id                                                                    \n",
       "01ARBHp9XYwUOiQHIR2F3Y  {'trackUri': 'spotify:track:01ARBHp9XYwUOiQHIR...   \n",
       "6QQ51riWstSxoNWBdOYRuV  {'trackUri': 'spotify:track:6QQ51riWstSxoNWBdO...   \n",
       "1xYzN6PXSwoOChUJnq8eJU  {'trackUri': 'spotify:track:1xYzN6PXSwoOChUJnq...   \n",
       "3GAz3o5o3lZGUOPUSPG8ul  {'trackUri': 'spotify:track:3GAz3o5o3lZGUOPUSP...   \n",
       "7GXr7pcHuyCMgYeZ1mb9OW  {'trackUri': 'spotify:track:7GXr7pcHuyCMgYeZ1m...   \n",
       "\n",
       "                       content_type  \\\n",
       "track_id                              \n",
       "01ARBHp9XYwUOiQHIR2F3Y         json   \n",
       "6QQ51riWstSxoNWBdOYRuV         json   \n",
       "1xYzN6PXSwoOChUJnq8eJU         json   \n",
       "3GAz3o5o3lZGUOPUSPG8ul         json   \n",
       "7GXr7pcHuyCMgYeZ1mb9OW         json   \n",
       "\n",
       "                                                                      url  \\\n",
       "track_id                                                                    \n",
       "01ARBHp9XYwUOiQHIR2F3Y  https://spclient.wg.spotify.com/track-credits-...   \n",
       "6QQ51riWstSxoNWBdOYRuV  https://spclient.wg.spotify.com/track-credits-...   \n",
       "1xYzN6PXSwoOChUJnq8eJU  https://spclient.wg.spotify.com/track-credits-...   \n",
       "3GAz3o5o3lZGUOPUSPG8ul  https://spclient.wg.spotify.com/track-credits-...   \n",
       "7GXr7pcHuyCMgYeZ1mb9OW  https://spclient.wg.spotify.com/track-credits-...   \n",
       "\n",
       "                                              timestamp  \n",
       "track_id                                                 \n",
       "01ARBHp9XYwUOiQHIR2F3Y 2023-07-19 15:49:35.452185+00:00  \n",
       "6QQ51riWstSxoNWBdOYRuV 2023-07-19 15:49:35.553219+00:00  \n",
       "1xYzN6PXSwoOChUJnq8eJU 2023-07-19 15:49:35.572632+00:00  \n",
       "3GAz3o5o3lZGUOPUSPG8ul 2023-07-19 15:49:35.542785+00:00  \n",
       "7GXr7pcHuyCMgYeZ1mb9OW 2023-07-19 15:49:35.654708+00:00  "
      ]
     },
     "execution_count": 3,
     "metadata": {},
     "output_type": "execute_result"
    }
   ],
   "source": [
    "credits_api_resp.head()"
   ]
  },
  {
   "cell_type": "code",
   "execution_count": 4,
   "metadata": {},
   "outputs": [
    {
     "data": {
      "text/html": [
       "<div>\n",
       "<style scoped>\n",
       "    .dataframe tbody tr th:only-of-type {\n",
       "        vertical-align: middle;\n",
       "    }\n",
       "\n",
       "    .dataframe tbody tr th {\n",
       "        vertical-align: top;\n",
       "    }\n",
       "\n",
       "    .dataframe thead th {\n",
       "        text-align: right;\n",
       "    }\n",
       "</style>\n",
       "<table border=\"1\" class=\"dataframe\">\n",
       "  <thead>\n",
       "    <tr style=\"text-align: right;\">\n",
       "      <th></th>\n",
       "      <th>trackUri</th>\n",
       "      <th>trackTitle</th>\n",
       "      <th>roleCredits</th>\n",
       "      <th>extendedCredits</th>\n",
       "      <th>sourceNames</th>\n",
       "    </tr>\n",
       "    <tr>\n",
       "      <th>track_id</th>\n",
       "      <th></th>\n",
       "      <th></th>\n",
       "      <th></th>\n",
       "      <th></th>\n",
       "      <th></th>\n",
       "    </tr>\n",
       "  </thead>\n",
       "  <tbody>\n",
       "    <tr>\n",
       "      <th>01ARBHp9XYwUOiQHIR2F3Y</th>\n",
       "      <td>spotify:track:01ARBHp9XYwUOiQHIR2F3Y</td>\n",
       "      <td>I Wish</td>\n",
       "      <td>[{'roleTitle': 'Performers', 'artists': [{'uri...</td>\n",
       "      <td>[]</td>\n",
       "      <td>[Alan 1]</td>\n",
       "    </tr>\n",
       "    <tr>\n",
       "      <th>6QQ51riWstSxoNWBdOYRuV</th>\n",
       "      <td>spotify:track:6QQ51riWstSxoNWBdOYRuV</td>\n",
       "      <td>Callaloo</td>\n",
       "      <td>[{'roleTitle': 'Performers', 'artists': [{'uri...</td>\n",
       "      <td>[]</td>\n",
       "      <td>[Antarktis Records]</td>\n",
       "    </tr>\n",
       "    <tr>\n",
       "      <th>1xYzN6PXSwoOChUJnq8eJU</th>\n",
       "      <td>spotify:track:1xYzN6PXSwoOChUJnq8eJU</td>\n",
       "      <td>Intro</td>\n",
       "      <td>[{'roleTitle': 'Performers', 'artists': [{'uri...</td>\n",
       "      <td>[]</td>\n",
       "      <td>[Rec. 118 / Mal Luné Music]</td>\n",
       "    </tr>\n",
       "    <tr>\n",
       "      <th>3GAz3o5o3lZGUOPUSPG8ul</th>\n",
       "      <td>spotify:track:3GAz3o5o3lZGUOPUSPG8ul</td>\n",
       "      <td>Intro : DT sugA (Feat. DJ Friz)</td>\n",
       "      <td>[{'roleTitle': 'Performers', 'artists': [{'uri...</td>\n",
       "      <td>[]</td>\n",
       "      <td>[BIGHIT MUSIC]</td>\n",
       "    </tr>\n",
       "    <tr>\n",
       "      <th>7GXr7pcHuyCMgYeZ1mb9OW</th>\n",
       "      <td>spotify:track:7GXr7pcHuyCMgYeZ1mb9OW</td>\n",
       "      <td>A+</td>\n",
       "      <td>[{'roleTitle': 'Performers', 'artists': [{'uri...</td>\n",
       "      <td>[]</td>\n",
       "      <td>[AlphapopOriginal]</td>\n",
       "    </tr>\n",
       "  </tbody>\n",
       "</table>\n",
       "</div>"
      ],
      "text/plain": [
       "                                                    trackUri  \\\n",
       "track_id                                                       \n",
       "01ARBHp9XYwUOiQHIR2F3Y  spotify:track:01ARBHp9XYwUOiQHIR2F3Y   \n",
       "6QQ51riWstSxoNWBdOYRuV  spotify:track:6QQ51riWstSxoNWBdOYRuV   \n",
       "1xYzN6PXSwoOChUJnq8eJU  spotify:track:1xYzN6PXSwoOChUJnq8eJU   \n",
       "3GAz3o5o3lZGUOPUSPG8ul  spotify:track:3GAz3o5o3lZGUOPUSPG8ul   \n",
       "7GXr7pcHuyCMgYeZ1mb9OW  spotify:track:7GXr7pcHuyCMgYeZ1mb9OW   \n",
       "\n",
       "                                             trackTitle  \\\n",
       "track_id                                                  \n",
       "01ARBHp9XYwUOiQHIR2F3Y                           I Wish   \n",
       "6QQ51riWstSxoNWBdOYRuV                         Callaloo   \n",
       "1xYzN6PXSwoOChUJnq8eJU                            Intro   \n",
       "3GAz3o5o3lZGUOPUSPG8ul  Intro : DT sugA (Feat. DJ Friz)   \n",
       "7GXr7pcHuyCMgYeZ1mb9OW                               A+   \n",
       "\n",
       "                                                              roleCredits  \\\n",
       "track_id                                                                    \n",
       "01ARBHp9XYwUOiQHIR2F3Y  [{'roleTitle': 'Performers', 'artists': [{'uri...   \n",
       "6QQ51riWstSxoNWBdOYRuV  [{'roleTitle': 'Performers', 'artists': [{'uri...   \n",
       "1xYzN6PXSwoOChUJnq8eJU  [{'roleTitle': 'Performers', 'artists': [{'uri...   \n",
       "3GAz3o5o3lZGUOPUSPG8ul  [{'roleTitle': 'Performers', 'artists': [{'uri...   \n",
       "7GXr7pcHuyCMgYeZ1mb9OW  [{'roleTitle': 'Performers', 'artists': [{'uri...   \n",
       "\n",
       "                       extendedCredits                  sourceNames  \n",
       "track_id                                                             \n",
       "01ARBHp9XYwUOiQHIR2F3Y              []                     [Alan 1]  \n",
       "6QQ51riWstSxoNWBdOYRuV              []          [Antarktis Records]  \n",
       "1xYzN6PXSwoOChUJnq8eJU              []  [Rec. 118 / Mal Luné Music]  \n",
       "3GAz3o5o3lZGUOPUSPG8ul              []               [BIGHIT MUSIC]  \n",
       "7GXr7pcHuyCMgYeZ1mb9OW              []           [AlphapopOriginal]  "
      ]
     },
     "execution_count": 4,
     "metadata": {},
     "output_type": "execute_result"
    }
   ],
   "source": [
    "credits_df = pd.DataFrame.from_records(credits_api_resp['content'], index=credits_api_resp.index)\n",
    "credits_df.head()"
   ]
  },
  {
   "cell_type": "code",
   "execution_count": 5,
   "metadata": {},
   "outputs": [
    {
     "data": {
      "text/plain": [
       "0    163681\n",
       "Name: extendedCredits, dtype: int64"
      ]
     },
     "execution_count": 5,
     "metadata": {},
     "output_type": "execute_result"
    }
   ],
   "source": [
    "credits_df.extendedCredits.apply(len).value_counts()"
   ]
  },
  {
   "cell_type": "markdown",
   "metadata": {},
   "source": [
    "Looks like the extended credits aren't used at all at this moment."
   ]
  },
  {
   "cell_type": "code",
   "execution_count": 6,
   "metadata": {},
   "outputs": [
    {
     "data": {
      "text/plain": [
       "trackUri                        spotify:track:6mICuAdrwEjh6Y6lroV2Kg\n",
       "trackTitle                                   Chantaje (feat. Maluma)\n",
       "roleCredits        [{'roleTitle': 'Performers', 'artists': [{'uri...\n",
       "extendedCredits                                                   []\n",
       "sourceNames                [Sony Music Latin, Sony Music Publishing]\n",
       "Name: 6mICuAdrwEjh6Y6lroV2Kg, dtype: object"
      ]
     },
     "execution_count": 6,
     "metadata": {},
     "output_type": "execute_result"
    }
   ],
   "source": [
    "example_credits = credits_df.loc['6mICuAdrwEjh6Y6lroV2Kg']\n",
    "example_credits"
   ]
  },
  {
   "cell_type": "code",
   "execution_count": 7,
   "metadata": {},
   "outputs": [],
   "source": [
    "temp_data_folder_path = 'data' # create data folder in directory of this notebook -> store JSON files etc. there for easier inspection (with code editor) than in notebook output"
   ]
  },
  {
   "cell_type": "code",
   "execution_count": 8,
   "metadata": {},
   "outputs": [],
   "source": [
    "write_series_to_file_as_prettified_json(example_credits, os.path.join(temp_data_folder_path, \"example_credits.json\"))"
   ]
  },
  {
   "cell_type": "code",
   "execution_count": 9,
   "metadata": {},
   "outputs": [
    {
     "data": {
      "text/plain": [
       "'https://open.spotify.com/track/6mICuAdrwEjh6Y6lroV2Kg'"
      ]
     },
     "execution_count": 9,
     "metadata": {},
     "output_type": "execute_result"
    }
   ],
   "source": [
    "get_spotify_track_link(example_credits.name) # check the link and open the song page for reference"
   ]
  },
  {
   "cell_type": "markdown",
   "metadata": {},
   "source": [
    "We see that internally, Spotify collects more detailed information about song credits than what is actually displayed in the web app. Even 'creator URIs' are mentioned, which do not exist at all in the public API!\n",
    "\n",
    "Furthermore, it is convenient, that in the internal API the artist ID is (at least sometimes) also included if an artist also appears as a producer (see the example). \n",
    "\n",
    "However, unfortunately the data still looks messy: in the example, Shakira is mentioned as performer, writer, and producer, but the link to her artist page is missing for the writer entry is missing. This makes it more difficult to automatically match artist name and artist ID..."
   ]
  },
  {
   "cell_type": "code",
   "execution_count": 10,
   "metadata": {},
   "outputs": [
    {
     "data": {
      "text/html": [
       "<div>\n",
       "<style scoped>\n",
       "    .dataframe tbody tr th:only-of-type {\n",
       "        vertical-align: middle;\n",
       "    }\n",
       "\n",
       "    .dataframe tbody tr th {\n",
       "        vertical-align: top;\n",
       "    }\n",
       "\n",
       "    .dataframe thead th {\n",
       "        text-align: right;\n",
       "    }\n",
       "</style>\n",
       "<table border=\"1\" class=\"dataframe\">\n",
       "  <thead>\n",
       "    <tr style=\"text-align: right;\">\n",
       "      <th></th>\n",
       "      <th>roleCredits</th>\n",
       "    </tr>\n",
       "    <tr>\n",
       "      <th>track_id</th>\n",
       "      <th></th>\n",
       "    </tr>\n",
       "  </thead>\n",
       "  <tbody>\n",
       "    <tr>\n",
       "      <th>01ARBHp9XYwUOiQHIR2F3Y</th>\n",
       "      <td>[{'roleTitle': 'Performers', 'artists': [{'uri...</td>\n",
       "    </tr>\n",
       "    <tr>\n",
       "      <th>6QQ51riWstSxoNWBdOYRuV</th>\n",
       "      <td>[{'roleTitle': 'Performers', 'artists': [{'uri...</td>\n",
       "    </tr>\n",
       "    <tr>\n",
       "      <th>1xYzN6PXSwoOChUJnq8eJU</th>\n",
       "      <td>[{'roleTitle': 'Performers', 'artists': [{'uri...</td>\n",
       "    </tr>\n",
       "    <tr>\n",
       "      <th>3GAz3o5o3lZGUOPUSPG8ul</th>\n",
       "      <td>[{'roleTitle': 'Performers', 'artists': [{'uri...</td>\n",
       "    </tr>\n",
       "    <tr>\n",
       "      <th>7GXr7pcHuyCMgYeZ1mb9OW</th>\n",
       "      <td>[{'roleTitle': 'Performers', 'artists': [{'uri...</td>\n",
       "    </tr>\n",
       "  </tbody>\n",
       "</table>\n",
       "</div>"
      ],
      "text/plain": [
       "                                                              roleCredits\n",
       "track_id                                                                 \n",
       "01ARBHp9XYwUOiQHIR2F3Y  [{'roleTitle': 'Performers', 'artists': [{'uri...\n",
       "6QQ51riWstSxoNWBdOYRuV  [{'roleTitle': 'Performers', 'artists': [{'uri...\n",
       "1xYzN6PXSwoOChUJnq8eJU  [{'roleTitle': 'Performers', 'artists': [{'uri...\n",
       "3GAz3o5o3lZGUOPUSPG8ul  [{'roleTitle': 'Performers', 'artists': [{'uri...\n",
       "7GXr7pcHuyCMgYeZ1mb9OW  [{'roleTitle': 'Performers', 'artists': [{'uri..."
      ]
     },
     "execution_count": 10,
     "metadata": {},
     "output_type": "execute_result"
    }
   ],
   "source": [
    "role_credits = pd.DataFrame(credits_df.roleCredits, index=credits_df.index)\n",
    "role_credits.head()"
   ]
  },
  {
   "cell_type": "code",
   "execution_count": 11,
   "metadata": {},
   "outputs": [
    {
     "data": {
      "text/plain": [
       "[{'roleTitle': 'Performers',\n",
       "  'artists': [{'uri': 'spotify:artist:0z3xCl4Nsx6ok5sJy8xIJN',\n",
       "    'name': 'Alan 1',\n",
       "    'imageUri': 'https://i.scdn.co/image/ab677762000078e645c984e8c82f9ce15ebf1f51',\n",
       "    'subroles': ['main artist'],\n",
       "    'weight': 0.8999999761581421}]},\n",
       " {'roleTitle': 'Writers', 'artists': []},\n",
       " {'roleTitle': 'Producers', 'artists': []}]"
      ]
     },
     "execution_count": 11,
     "metadata": {},
     "output_type": "execute_result"
    }
   ],
   "source": [
    "role_credits.iloc[0].roleCredits"
   ]
  },
  {
   "cell_type": "code",
   "execution_count": 12,
   "metadata": {},
   "outputs": [
    {
     "data": {
      "text/html": [
       "<div>\n",
       "<style scoped>\n",
       "    .dataframe tbody tr th:only-of-type {\n",
       "        vertical-align: middle;\n",
       "    }\n",
       "\n",
       "    .dataframe tbody tr th {\n",
       "        vertical-align: top;\n",
       "    }\n",
       "\n",
       "    .dataframe thead th {\n",
       "        text-align: right;\n",
       "    }\n",
       "</style>\n",
       "<table border=\"1\" class=\"dataframe\">\n",
       "  <thead>\n",
       "    <tr style=\"text-align: right;\">\n",
       "      <th></th>\n",
       "      <th>uri</th>\n",
       "      <th>name</th>\n",
       "      <th>imageUri</th>\n",
       "      <th>subroles</th>\n",
       "      <th>weight</th>\n",
       "      <th>roleTitle</th>\n",
       "      <th>pos</th>\n",
       "      <th>track_id</th>\n",
       "      <th>externalUrl</th>\n",
       "      <th>creatorUri</th>\n",
       "    </tr>\n",
       "  </thead>\n",
       "  <tbody>\n",
       "    <tr>\n",
       "      <th>0</th>\n",
       "      <td>spotify:artist:0z3xCl4Nsx6ok5sJy8xIJN</td>\n",
       "      <td>Alan 1</td>\n",
       "      <td>https://i.scdn.co/image/ab677762000078e645c984...</td>\n",
       "      <td>[main artist]</td>\n",
       "      <td>0.9000</td>\n",
       "      <td>Performer</td>\n",
       "      <td>1</td>\n",
       "      <td>01ARBHp9XYwUOiQHIR2F3Y</td>\n",
       "      <td>NaN</td>\n",
       "      <td>NaN</td>\n",
       "    </tr>\n",
       "    <tr>\n",
       "      <th>1</th>\n",
       "      <td>spotify:artist:3wLF9BqfbAd67GNKJlqq9o</td>\n",
       "      <td>Champion J.R</td>\n",
       "      <td>https://i.scdn.co/image/ab677762000078e6aae517...</td>\n",
       "      <td>[main artist]</td>\n",
       "      <td>0.9000</td>\n",
       "      <td>Performer</td>\n",
       "      <td>1</td>\n",
       "      <td>6QQ51riWstSxoNWBdOYRuV</td>\n",
       "      <td>NaN</td>\n",
       "      <td>NaN</td>\n",
       "    </tr>\n",
       "    <tr>\n",
       "      <th>2</th>\n",
       "      <td>spotify:artist:0K6fzyWWBati6Zlr6qveA8</td>\n",
       "      <td>Erik Emanuel</td>\n",
       "      <td>https://i.scdn.co/image/ab677762000078e645c984...</td>\n",
       "      <td>[featured artist]</td>\n",
       "      <td>0.7999</td>\n",
       "      <td>Performer</td>\n",
       "      <td>2</td>\n",
       "      <td>6QQ51riWstSxoNWBdOYRuV</td>\n",
       "      <td>NaN</td>\n",
       "      <td>NaN</td>\n",
       "    </tr>\n",
       "    <tr>\n",
       "      <th>3</th>\n",
       "      <td>spotify:artist:6Te49r3A6f5BiIgBRxH7FH</td>\n",
       "      <td>Ninho</td>\n",
       "      <td>https://i.scdn.co/image/ab677762000078e6d2b377...</td>\n",
       "      <td>[main artist]</td>\n",
       "      <td>0.9000</td>\n",
       "      <td>Performer</td>\n",
       "      <td>1</td>\n",
       "      <td>1xYzN6PXSwoOChUJnq8eJU</td>\n",
       "      <td>NaN</td>\n",
       "      <td>NaN</td>\n",
       "    </tr>\n",
       "    <tr>\n",
       "      <th>4</th>\n",
       "      <td>spotify:artist:3I1nR638eYPb9CV6SdN6F1</td>\n",
       "      <td>Kozbeatz</td>\n",
       "      <td>https://i.scdn.co/image/ab677762000078e6afc079...</td>\n",
       "      <td>[composer]</td>\n",
       "      <td>0.6992</td>\n",
       "      <td>Writer</td>\n",
       "      <td>1</td>\n",
       "      <td>1xYzN6PXSwoOChUJnq8eJU</td>\n",
       "      <td>NaN</td>\n",
       "      <td>NaN</td>\n",
       "    </tr>\n",
       "  </tbody>\n",
       "</table>\n",
       "</div>"
      ],
      "text/plain": [
       "                                     uri          name  \\\n",
       "0  spotify:artist:0z3xCl4Nsx6ok5sJy8xIJN        Alan 1   \n",
       "1  spotify:artist:3wLF9BqfbAd67GNKJlqq9o  Champion J.R   \n",
       "2  spotify:artist:0K6fzyWWBati6Zlr6qveA8  Erik Emanuel   \n",
       "3  spotify:artist:6Te49r3A6f5BiIgBRxH7FH         Ninho   \n",
       "4  spotify:artist:3I1nR638eYPb9CV6SdN6F1      Kozbeatz   \n",
       "\n",
       "                                            imageUri           subroles  \\\n",
       "0  https://i.scdn.co/image/ab677762000078e645c984...      [main artist]   \n",
       "1  https://i.scdn.co/image/ab677762000078e6aae517...      [main artist]   \n",
       "2  https://i.scdn.co/image/ab677762000078e645c984...  [featured artist]   \n",
       "3  https://i.scdn.co/image/ab677762000078e6d2b377...      [main artist]   \n",
       "4  https://i.scdn.co/image/ab677762000078e6afc079...         [composer]   \n",
       "\n",
       "   weight  roleTitle  pos                track_id externalUrl creatorUri  \n",
       "0  0.9000  Performer    1  01ARBHp9XYwUOiQHIR2F3Y         NaN        NaN  \n",
       "1  0.9000  Performer    1  6QQ51riWstSxoNWBdOYRuV         NaN        NaN  \n",
       "2  0.7999  Performer    2  6QQ51riWstSxoNWBdOYRuV         NaN        NaN  \n",
       "3  0.9000  Performer    1  1xYzN6PXSwoOChUJnq8eJU         NaN        NaN  \n",
       "4  0.6992     Writer    1  1xYzN6PXSwoOChUJnq8eJU         NaN        NaN  "
      ]
     },
     "execution_count": 12,
     "metadata": {},
     "output_type": "execute_result"
    }
   ],
   "source": [
    "def create_role_credits_rows(track_id: str, role_credits: list):\n",
    "    roles = []\n",
    "    for role in role_credits:\n",
    "        title = role['roleTitle']\n",
    "        for i, artist in enumerate(role['artists']):\n",
    "            roles.append({\n",
    "                **artist,\n",
    "                'roleTitle': title[:-1],\n",
    "                'pos': i + 1,\n",
    "                'track_id': track_id\n",
    "            })\n",
    "    return roles\n",
    "\n",
    "roles = []\n",
    "\n",
    "for track_id, role_credits in credits_df.roleCredits.items():\n",
    "    roles.extend(create_role_credits_rows(track_id, role_credits))\n",
    "\n",
    "roles = pd.DataFrame(roles)\n",
    "roles.head()"
   ]
  },
  {
   "cell_type": "code",
   "execution_count": 13,
   "metadata": {},
   "outputs": [
    {
     "data": {
      "text/plain": [
       "uri            0.913244\n",
       "name           1.000000\n",
       "imageUri       0.913244\n",
       "subroles       1.000000\n",
       "weight         1.000000\n",
       "roleTitle      1.000000\n",
       "pos            1.000000\n",
       "track_id       1.000000\n",
       "externalUrl    0.037715\n",
       "creatorUri     0.037715\n",
       "dtype: float64"
      ]
     },
     "execution_count": 13,
     "metadata": {},
     "output_type": "execute_result"
    }
   ],
   "source": [
    "# get missingness stats for all columns\n",
    "1 - roles.isna().mean()"
   ]
  },
  {
   "cell_type": "markdown",
   "metadata": {},
   "source": [
    "Does the data only contain artist URIs in the `uri` column?"
   ]
  },
  {
   "cell_type": "code",
   "execution_count": 14,
   "metadata": {},
   "outputs": [
    {
     "data": {
      "text/plain": [
       "spotify:artist    751743\n",
       "Name: uri, dtype: int64"
      ]
     },
     "execution_count": 14,
     "metadata": {},
     "output_type": "execute_result"
    }
   ],
   "source": [
    "first_uri_chars = roles.uri.str.slice(0, len('spotify:artist'))\n",
    "first_uri_chars.value_counts()\n"
   ]
  },
  {
   "cell_type": "markdown",
   "metadata": {},
   "source": [
    "Is there a relationship between the `externalUrl` and `creatorUri` columns?"
   ]
  },
  {
   "cell_type": "code",
   "execution_count": 15,
   "metadata": {},
   "outputs": [
    {
     "data": {
      "text/plain": [
       "31045"
      ]
     },
     "execution_count": 15,
     "metadata": {},
     "output_type": "execute_result"
    }
   ],
   "source": [
    "roles[roles.externalUrl.notna()].shape[0]"
   ]
  },
  {
   "cell_type": "code",
   "execution_count": 16,
   "metadata": {},
   "outputs": [
    {
     "data": {
      "text/plain": [
       "31045"
      ]
     },
     "execution_count": 16,
     "metadata": {},
     "output_type": "execute_result"
    }
   ],
   "source": [
    "roles[roles.externalUrl.notna()].shape[0]"
   ]
  },
  {
   "cell_type": "code",
   "execution_count": 17,
   "metadata": {},
   "outputs": [
    {
     "data": {
      "text/plain": [
       "31045"
      ]
     },
     "execution_count": 17,
     "metadata": {},
     "output_type": "execute_result"
    }
   ],
   "source": [
    "roles[roles.creatorUri.notna()].shape[0]"
   ]
  },
  {
   "cell_type": "code",
   "execution_count": 18,
   "metadata": {},
   "outputs": [
    {
     "data": {
      "text/plain": [
       "'https://artists.spotify.com/songwriter/1jSqmWuKCLxIcJolEbQTRP'"
      ]
     },
     "execution_count": 18,
     "metadata": {},
     "output_type": "execute_result"
    }
   ],
   "source": [
    "roles[roles.externalUrl.notna()].iloc[0].externalUrl"
   ]
  },
  {
   "cell_type": "code",
   "execution_count": 19,
   "metadata": {},
   "outputs": [
    {
     "data": {
      "text/plain": [
       "True    31045\n",
       "Name: externalUrl, dtype: int64"
      ]
     },
     "execution_count": 19,
     "metadata": {},
     "output_type": "execute_result"
    }
   ],
   "source": [
    "roles.externalUrl.str.startswith('https://artists.spotify.com/songwriter/').value_counts()"
   ]
  },
  {
   "cell_type": "code",
   "execution_count": 20,
   "metadata": {},
   "outputs": [
    {
     "data": {
      "text/plain": [
       "0"
      ]
     },
     "execution_count": 20,
     "metadata": {},
     "output_type": "execute_result"
    }
   ],
   "source": [
    "roles[roles.externalUrl.notna() & (roles.externalUrl.str.startswith('https://artists.spotify.com/songwriter/') != True)].shape[0]"
   ]
  },
  {
   "cell_type": "code",
   "execution_count": 21,
   "metadata": {},
   "outputs": [
    {
     "data": {
      "text/plain": [
       "'spotify:songwriter:1jSqmWuKCLxIcJolEbQTRP'"
      ]
     },
     "execution_count": 21,
     "metadata": {},
     "output_type": "execute_result"
    }
   ],
   "source": [
    "roles[roles.externalUrl.notna()].iloc[0].creatorUri"
   ]
  },
  {
   "cell_type": "code",
   "execution_count": 22,
   "metadata": {},
   "outputs": [
    {
     "data": {
      "text/plain": [
       "0"
      ]
     },
     "execution_count": 22,
     "metadata": {},
     "output_type": "execute_result"
    }
   ],
   "source": [
    "roles[roles.creatorUri.notna() & (roles.creatorUri.str.startswith('spotify:songwriter:') != True)].shape[0]"
   ]
  },
  {
   "cell_type": "markdown",
   "metadata": {},
   "source": [
    "Looks like there is a clear relationship between the `externalUrl` and `creatorUri`: Every external URL in the collected data relates to a particular creator URI! The external URL is not really external: It points to another Spotify page (separate from the Spotify web app) where one can get even more insights about particular songwriters whose tracks can be found on Spotify."
   ]
  },
  {
   "cell_type": "code",
   "execution_count": 23,
   "metadata": {},
   "outputs": [
    {
     "data": {
      "text/plain": [
       "Writer       410483\n",
       "Performer    249329\n",
       "Producer     163345\n",
       "Name: roleTitle, dtype: int64"
      ]
     },
     "execution_count": 23,
     "metadata": {},
     "output_type": "execute_result"
    }
   ],
   "source": [
    "roles.roleTitle.value_counts()"
   ]
  },
  {
   "cell_type": "code",
   "execution_count": 24,
   "metadata": {},
   "outputs": [
    {
     "data": {
      "text/plain": [
       "1    667138\n",
       "2     84128\n",
       "0     71414\n",
       "3       452\n",
       "4        24\n",
       "6         1\n",
       "Name: subroles, dtype: int64"
      ]
     },
     "execution_count": 24,
     "metadata": {},
     "output_type": "execute_result"
    }
   ],
   "source": [
    "roles.subroles.apply(len).value_counts()"
   ]
  },
  {
   "cell_type": "code",
   "execution_count": 25,
   "metadata": {},
   "outputs": [],
   "source": [
    "# remove duplicates in every subroles array\n",
    "roles.subroles = roles.subroles.apply(lambda x: list(set(x)))"
   ]
  },
  {
   "cell_type": "markdown",
   "metadata": {},
   "source": [
    "## Exploring data by role title (Writer, Producer, Performer)"
   ]
  },
  {
   "cell_type": "code",
   "execution_count": 26,
   "metadata": {},
   "outputs": [],
   "source": [
    "writers = roles[roles.roleTitle == 'Writer'].drop(columns=['roleTitle'])"
   ]
  },
  {
   "cell_type": "code",
   "execution_count": 27,
   "metadata": {},
   "outputs": [],
   "source": [
    "producers = roles[roles.roleTitle == 'Producer'].drop(columns=['roleTitle'])"
   ]
  },
  {
   "cell_type": "code",
   "execution_count": 28,
   "metadata": {},
   "outputs": [],
   "source": [
    "performers = roles[roles.roleTitle == 'Performer'].drop(columns=['roleTitle'])"
   ]
  },
  {
   "cell_type": "code",
   "execution_count": 29,
   "metadata": {},
   "outputs": [
    {
     "data": {
      "text/plain": [
       "[composer]                      169127\n",
       "[composer, lyricist]             72813\n",
       "[]                               71414\n",
       "[lyricist]                       44093\n",
       "[author]                         24012\n",
       "[writer]                         17954\n",
       "[composer, author]                7738\n",
       "[composer, writer]                1914\n",
       "[writer, lyricist]                 896\n",
       "[composer, writer, lyricist]       337\n",
       "[composer, writer, author]          87\n",
       "[writer, author]                    44\n",
       "[lyricist, author]                  38\n",
       "[composer, lyricist, author]        16\n",
       "Name: subroles, dtype: int64"
      ]
     },
     "execution_count": 29,
     "metadata": {},
     "output_type": "execute_result"
    }
   ],
   "source": [
    "writers.subroles.value_counts()"
   ]
  },
  {
   "cell_type": "code",
   "execution_count": 30,
   "metadata": {},
   "outputs": [
    {
     "data": {
      "text/plain": [
       "[producer]    163345\n",
       "Name: subroles, dtype: int64"
      ]
     },
     "execution_count": 30,
     "metadata": {},
     "output_type": "execute_result"
    }
   ],
   "source": [
    "producers.subroles.value_counts()"
   ]
  },
  {
   "cell_type": "code",
   "execution_count": 31,
   "metadata": {},
   "outputs": [
    {
     "data": {
      "text/plain": [
       "[main artist]                          214940\n",
       "[featured artist]                       32064\n",
       "[remixer]                                 781\n",
       "[conductor]                               587\n",
       "[remixer, main artist]                    332\n",
       "[orchestra]                               315\n",
       "[featured artist, main artist]            192\n",
       "[featured artist, remixer]                 39\n",
       "[conductor, main artist]                   34\n",
       "[orchestra, main artist]                   30\n",
       "[orchestra, featured artist]                5\n",
       "[conductor, orchestra]                      4\n",
       "[conductor, orchestra, main artist]         3\n",
       "[orchestra, remixer]                        2\n",
       "[orchestra, remixer, main artist]           1\n",
       "Name: subroles, dtype: int64"
      ]
     },
     "execution_count": 31,
     "metadata": {},
     "output_type": "execute_result"
    }
   ],
   "source": [
    "performers.subroles.value_counts()"
   ]
  },
  {
   "cell_type": "code",
   "execution_count": 32,
   "metadata": {},
   "outputs": [
    {
     "data": {
      "text/plain": [
       "uri            0.826024\n",
       "name           1.000000\n",
       "imageUri       0.826024\n",
       "subroles       1.000000\n",
       "weight         1.000000\n",
       "pos            1.000000\n",
       "track_id       1.000000\n",
       "externalUrl    0.075630\n",
       "creatorUri     0.075630\n",
       "dtype: float64"
      ]
     },
     "execution_count": 32,
     "metadata": {},
     "output_type": "execute_result"
    }
   ],
   "source": [
    "1 - writers.isna().mean()"
   ]
  },
  {
   "cell_type": "code",
   "execution_count": 33,
   "metadata": {},
   "outputs": [
    {
     "data": {
      "text/plain": [
       "uri            1.0\n",
       "name           1.0\n",
       "imageUri       1.0\n",
       "subroles       1.0\n",
       "weight         1.0\n",
       "pos            1.0\n",
       "track_id       1.0\n",
       "externalUrl    0.0\n",
       "creatorUri     0.0\n",
       "dtype: float64"
      ]
     },
     "execution_count": 33,
     "metadata": {},
     "output_type": "execute_result"
    }
   ],
   "source": [
    "1 - producers.isna().mean()"
   ]
  },
  {
   "cell_type": "code",
   "execution_count": 34,
   "metadata": {},
   "outputs": [
    {
     "data": {
      "text/plain": [
       "uri            1.0\n",
       "name           1.0\n",
       "imageUri       1.0\n",
       "subroles       1.0\n",
       "weight         1.0\n",
       "pos            1.0\n",
       "track_id       1.0\n",
       "externalUrl    0.0\n",
       "creatorUri     0.0\n",
       "dtype: float64"
      ]
     },
     "execution_count": 34,
     "metadata": {},
     "output_type": "execute_result"
    }
   ],
   "source": [
    "1 - performers.isna().mean()"
   ]
  },
  {
   "cell_type": "markdown",
   "metadata": {},
   "source": [
    "Looks like only songwriters don't have a Spotify artist URI in some cases, while **all** performers and producers have one (which is AWESOME). Also, the creator URI is only relevant (i.e. available in some rare cases) for the songwriters."
   ]
  }
 ],
 "metadata": {
  "kernelspec": {
   "display_name": "spotify-charts-analysis",
   "language": "python",
   "name": "python3"
  },
  "language_info": {
   "codemirror_mode": {
    "name": "ipython",
    "version": 3
   },
   "file_extension": ".py",
   "mimetype": "text/x-python",
   "name": "python",
   "nbconvert_exporter": "python",
   "pygments_lexer": "ipython3",
   "version": "3.10.11"
  },
  "orig_nbformat": 4
 },
 "nbformat": 4,
 "nbformat_minor": 2
}
