{
  "cells": [
    {
      "attachments": {},
      "cell_type": "markdown",
      "metadata": {},
      "source": [
        "## Artist data"
      ]
    },
    {
      "cell_type": "code",
      "execution_count": 1,
      "metadata": {},
      "outputs": [],
      "source": [
        "import pandas as pd\n",
        "from helpers.data import (\n",
        "    create_data_path,\n",
        "    load_parquet_files_in_dir\n",
        ")\n",
        "import os\n",
        "\n",
        "data_folder = create_data_path(\"top200_Jan_2017_to_June_2023\")"
      ]
    },
    {
      "cell_type": "code",
      "execution_count": 2,
      "metadata": {},
      "outputs": [
        {
          "data": {
            "text/plain": [
              "dict_keys(['genres', 'original_responses', 'images', 'metadata'])"
            ]
          },
          "execution_count": 2,
          "metadata": {},
          "output_type": "execute_result"
        }
      ],
      "source": [
        "artist_data_dir =  os.path.join(data_folder, \"artists\")\n",
        "artist_df_dict = load_parquet_files_in_dir(artist_data_dir)\n",
        "artist_df_dict.keys()"
      ]
    },
    {
      "cell_type": "code",
      "execution_count": 3,
      "metadata": {},
      "outputs": [
        {
          "data": {
            "text/html": [
              "<div>\n",
              "<style scoped>\n",
              "    .dataframe tbody tr th:only-of-type {\n",
              "        vertical-align: middle;\n",
              "    }\n",
              "\n",
              "    .dataframe tbody tr th {\n",
              "        vertical-align: top;\n",
              "    }\n",
              "\n",
              "    .dataframe thead th {\n",
              "        text-align: right;\n",
              "    }\n",
              "</style>\n",
              "<table border=\"1\" class=\"dataframe\">\n",
              "  <thead>\n",
              "    <tr style=\"text-align: right;\">\n",
              "      <th></th>\n",
              "      <th>followers</th>\n",
              "      <th>name</th>\n",
              "    </tr>\n",
              "    <tr>\n",
              "      <th>artist_id</th>\n",
              "      <th></th>\n",
              "      <th></th>\n",
              "    </tr>\n",
              "  </thead>\n",
              "  <tbody>\n",
              "    <tr>\n",
              "      <th>4KOIqm3HfmXTHdFaxzbg6V</th>\n",
              "      <td>53</td>\n",
              "      <td>Den nye Mads Hansen</td>\n",
              "    </tr>\n",
              "    <tr>\n",
              "      <th>3DOs7Bsr9x4eJHqv6ViPvR</th>\n",
              "      <td>155680</td>\n",
              "      <td>BY2</td>\n",
              "    </tr>\n",
              "    <tr>\n",
              "      <th>6GKgflSYzKRuWOUG4GSHAO</th>\n",
              "      <td>737</td>\n",
              "      <td>Sahdev Dirdo</td>\n",
              "    </tr>\n",
              "    <tr>\n",
              "      <th>0CxYQi3VnWYI0Un6oyyaEB</th>\n",
              "      <td>18875</td>\n",
              "      <td>Palina</td>\n",
              "    </tr>\n",
              "    <tr>\n",
              "      <th>4kpoYPOSgCl2jYvCm6Cp05</th>\n",
              "      <td>134888</td>\n",
              "      <td>Muhammad Al Muqit</td>\n",
              "    </tr>\n",
              "  </tbody>\n",
              "</table>\n",
              "</div>"
            ],
            "text/plain": [
              "                        followers                 name\n",
              "artist_id                                             \n",
              "4KOIqm3HfmXTHdFaxzbg6V         53  Den nye Mads Hansen\n",
              "3DOs7Bsr9x4eJHqv6ViPvR     155680                  BY2\n",
              "6GKgflSYzKRuWOUG4GSHAO        737         Sahdev Dirdo\n",
              "0CxYQi3VnWYI0Un6oyyaEB      18875               Palina\n",
              "4kpoYPOSgCl2jYvCm6Cp05     134888    Muhammad Al Muqit"
            ]
          },
          "execution_count": 3,
          "metadata": {},
          "output_type": "execute_result"
        }
      ],
      "source": [
        "artist_metadata = artist_df_dict['metadata']\n",
        "artist_metadata.head()"
      ]
    },
    {
      "cell_type": "code",
      "execution_count": 4,
      "metadata": {},
      "outputs": [
        {
          "data": {
            "text/html": [
              "<div>\n",
              "<style scoped>\n",
              "    .dataframe tbody tr th:only-of-type {\n",
              "        vertical-align: middle;\n",
              "    }\n",
              "\n",
              "    .dataframe tbody tr th {\n",
              "        vertical-align: top;\n",
              "    }\n",
              "\n",
              "    .dataframe thead th {\n",
              "        text-align: right;\n",
              "    }\n",
              "</style>\n",
              "<table border=\"1\" class=\"dataframe\">\n",
              "  <thead>\n",
              "    <tr style=\"text-align: right;\">\n",
              "      <th></th>\n",
              "      <th>genre</th>\n",
              "    </tr>\n",
              "    <tr>\n",
              "      <th>artist_id</th>\n",
              "      <th></th>\n",
              "    </tr>\n",
              "  </thead>\n",
              "  <tbody>\n",
              "    <tr>\n",
              "      <th>3DOs7Bsr9x4eJHqv6ViPvR</th>\n",
              "      <td>mandopop</td>\n",
              "    </tr>\n",
              "    <tr>\n",
              "      <th>3DOs7Bsr9x4eJHqv6ViPvR</th>\n",
              "      <td>singaporean mandopop</td>\n",
              "    </tr>\n",
              "    <tr>\n",
              "      <th>3DOs7Bsr9x4eJHqv6ViPvR</th>\n",
              "      <td>singaporean pop</td>\n",
              "    </tr>\n",
              "    <tr>\n",
              "      <th>0CxYQi3VnWYI0Un6oyyaEB</th>\n",
              "      <td>belarusian indie</td>\n",
              "    </tr>\n",
              "    <tr>\n",
              "      <th>0CxYQi3VnWYI0Un6oyyaEB</th>\n",
              "      <td>russian alt pop</td>\n",
              "    </tr>\n",
              "  </tbody>\n",
              "</table>\n",
              "</div>"
            ],
            "text/plain": [
              "                                       genre\n",
              "artist_id                                   \n",
              "3DOs7Bsr9x4eJHqv6ViPvR              mandopop\n",
              "3DOs7Bsr9x4eJHqv6ViPvR  singaporean mandopop\n",
              "3DOs7Bsr9x4eJHqv6ViPvR       singaporean pop\n",
              "0CxYQi3VnWYI0Un6oyyaEB      belarusian indie\n",
              "0CxYQi3VnWYI0Un6oyyaEB       russian alt pop"
            ]
          },
          "execution_count": 4,
          "metadata": {},
          "output_type": "execute_result"
        }
      ],
      "source": [
        "artist_genres = artist_df_dict['genres']\n",
        "artist_genres.head()"
      ]
    },
    {
      "cell_type": "code",
      "execution_count": 5,
      "metadata": {},
      "outputs": [],
      "source": [
        "artist_images = artist_df_dict['images']"
      ]
    },
    {
      "cell_type": "markdown",
      "metadata": {},
      "source": [
        "## Original Responses"
      ]
    },
    {
      "cell_type": "code",
      "execution_count": 6,
      "metadata": {},
      "outputs": [
        {
          "data": {
            "text/html": [
              "<div>\n",
              "<style scoped>\n",
              "    .dataframe tbody tr th:only-of-type {\n",
              "        vertical-align: middle;\n",
              "    }\n",
              "\n",
              "    .dataframe tbody tr th {\n",
              "        vertical-align: top;\n",
              "    }\n",
              "\n",
              "    .dataframe thead th {\n",
              "        text-align: right;\n",
              "    }\n",
              "</style>\n",
              "<table border=\"1\" class=\"dataframe\">\n",
              "  <thead>\n",
              "    <tr style=\"text-align: right;\">\n",
              "      <th></th>\n",
              "      <th>source</th>\n",
              "      <th>content</th>\n",
              "      <th>timestamp</th>\n",
              "    </tr>\n",
              "  </thead>\n",
              "  <tbody>\n",
              "    <tr>\n",
              "      <th>0</th>\n",
              "      <td>Spotify API (spotipy v2.23.0, client method: '...</td>\n",
              "      <td>[{'album_id': '6bUxh58rYTL67FS8dyTKMN', 'album...</td>\n",
              "      <td>2023-08-01 20:48:05.175839</td>\n",
              "    </tr>\n",
              "    <tr>\n",
              "      <th>1</th>\n",
              "      <td>Spotify API (spotipy v2.23.0, client method: '...</td>\n",
              "      <td>[{'album_id': '68mjWwD3sLh4wONFIb2Upq', 'album...</td>\n",
              "      <td>2023-08-01 20:48:05.518130</td>\n",
              "    </tr>\n",
              "    <tr>\n",
              "      <th>2</th>\n",
              "      <td>Spotify API (spotipy v2.23.0, client method: '...</td>\n",
              "      <td>[{'album_id': '4YV0amQ85n4nCeSYyqW6Rz', 'album...</td>\n",
              "      <td>2023-08-01 20:48:05.843177</td>\n",
              "    </tr>\n",
              "    <tr>\n",
              "      <th>3</th>\n",
              "      <td>Spotify API (spotipy v2.23.0, client method: '...</td>\n",
              "      <td>[{'album_id': '3cz9fxBXppuImbufikGk2D', 'album...</td>\n",
              "      <td>2023-08-01 20:48:06.189859</td>\n",
              "    </tr>\n",
              "    <tr>\n",
              "      <th>4</th>\n",
              "      <td>Spotify API (spotipy v2.23.0, client method: '...</td>\n",
              "      <td>[{'album_id': '5dpzYigmd97HcZOxWMpv9h', 'album...</td>\n",
              "      <td>2023-08-01 20:48:06.501223</td>\n",
              "    </tr>\n",
              "  </tbody>\n",
              "</table>\n",
              "</div>"
            ],
            "text/plain": [
              "                                              source  \\\n",
              "0  Spotify API (spotipy v2.23.0, client method: '...   \n",
              "1  Spotify API (spotipy v2.23.0, client method: '...   \n",
              "2  Spotify API (spotipy v2.23.0, client method: '...   \n",
              "3  Spotify API (spotipy v2.23.0, client method: '...   \n",
              "4  Spotify API (spotipy v2.23.0, client method: '...   \n",
              "\n",
              "                                             content  \\\n",
              "0  [{'album_id': '6bUxh58rYTL67FS8dyTKMN', 'album...   \n",
              "1  [{'album_id': '68mjWwD3sLh4wONFIb2Upq', 'album...   \n",
              "2  [{'album_id': '4YV0amQ85n4nCeSYyqW6Rz', 'album...   \n",
              "3  [{'album_id': '3cz9fxBXppuImbufikGk2D', 'album...   \n",
              "4  [{'album_id': '5dpzYigmd97HcZOxWMpv9h', 'album...   \n",
              "\n",
              "                   timestamp  \n",
              "0 2023-08-01 20:48:05.175839  \n",
              "1 2023-08-01 20:48:05.518130  \n",
              "2 2023-08-01 20:48:05.843177  \n",
              "3 2023-08-01 20:48:06.189859  \n",
              "4 2023-08-01 20:48:06.501223  "
            ]
          },
          "execution_count": 6,
          "metadata": {},
          "output_type": "execute_result"
        }
      ],
      "source": [
        "original_responses = artist_df_dict['original_responses']\n",
        "original_responses.head()"
      ]
    },
    {
      "cell_type": "code",
      "execution_count": 7,
      "metadata": {},
      "outputs": [
        {
          "data": {
            "text/plain": [
              "Spotify API (spotipy v2.23.0, client method: 'artists')    5163\n",
              "Name: source, dtype: int64"
            ]
          },
          "execution_count": 7,
          "metadata": {},
          "output_type": "execute_result"
        }
      ],
      "source": [
        "original_responses.source.value_counts()"
      ]
    },
    {
      "cell_type": "code",
      "execution_count": 8,
      "metadata": {},
      "outputs": [
        {
          "data": {
            "text/plain": [
              "(Timestamp('2023-08-01 20:48:05.175839'),\n",
              " Timestamp('2023-08-01 21:09:51.697537'))"
            ]
          },
          "execution_count": 8,
          "metadata": {},
          "output_type": "execute_result"
        }
      ],
      "source": [
        "original_responses.timestamp.min(), original_responses.timestamp.max()"
      ]
    }
  ],
  "metadata": {
    "kernelspec": {
      "display_name": "spotify-charts-analysis",
      "language": "python",
      "name": "python3"
    },
    "language_info": {
      "codemirror_mode": {
        "name": "ipython",
        "version": 3
      },
      "file_extension": ".py",
      "mimetype": "text/x-python",
      "name": "python",
      "nbconvert_exporter": "python",
      "pygments_lexer": "ipython3",
      "version": "3.10.11"
    },
    "orig_nbformat": 4
  },
  "nbformat": 4,
  "nbformat_minor": 2
}
