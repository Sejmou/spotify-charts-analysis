{
  "cells": [
    {
      "attachments": {},
      "cell_type": "markdown",
      "metadata": {},
      "source": [
        "## Artist data"
      ]
    },
    {
      "cell_type": "code",
      "execution_count": 1,
      "metadata": {},
      "outputs": [],
      "source": [
        "import pandas as pd\n",
        "from helpers.data import (\n",
        "    create_data_path,\n",
        "    load_parquet_files_in_dir\n",
        ")\n",
        "import os\n",
        "\n",
        "data_folder = create_data_path(\"top200_Jan_2017_to_June_2023\")"
      ]
    },
    {
      "cell_type": "code",
      "execution_count": 2,
      "metadata": {},
      "outputs": [
        {
          "data": {
            "text/plain": [
              "dict_keys(['genres', 'images', 'metadata'])"
            ]
          },
          "execution_count": 2,
          "metadata": {},
          "output_type": "execute_result"
        }
      ],
      "source": [
        "artist_data_dir =  os.path.join(data_folder, \"artists\")\n",
        "artist_df_dict = load_parquet_files_in_dir(artist_data_dir)\n",
        "artist_df_dict.keys()"
      ]
    },
    {
      "cell_type": "code",
      "execution_count": 3,
      "metadata": {},
      "outputs": [
        {
          "data": {
            "text/html": [
              "<div>\n",
              "<style scoped>\n",
              "    .dataframe tbody tr th:only-of-type {\n",
              "        vertical-align: middle;\n",
              "    }\n",
              "\n",
              "    .dataframe tbody tr th {\n",
              "        vertical-align: top;\n",
              "    }\n",
              "\n",
              "    .dataframe thead th {\n",
              "        text-align: right;\n",
              "    }\n",
              "</style>\n",
              "<table border=\"1\" class=\"dataframe\">\n",
              "  <thead>\n",
              "    <tr style=\"text-align: right;\">\n",
              "      <th></th>\n",
              "      <th>followers</th>\n",
              "      <th>name</th>\n",
              "      <th>popularity</th>\n",
              "    </tr>\n",
              "    <tr>\n",
              "      <th>artist_id</th>\n",
              "      <th></th>\n",
              "      <th></th>\n",
              "      <th></th>\n",
              "    </tr>\n",
              "  </thead>\n",
              "  <tbody>\n",
              "    <tr>\n",
              "      <th>30C5wgn4celhRP3Tytv7R6</th>\n",
              "      <td>13584</td>\n",
              "      <td>Mez</td>\n",
              "      <td>49</td>\n",
              "    </tr>\n",
              "    <tr>\n",
              "      <th>4og9lYRD6weUueMRu8lbP4</th>\n",
              "      <td>54187</td>\n",
              "      <td>Gali Atari</td>\n",
              "      <td>36</td>\n",
              "    </tr>\n",
              "    <tr>\n",
              "      <th>1iC0iOxwU2oglYqtSr5NV7</th>\n",
              "      <td>7200</td>\n",
              "      <td>артилерія</td>\n",
              "      <td>28</td>\n",
              "    </tr>\n",
              "    <tr>\n",
              "      <th>2TPXXpBdhNonD9MgaoUevk</th>\n",
              "      <td>1351</td>\n",
              "      <td>Krizz Solano</td>\n",
              "      <td>5</td>\n",
              "    </tr>\n",
              "    <tr>\n",
              "      <th>7yLOR62W5h5j5Y4M8nHnAY</th>\n",
              "      <td>2170</td>\n",
              "      <td>fuse.</td>\n",
              "      <td>34</td>\n",
              "    </tr>\n",
              "  </tbody>\n",
              "</table>\n",
              "</div>"
            ],
            "text/plain": [
              "                        followers          name  popularity\n",
              "artist_id                                                  \n",
              "30C5wgn4celhRP3Tytv7R6      13584           Mez          49\n",
              "4og9lYRD6weUueMRu8lbP4      54187    Gali Atari          36\n",
              "1iC0iOxwU2oglYqtSr5NV7       7200     артилерія          28\n",
              "2TPXXpBdhNonD9MgaoUevk       1351  Krizz Solano           5\n",
              "7yLOR62W5h5j5Y4M8nHnAY       2170         fuse.          34"
            ]
          },
          "execution_count": 3,
          "metadata": {},
          "output_type": "execute_result"
        }
      ],
      "source": [
        "artist_metadata = artist_df_dict['metadata']\n",
        "artist_metadata.head()"
      ]
    },
    {
      "cell_type": "code",
      "execution_count": 4,
      "metadata": {},
      "outputs": [
        {
          "data": {
            "text/html": [
              "<div>\n",
              "<style scoped>\n",
              "    .dataframe tbody tr th:only-of-type {\n",
              "        vertical-align: middle;\n",
              "    }\n",
              "\n",
              "    .dataframe tbody tr th {\n",
              "        vertical-align: top;\n",
              "    }\n",
              "\n",
              "    .dataframe thead th {\n",
              "        text-align: right;\n",
              "    }\n",
              "</style>\n",
              "<table border=\"1\" class=\"dataframe\">\n",
              "  <thead>\n",
              "    <tr style=\"text-align: right;\">\n",
              "      <th></th>\n",
              "      <th>genre</th>\n",
              "    </tr>\n",
              "    <tr>\n",
              "      <th>artist_id</th>\n",
              "      <th></th>\n",
              "    </tr>\n",
              "  </thead>\n",
              "  <tbody>\n",
              "    <tr>\n",
              "      <th>30C5wgn4celhRP3Tytv7R6</th>\n",
              "      <td>north carolina hip hop</td>\n",
              "    </tr>\n",
              "    <tr>\n",
              "      <th>4og9lYRD6weUueMRu8lbP4</th>\n",
              "      <td>classic israeli pop</td>\n",
              "    </tr>\n",
              "    <tr>\n",
              "      <th>48nBjHQMSKiboD7Z4fjZLi</th>\n",
              "      <td>previa</td>\n",
              "    </tr>\n",
              "    <tr>\n",
              "      <th>4VUZyzya1v8H9StAeuKYXW</th>\n",
              "      <td>afro r&amp;b</td>\n",
              "    </tr>\n",
              "    <tr>\n",
              "      <th>4VUZyzya1v8H9StAeuKYXW</th>\n",
              "      <td>dutch pop</td>\n",
              "    </tr>\n",
              "  </tbody>\n",
              "</table>\n",
              "</div>"
            ],
            "text/plain": [
              "                                         genre\n",
              "artist_id                                     \n",
              "30C5wgn4celhRP3Tytv7R6  north carolina hip hop\n",
              "4og9lYRD6weUueMRu8lbP4     classic israeli pop\n",
              "48nBjHQMSKiboD7Z4fjZLi                  previa\n",
              "4VUZyzya1v8H9StAeuKYXW                afro r&b\n",
              "4VUZyzya1v8H9StAeuKYXW               dutch pop"
            ]
          },
          "execution_count": 4,
          "metadata": {},
          "output_type": "execute_result"
        }
      ],
      "source": [
        "artist_genres = artist_df_dict['genres']\n",
        "artist_genres.head()"
      ]
    },
    {
      "cell_type": "code",
      "execution_count": 5,
      "metadata": {},
      "outputs": [],
      "source": [
        "artist_images = artist_df_dict['images']"
      ]
    }
  ],
  "metadata": {
    "kernelspec": {
      "display_name": "spotify-charts-analysis",
      "language": "python",
      "name": "python3"
    },
    "language_info": {
      "codemirror_mode": {
        "name": "ipython",
        "version": 3
      },
      "file_extension": ".py",
      "mimetype": "text/x-python",
      "name": "python",
      "nbconvert_exporter": "python",
      "pygments_lexer": "ipython3",
      "version": "3.10.11"
    },
    "orig_nbformat": 4
  },
  "nbformat": 4,
  "nbformat_minor": 2
}
