{
 "cells": [
  {
   "cell_type": "markdown",
   "metadata": {},
   "source": [
    "# Processing fetched lyrics data (internal Spotify API)"
   ]
  },
  {
   "cell_type": "code",
   "execution_count": 1,
   "metadata": {},
   "outputs": [],
   "source": [
    "import pandas as pd\n",
    "from helpers.data import (\n",
    "    create_data_path,\n",
    "    write_series_to_file_as_prettified_json,\n",
    ")\n",
    "import os\n",
    "import matplotlib.pyplot as plt\n",
    "\n",
    "data_folder = create_data_path(\"top200_Jan_2017_to_June_2023\")"
   ]
  },
  {
   "cell_type": "code",
   "execution_count": 2,
   "metadata": {},
   "outputs": [],
   "source": [
    "lyrics_file_path = os.path.join(data_folder, \"lyrics.jsonl\")"
   ]
  },
  {
   "cell_type": "markdown",
   "metadata": {},
   "source": [
    "Let's load the collected lyrics data. The file in the path we defined above contains information about all successful API requests for the track IDs in the charts dataset, of course including the actual response content as well. If data for a particular track ID is missing, it means that the API request for that track ID failed with either a 404 or 403 HTTP error code."
   ]
  },
  {
   "cell_type": "code",
   "execution_count": 3,
   "metadata": {},
   "outputs": [
    {
     "data": {
      "text/html": [
       "<div>\n",
       "<style scoped>\n",
       "    .dataframe tbody tr th:only-of-type {\n",
       "        vertical-align: middle;\n",
       "    }\n",
       "\n",
       "    .dataframe tbody tr th {\n",
       "        vertical-align: top;\n",
       "    }\n",
       "\n",
       "    .dataframe thead th {\n",
       "        text-align: right;\n",
       "    }\n",
       "</style>\n",
       "<table border=\"1\" class=\"dataframe\">\n",
       "  <thead>\n",
       "    <tr style=\"text-align: right;\">\n",
       "      <th></th>\n",
       "      <th>status_code</th>\n",
       "      <th>content</th>\n",
       "      <th>content_type</th>\n",
       "      <th>url</th>\n",
       "      <th>timestamp</th>\n",
       "    </tr>\n",
       "    <tr>\n",
       "      <th>track_id</th>\n",
       "      <th></th>\n",
       "      <th></th>\n",
       "      <th></th>\n",
       "      <th></th>\n",
       "      <th></th>\n",
       "    </tr>\n",
       "  </thead>\n",
       "  <tbody>\n",
       "    <tr>\n",
       "      <th>49gzU1IS1B6P3GATSZ5eCE</th>\n",
       "      <td>200</td>\n",
       "      <td>{'lyrics': {'syncType': 'LINE_SYNCED', 'lines'...</td>\n",
       "      <td>json</td>\n",
       "      <td>https://spclient.wg.spotify.com/color-lyrics/v...</td>\n",
       "      <td>2023-07-19 10:49:21.426000+00:00</td>\n",
       "    </tr>\n",
       "    <tr>\n",
       "      <th>7bhHPQG8xRuLceGLeB0nLn</th>\n",
       "      <td>200</td>\n",
       "      <td>{'lyrics': {'syncType': 'LINE_SYNCED', 'lines'...</td>\n",
       "      <td>json</td>\n",
       "      <td>https://spclient.wg.spotify.com/color-lyrics/v...</td>\n",
       "      <td>2023-07-19 10:49:21.666000+00:00</td>\n",
       "    </tr>\n",
       "    <tr>\n",
       "      <th>2hMemEDS1l5hrjLWwU1MNt</th>\n",
       "      <td>200</td>\n",
       "      <td>{'lyrics': {'syncType': 'LINE_SYNCED', 'lines'...</td>\n",
       "      <td>json</td>\n",
       "      <td>https://spclient.wg.spotify.com/color-lyrics/v...</td>\n",
       "      <td>2023-07-19 10:49:21.631000+00:00</td>\n",
       "    </tr>\n",
       "    <tr>\n",
       "      <th>4AplWpV222luVik61GptSF</th>\n",
       "      <td>200</td>\n",
       "      <td>{'lyrics': {'syncType': 'LINE_SYNCED', 'lines'...</td>\n",
       "      <td>json</td>\n",
       "      <td>https://spclient.wg.spotify.com/color-lyrics/v...</td>\n",
       "      <td>2023-07-19 10:49:21.822000+00:00</td>\n",
       "    </tr>\n",
       "    <tr>\n",
       "      <th>0qL7RFWg2xKIFCVYFYZy9L</th>\n",
       "      <td>200</td>\n",
       "      <td>{'lyrics': {'syncType': 'UNSYNCED', 'lines': [...</td>\n",
       "      <td>json</td>\n",
       "      <td>https://spclient.wg.spotify.com/color-lyrics/v...</td>\n",
       "      <td>2023-07-19 10:49:22.192000+00:00</td>\n",
       "    </tr>\n",
       "  </tbody>\n",
       "</table>\n",
       "</div>"
      ],
      "text/plain": [
       "                        status_code  \\\n",
       "track_id                              \n",
       "49gzU1IS1B6P3GATSZ5eCE          200   \n",
       "7bhHPQG8xRuLceGLeB0nLn          200   \n",
       "2hMemEDS1l5hrjLWwU1MNt          200   \n",
       "4AplWpV222luVik61GptSF          200   \n",
       "0qL7RFWg2xKIFCVYFYZy9L          200   \n",
       "\n",
       "                                                                  content  \\\n",
       "track_id                                                                    \n",
       "49gzU1IS1B6P3GATSZ5eCE  {'lyrics': {'syncType': 'LINE_SYNCED', 'lines'...   \n",
       "7bhHPQG8xRuLceGLeB0nLn  {'lyrics': {'syncType': 'LINE_SYNCED', 'lines'...   \n",
       "2hMemEDS1l5hrjLWwU1MNt  {'lyrics': {'syncType': 'LINE_SYNCED', 'lines'...   \n",
       "4AplWpV222luVik61GptSF  {'lyrics': {'syncType': 'LINE_SYNCED', 'lines'...   \n",
       "0qL7RFWg2xKIFCVYFYZy9L  {'lyrics': {'syncType': 'UNSYNCED', 'lines': [...   \n",
       "\n",
       "                       content_type  \\\n",
       "track_id                              \n",
       "49gzU1IS1B6P3GATSZ5eCE         json   \n",
       "7bhHPQG8xRuLceGLeB0nLn         json   \n",
       "2hMemEDS1l5hrjLWwU1MNt         json   \n",
       "4AplWpV222luVik61GptSF         json   \n",
       "0qL7RFWg2xKIFCVYFYZy9L         json   \n",
       "\n",
       "                                                                      url  \\\n",
       "track_id                                                                    \n",
       "49gzU1IS1B6P3GATSZ5eCE  https://spclient.wg.spotify.com/color-lyrics/v...   \n",
       "7bhHPQG8xRuLceGLeB0nLn  https://spclient.wg.spotify.com/color-lyrics/v...   \n",
       "2hMemEDS1l5hrjLWwU1MNt  https://spclient.wg.spotify.com/color-lyrics/v...   \n",
       "4AplWpV222luVik61GptSF  https://spclient.wg.spotify.com/color-lyrics/v...   \n",
       "0qL7RFWg2xKIFCVYFYZy9L  https://spclient.wg.spotify.com/color-lyrics/v...   \n",
       "\n",
       "                                              timestamp  \n",
       "track_id                                                 \n",
       "49gzU1IS1B6P3GATSZ5eCE 2023-07-19 10:49:21.426000+00:00  \n",
       "7bhHPQG8xRuLceGLeB0nLn 2023-07-19 10:49:21.666000+00:00  \n",
       "2hMemEDS1l5hrjLWwU1MNt 2023-07-19 10:49:21.631000+00:00  \n",
       "4AplWpV222luVik61GptSF 2023-07-19 10:49:21.822000+00:00  \n",
       "0qL7RFWg2xKIFCVYFYZy9L 2023-07-19 10:49:22.192000+00:00  "
      ]
     },
     "execution_count": 3,
     "metadata": {},
     "output_type": "execute_result"
    }
   ],
   "source": [
    "lyrics_api_resp = pd.read_json(lyrics_file_path, lines=True).set_index(\"track_id\")\n",
    "lyrics_api_resp.head()"
   ]
  },
  {
   "cell_type": "code",
   "execution_count": 4,
   "metadata": {},
   "outputs": [],
   "source": [
    "assert (lyrics_api_resp.status_code == 200).all()"
   ]
  },
  {
   "cell_type": "code",
   "execution_count": 5,
   "metadata": {},
   "outputs": [],
   "source": [
    "assert (lyrics_api_resp.content_type == 'json').all()"
   ]
  },
  {
   "cell_type": "code",
   "execution_count": 6,
   "metadata": {},
   "outputs": [],
   "source": [
    "assert lyrics_api_resp.timestamp.notna().all()"
   ]
  },
  {
   "cell_type": "code",
   "execution_count": 7,
   "metadata": {},
   "outputs": [],
   "source": [
    "assert lyrics_api_resp.content.notna().all()"
   ]
  },
  {
   "cell_type": "code",
   "execution_count": 8,
   "metadata": {},
   "outputs": [
    {
     "data": {
      "text/plain": [
       "status_code                   int64\n",
       "content                      object\n",
       "content_type                 object\n",
       "url                          object\n",
       "timestamp       datetime64[ns, UTC]\n",
       "dtype: object"
      ]
     },
     "execution_count": 8,
     "metadata": {},
     "output_type": "execute_result"
    }
   ],
   "source": [
    "lyrics_api_resp.dtypes"
   ]
  },
  {
   "cell_type": "markdown",
   "metadata": {},
   "source": [
    "How many tracks are included in the dataset?"
   ]
  },
  {
   "cell_type": "code",
   "execution_count": 9,
   "metadata": {},
   "outputs": [
    {
     "data": {
      "text/plain": [
       "133916"
      ]
     },
     "execution_count": 9,
     "metadata": {},
     "output_type": "execute_result"
    }
   ],
   "source": [
    "track_lyric_count = lyrics_api_resp.index.nunique()\n",
    "assert lyrics_api_resp.shape[0] == track_lyric_count\n",
    "track_lyric_count"
   ]
  },
  {
   "cell_type": "markdown",
   "metadata": {},
   "source": [
    "When was the data collected?"
   ]
  },
  {
   "cell_type": "code",
   "execution_count": 10,
   "metadata": {},
   "outputs": [
    {
     "data": {
      "text/plain": [
       "(Timestamp('2023-07-19 10:49:21.426000+0000', tz='UTC'),\n",
       " Timestamp('2023-08-02 11:50:17.630421+0000', tz='UTC'))"
      ]
     },
     "execution_count": 10,
     "metadata": {},
     "output_type": "execute_result"
    }
   ],
   "source": [
    "lyrics_api_resp.timestamp.min(), lyrics_api_resp.timestamp.max()"
   ]
  },
  {
   "cell_type": "markdown",
   "metadata": {},
   "source": [
    "On what exact days was the data collected?"
   ]
  },
  {
   "cell_type": "code",
   "execution_count": 11,
   "metadata": {},
   "outputs": [
    {
     "data": {
      "text/plain": [
       "timestamp\n",
       "2023-07-19 00:00:00+00:00    29838\n",
       "2023-08-01 00:00:00+00:00    78984\n",
       "2023-08-02 00:00:00+00:00    25094\n",
       "dtype: int64"
      ]
     },
     "execution_count": 11,
     "metadata": {},
     "output_type": "execute_result"
    }
   ],
   "source": [
    "days_where_data_was_collected = lyrics_api_resp.groupby(pd.Grouper(key='timestamp', freq='D')).size()\n",
    "days_where_data_was_collected = days_where_data_was_collected[days_where_data_was_collected > 0]\n",
    "days_where_data_was_collected"
   ]
  },
  {
   "cell_type": "markdown",
   "metadata": {},
   "source": [
    "## Data Completeness"
   ]
  },
  {
   "cell_type": "markdown",
   "metadata": {},
   "source": [
    "How complete is the data? Let's compare with the chart data:"
   ]
  },
  {
   "cell_type": "code",
   "execution_count": 12,
   "metadata": {},
   "outputs": [
    {
     "data": {
      "text/html": [
       "<div>\n",
       "<style scoped>\n",
       "    .dataframe tbody tr th:only-of-type {\n",
       "        vertical-align: middle;\n",
       "    }\n",
       "\n",
       "    .dataframe tbody tr th {\n",
       "        vertical-align: top;\n",
       "    }\n",
       "\n",
       "    .dataframe thead th {\n",
       "        text-align: right;\n",
       "    }\n",
       "</style>\n",
       "<table border=\"1\" class=\"dataframe\">\n",
       "  <thead>\n",
       "    <tr style=\"text-align: right;\">\n",
       "      <th></th>\n",
       "      <th>date</th>\n",
       "      <th>region_code</th>\n",
       "      <th>track_id</th>\n",
       "      <th>pos</th>\n",
       "      <th>artist_names</th>\n",
       "      <th>track_name</th>\n",
       "      <th>source</th>\n",
       "      <th>peak_rank</th>\n",
       "      <th>previous_rank</th>\n",
       "      <th>days_on_chart</th>\n",
       "      <th>streams</th>\n",
       "    </tr>\n",
       "  </thead>\n",
       "  <tbody>\n",
       "    <tr>\n",
       "      <th>0</th>\n",
       "      <td>2017-01-01</td>\n",
       "      <td>AR</td>\n",
       "      <td>6mICuAdrwEjh6Y6lroV2Kg</td>\n",
       "      <td>1</td>\n",
       "      <td>Shakira, Maluma</td>\n",
       "      <td>Chantaje (feat. Maluma)</td>\n",
       "      <td>Sony Music Latin</td>\n",
       "      <td>1</td>\n",
       "      <td>-1</td>\n",
       "      <td>1</td>\n",
       "      <td>253019</td>\n",
       "    </tr>\n",
       "    <tr>\n",
       "      <th>1</th>\n",
       "      <td>2017-01-01</td>\n",
       "      <td>AR</td>\n",
       "      <td>7DM4BPaS7uofFul3ywMe46</td>\n",
       "      <td>2</td>\n",
       "      <td>Ricky Martin, Maluma</td>\n",
       "      <td>Vente Pa' Ca (feat. Maluma)</td>\n",
       "      <td>Sony Music Latin</td>\n",
       "      <td>2</td>\n",
       "      <td>-1</td>\n",
       "      <td>1</td>\n",
       "      <td>223988</td>\n",
       "    </tr>\n",
       "    <tr>\n",
       "      <th>2</th>\n",
       "      <td>2017-01-01</td>\n",
       "      <td>AR</td>\n",
       "      <td>3AEZUABDXNtecAOSC1qTfo</td>\n",
       "      <td>3</td>\n",
       "      <td>CNCO</td>\n",
       "      <td>Reggaetón Lento (Bailemos)</td>\n",
       "      <td>Sony Music Latin</td>\n",
       "      <td>3</td>\n",
       "      <td>-1</td>\n",
       "      <td>1</td>\n",
       "      <td>210943</td>\n",
       "    </tr>\n",
       "    <tr>\n",
       "      <th>3</th>\n",
       "      <td>2017-01-01</td>\n",
       "      <td>AR</td>\n",
       "      <td>6rQSrBHf7HlZjtcMZ4S4bO</td>\n",
       "      <td>4</td>\n",
       "      <td>J Balvin, Pharrell Williams, BIA, Sky Rompiendo</td>\n",
       "      <td>Safari</td>\n",
       "      <td>UMLE - Latino</td>\n",
       "      <td>4</td>\n",
       "      <td>-1</td>\n",
       "      <td>1</td>\n",
       "      <td>173865</td>\n",
       "    </tr>\n",
       "    <tr>\n",
       "      <th>4</th>\n",
       "      <td>2017-01-01</td>\n",
       "      <td>AR</td>\n",
       "      <td>58IL315gMSTD37DOZPJ2hf</td>\n",
       "      <td>5</td>\n",
       "      <td>Daddy Yankee</td>\n",
       "      <td>Shaky Shaky</td>\n",
       "      <td>El Cartel Records (EC3)</td>\n",
       "      <td>5</td>\n",
       "      <td>-1</td>\n",
       "      <td>1</td>\n",
       "      <td>153956</td>\n",
       "    </tr>\n",
       "  </tbody>\n",
       "</table>\n",
       "</div>"
      ],
      "text/plain": [
       "        date region_code                track_id  pos  \\\n",
       "0 2017-01-01          AR  6mICuAdrwEjh6Y6lroV2Kg    1   \n",
       "1 2017-01-01          AR  7DM4BPaS7uofFul3ywMe46    2   \n",
       "2 2017-01-01          AR  3AEZUABDXNtecAOSC1qTfo    3   \n",
       "3 2017-01-01          AR  6rQSrBHf7HlZjtcMZ4S4bO    4   \n",
       "4 2017-01-01          AR  58IL315gMSTD37DOZPJ2hf    5   \n",
       "\n",
       "                                      artist_names  \\\n",
       "0                                  Shakira, Maluma   \n",
       "1                             Ricky Martin, Maluma   \n",
       "2                                             CNCO   \n",
       "3  J Balvin, Pharrell Williams, BIA, Sky Rompiendo   \n",
       "4                                     Daddy Yankee   \n",
       "\n",
       "                    track_name                   source  peak_rank  \\\n",
       "0      Chantaje (feat. Maluma)         Sony Music Latin          1   \n",
       "1  Vente Pa' Ca (feat. Maluma)         Sony Music Latin          2   \n",
       "2   Reggaetón Lento (Bailemos)         Sony Music Latin          3   \n",
       "3                       Safari            UMLE - Latino          4   \n",
       "4                  Shaky Shaky  El Cartel Records (EC3)          5   \n",
       "\n",
       "   previous_rank  days_on_chart  streams  \n",
       "0             -1              1   253019  \n",
       "1             -1              1   223988  \n",
       "2             -1              1   210943  \n",
       "3             -1              1   173865  \n",
       "4             -1              1   153956  "
      ]
     },
     "execution_count": 12,
     "metadata": {},
     "output_type": "execute_result"
    }
   ],
   "source": [
    "charts = pd.read_parquet(os.path.join(data_folder, 'charts.parquet'))\n",
    "charts.head()"
   ]
  },
  {
   "cell_type": "code",
   "execution_count": 13,
   "metadata": {},
   "outputs": [
    {
     "data": {
      "text/plain": [
       "163454"
      ]
     },
     "execution_count": 13,
     "metadata": {},
     "output_type": "execute_result"
    }
   ],
   "source": [
    "chart_track_count = charts.track_id.nunique()\n",
    "chart_track_count"
   ]
  },
  {
   "cell_type": "code",
   "execution_count": 14,
   "metadata": {},
   "outputs": [
    {
     "data": {
      "text/plain": [
       "0.8192886071922376"
      ]
     },
     "execution_count": 14,
     "metadata": {},
     "output_type": "execute_result"
    }
   ],
   "source": [
    "track_lyric_count / chart_track_count"
   ]
  },
  {
   "cell_type": "markdown",
   "metadata": {},
   "source": [
    "We managed to get lyric data for about 80% of our dataset, which is not too shabby."
   ]
  },
  {
   "cell_type": "markdown",
   "metadata": {},
   "source": [
    "Is there a connection between the missingness of data and the region of the chart tracks?"
   ]
  },
  {
   "cell_type": "markdown",
   "metadata": {},
   "source": [
    "To find out, we first group the tracks by region, creating sets of track IDs for each region."
   ]
  },
  {
   "cell_type": "code",
   "execution_count": 15,
   "metadata": {},
   "outputs": [],
   "source": [
    "chart_tracks_by_region = charts.groupby('region_code').track_id.apply(set)"
   ]
  },
  {
   "cell_type": "markdown",
   "metadata": {},
   "source": [
    "Then, we create sets of all chart track IDs (by chart region) that are also in the lyrics dataset, like so:"
   ]
  },
  {
   "cell_type": "code",
   "execution_count": 16,
   "metadata": {},
   "outputs": [],
   "source": [
    "chart_tracks_with_region = charts[['track_id', 'region_code']].drop_duplicates()\n",
    "chart_tracks_with_lyrics_by_region = pd.merge(\n",
    "    chart_tracks_with_region,\n",
    "    lyrics_api_resp.reset_index().track_id,\n",
    "    on=\"track_id\",\n",
    "    how=\"inner\",\n",
    ").groupby(\"region_code\").track_id.apply(set)"
   ]
  },
  {
   "cell_type": "markdown",
   "metadata": {},
   "source": [
    "Now, we can check how much overlap we have for each of the sets:"
   ]
  },
  {
   "cell_type": "code",
   "execution_count": 17,
   "metadata": {},
   "outputs": [],
   "source": [
    "chart_tracks_by_region.name = 'tracks'\n",
    "chart_tracks_with_lyrics_by_region.name = 'tracks_with_lyrics'\n",
    "track_sets_df = pd.concat([chart_tracks_by_region, chart_tracks_with_lyrics_by_region], axis=1)"
   ]
  },
  {
   "cell_type": "code",
   "execution_count": 18,
   "metadata": {},
   "outputs": [],
   "source": [
    "def get_percentage_of_tracks_with_lyrics(df_row):\n",
    "    tracks = df_row['tracks']\n",
    "    tracks_with_lyrics = df_row['tracks_with_lyrics']\n",
    "    intersection = tracks.intersection(tracks_with_lyrics)\n",
    "    return len(intersection) / len(tracks)\n",
    "\n",
    "track_sets_df['perc_with_lyrics'] = track_sets_df.apply(get_percentage_of_tracks_with_lyrics, axis=1)"
   ]
  },
  {
   "cell_type": "code",
   "execution_count": 19,
   "metadata": {},
   "outputs": [
    {
     "data": {
      "text/plain": [
       "count    73.000000\n",
       "mean      0.917899\n",
       "std       0.054149\n",
       "min       0.715600\n",
       "25%       0.891347\n",
       "50%       0.937428\n",
       "75%       0.954666\n",
       "max       0.979855\n",
       "Name: perc_with_lyrics, dtype: float64"
      ]
     },
     "execution_count": 19,
     "metadata": {},
     "output_type": "execute_result"
    }
   ],
   "source": [
    "track_sets_df.perc_with_lyrics.describe()"
   ]
  },
  {
   "cell_type": "code",
   "execution_count": 20,
   "metadata": {},
   "outputs": [
    {
     "data": {
      "image/png": "[encoded data removed]",
      "text/plain": [
       "<Figure size 1500x500 with 1 Axes>"
      ]
     },
     "metadata": {},
     "output_type": "display_data"
    }
   ],
   "source": [
    "track_sets_df.perc_with_lyrics.sort_values(ascending=False).plot(kind='bar', figsize=(15, 5))\n",
    "plt.title('Percentage of tracks with lyrics (by region)')\n",
    "plt.show()"
   ]
  },
  {
   "cell_type": "markdown",
   "metadata": {},
   "source": [
    "## Analyzing the data in more detail"
   ]
  },
  {
   "cell_type": "code",
   "execution_count": 21,
   "metadata": {},
   "outputs": [],
   "source": [
    "# convert dicts in content to columns of a new dataframe, use track_id as index\n",
    "lyrics_df = pd.DataFrame(lyrics_api_resp.content.values.tolist(), index=lyrics_api_resp.index)"
   ]
  },
  {
   "cell_type": "code",
   "execution_count": 22,
   "metadata": {},
   "outputs": [
    {
     "data": {
      "text/html": [
       "<div>\n",
       "<style scoped>\n",
       "    .dataframe tbody tr th:only-of-type {\n",
       "        vertical-align: middle;\n",
       "    }\n",
       "\n",
       "    .dataframe tbody tr th {\n",
       "        vertical-align: top;\n",
       "    }\n",
       "\n",
       "    .dataframe thead th {\n",
       "        text-align: right;\n",
       "    }\n",
       "</style>\n",
       "<table border=\"1\" class=\"dataframe\">\n",
       "  <thead>\n",
       "    <tr style=\"text-align: right;\">\n",
       "      <th></th>\n",
       "      <th>lyrics</th>\n",
       "      <th>colors</th>\n",
       "      <th>hasVocalRemoval</th>\n",
       "    </tr>\n",
       "    <tr>\n",
       "      <th>track_id</th>\n",
       "      <th></th>\n",
       "      <th></th>\n",
       "      <th></th>\n",
       "    </tr>\n",
       "  </thead>\n",
       "  <tbody>\n",
       "    <tr>\n",
       "      <th>49gzU1IS1B6P3GATSZ5eCE</th>\n",
       "      <td>{'syncType': 'LINE_SYNCED', 'lines': [{'startT...</td>\n",
       "      <td>{'background': -1568728, 'text': -16777216, 'h...</td>\n",
       "      <td>False</td>\n",
       "    </tr>\n",
       "    <tr>\n",
       "      <th>7bhHPQG8xRuLceGLeB0nLn</th>\n",
       "      <td>{'syncType': 'LINE_SYNCED', 'lines': [{'startT...</td>\n",
       "      <td>{'background': -7320068, 'text': -16777216, 'h...</td>\n",
       "      <td>False</td>\n",
       "    </tr>\n",
       "    <tr>\n",
       "      <th>2hMemEDS1l5hrjLWwU1MNt</th>\n",
       "      <td>{'syncType': 'LINE_SYNCED', 'lines': [{'startT...</td>\n",
       "      <td>{'background': -3519412, 'text': -16777216, 'h...</td>\n",
       "      <td>False</td>\n",
       "    </tr>\n",
       "    <tr>\n",
       "      <th>4AplWpV222luVik61GptSF</th>\n",
       "      <td>{'syncType': 'LINE_SYNCED', 'lines': [{'startT...</td>\n",
       "      <td>{'background': -10061927, 'text': -16777216, '...</td>\n",
       "      <td>False</td>\n",
       "    </tr>\n",
       "    <tr>\n",
       "      <th>0qL7RFWg2xKIFCVYFYZy9L</th>\n",
       "      <td>{'syncType': 'UNSYNCED', 'lines': [{'startTime...</td>\n",
       "      <td>{'background': -12092258, 'text': -16777216, '...</td>\n",
       "      <td>False</td>\n",
       "    </tr>\n",
       "  </tbody>\n",
       "</table>\n",
       "</div>"
      ],
      "text/plain": [
       "                                                                   lyrics  \\\n",
       "track_id                                                                    \n",
       "49gzU1IS1B6P3GATSZ5eCE  {'syncType': 'LINE_SYNCED', 'lines': [{'startT...   \n",
       "7bhHPQG8xRuLceGLeB0nLn  {'syncType': 'LINE_SYNCED', 'lines': [{'startT...   \n",
       "2hMemEDS1l5hrjLWwU1MNt  {'syncType': 'LINE_SYNCED', 'lines': [{'startT...   \n",
       "4AplWpV222luVik61GptSF  {'syncType': 'LINE_SYNCED', 'lines': [{'startT...   \n",
       "0qL7RFWg2xKIFCVYFYZy9L  {'syncType': 'UNSYNCED', 'lines': [{'startTime...   \n",
       "\n",
       "                                                                   colors  \\\n",
       "track_id                                                                    \n",
       "49gzU1IS1B6P3GATSZ5eCE  {'background': -1568728, 'text': -16777216, 'h...   \n",
       "7bhHPQG8xRuLceGLeB0nLn  {'background': -7320068, 'text': -16777216, 'h...   \n",
       "2hMemEDS1l5hrjLWwU1MNt  {'background': -3519412, 'text': -16777216, 'h...   \n",
       "4AplWpV222luVik61GptSF  {'background': -10061927, 'text': -16777216, '...   \n",
       "0qL7RFWg2xKIFCVYFYZy9L  {'background': -12092258, 'text': -16777216, '...   \n",
       "\n",
       "                        hasVocalRemoval  \n",
       "track_id                                 \n",
       "49gzU1IS1B6P3GATSZ5eCE            False  \n",
       "7bhHPQG8xRuLceGLeB0nLn            False  \n",
       "2hMemEDS1l5hrjLWwU1MNt            False  \n",
       "4AplWpV222luVik61GptSF            False  \n",
       "0qL7RFWg2xKIFCVYFYZy9L            False  "
      ]
     },
     "execution_count": 22,
     "metadata": {},
     "output_type": "execute_result"
    }
   ],
   "source": [
    "lyrics_df.head()"
   ]
  },
  {
   "cell_type": "code",
   "execution_count": 23,
   "metadata": {},
   "outputs": [
    {
     "data": {
      "text/plain": [
       "False    133916\n",
       "Name: hasVocalRemoval, dtype: int64"
      ]
     },
     "execution_count": 23,
     "metadata": {},
     "output_type": "execute_result"
    }
   ],
   "source": [
    "lyrics_df.hasVocalRemoval.value_counts()"
   ]
  },
  {
   "cell_type": "code",
   "execution_count": 24,
   "metadata": {},
   "outputs": [
    {
     "data": {
      "text/plain": [
       "{'background': -1568728, 'text': -16777216, 'highlightText': -1}"
      ]
     },
     "execution_count": 24,
     "metadata": {},
     "output_type": "execute_result"
    }
   ],
   "source": [
    "lyrics_df.iloc[0].colors"
   ]
  },
  {
   "cell_type": "markdown",
   "metadata": {},
   "source": [
    "Maybe these are some hexadecimal values that were parsed incorrectly?\n",
    "\n",
    "Anyway, we can disregard both the `hasVocalRemoval` and `colors` columns and focus on the content of the `lyrics` attribute of the API response content for each track."
   ]
  },
  {
   "cell_type": "code",
   "execution_count": 25,
   "metadata": {},
   "outputs": [
    {
     "data": {
      "text/html": [
       "<div>\n",
       "<style scoped>\n",
       "    .dataframe tbody tr th:only-of-type {\n",
       "        vertical-align: middle;\n",
       "    }\n",
       "\n",
       "    .dataframe tbody tr th {\n",
       "        vertical-align: top;\n",
       "    }\n",
       "\n",
       "    .dataframe thead th {\n",
       "        text-align: right;\n",
       "    }\n",
       "</style>\n",
       "<table border=\"1\" class=\"dataframe\">\n",
       "  <thead>\n",
       "    <tr style=\"text-align: right;\">\n",
       "      <th></th>\n",
       "      <th>syncType</th>\n",
       "      <th>lines</th>\n",
       "      <th>provider</th>\n",
       "      <th>providerLyricsId</th>\n",
       "      <th>providerDisplayName</th>\n",
       "      <th>syncLyricsUri</th>\n",
       "      <th>isDenseTypeface</th>\n",
       "      <th>alternatives</th>\n",
       "      <th>language</th>\n",
       "      <th>isRtlLanguage</th>\n",
       "      <th>fullscreenAction</th>\n",
       "      <th>showUpsell</th>\n",
       "    </tr>\n",
       "    <tr>\n",
       "      <th>track_id</th>\n",
       "      <th></th>\n",
       "      <th></th>\n",
       "      <th></th>\n",
       "      <th></th>\n",
       "      <th></th>\n",
       "      <th></th>\n",
       "      <th></th>\n",
       "      <th></th>\n",
       "      <th></th>\n",
       "      <th></th>\n",
       "      <th></th>\n",
       "      <th></th>\n",
       "    </tr>\n",
       "  </thead>\n",
       "  <tbody>\n",
       "    <tr>\n",
       "      <th>49gzU1IS1B6P3GATSZ5eCE</th>\n",
       "      <td>LINE_SYNCED</td>\n",
       "      <td>[{'startTimeMs': '1630', 'words': 'Ih, wie han...</td>\n",
       "      <td>MusixMatch</td>\n",
       "      <td>129721015</td>\n",
       "      <td>Musixmatch</td>\n",
       "      <td></td>\n",
       "      <td>False</td>\n",
       "      <td>[]</td>\n",
       "      <td>de</td>\n",
       "      <td>False</td>\n",
       "      <td>FULLSCREEN_LYRICS</td>\n",
       "      <td>NaN</td>\n",
       "    </tr>\n",
       "    <tr>\n",
       "      <th>7bhHPQG8xRuLceGLeB0nLn</th>\n",
       "      <td>LINE_SYNCED</td>\n",
       "      <td>[{'startTimeMs': '2300', 'words': 'Bambini, vi...</td>\n",
       "      <td>MusixMatch</td>\n",
       "      <td>89561932</td>\n",
       "      <td>Musixmatch</td>\n",
       "      <td></td>\n",
       "      <td>False</td>\n",
       "      <td>[]</td>\n",
       "      <td>it</td>\n",
       "      <td>False</td>\n",
       "      <td>FULLSCREEN_LYRICS</td>\n",
       "      <td>NaN</td>\n",
       "    </tr>\n",
       "    <tr>\n",
       "      <th>2hMemEDS1l5hrjLWwU1MNt</th>\n",
       "      <td>LINE_SYNCED</td>\n",
       "      <td>[{'startTimeMs': '11830', 'words': 'No, nunca ...</td>\n",
       "      <td>MusixMatch</td>\n",
       "      <td>92816412</td>\n",
       "      <td>Musixmatch</td>\n",
       "      <td></td>\n",
       "      <td>False</td>\n",
       "      <td>[]</td>\n",
       "      <td>es</td>\n",
       "      <td>False</td>\n",
       "      <td>FULLSCREEN_LYRICS</td>\n",
       "      <td>NaN</td>\n",
       "    </tr>\n",
       "    <tr>\n",
       "      <th>4AplWpV222luVik61GptSF</th>\n",
       "      <td>LINE_SYNCED</td>\n",
       "      <td>[{'startTimeMs': '23090', 'words': 'Her kafada...</td>\n",
       "      <td>MusixMatch</td>\n",
       "      <td>108993470</td>\n",
       "      <td>Musixmatch</td>\n",
       "      <td></td>\n",
       "      <td>False</td>\n",
       "      <td>[]</td>\n",
       "      <td></td>\n",
       "      <td>False</td>\n",
       "      <td>FULLSCREEN_LYRICS</td>\n",
       "      <td>NaN</td>\n",
       "    </tr>\n",
       "    <tr>\n",
       "      <th>0qL7RFWg2xKIFCVYFYZy9L</th>\n",
       "      <td>UNSYNCED</td>\n",
       "      <td>[{'startTimeMs': '0', 'words': 'הו רב חובל, קב...</td>\n",
       "      <td>MusixMatch</td>\n",
       "      <td>34054920</td>\n",
       "      <td>Musixmatch</td>\n",
       "      <td></td>\n",
       "      <td>False</td>\n",
       "      <td>[]</td>\n",
       "      <td>he</td>\n",
       "      <td>True</td>\n",
       "      <td>FULLSCREEN_LYRICS</td>\n",
       "      <td>NaN</td>\n",
       "    </tr>\n",
       "  </tbody>\n",
       "</table>\n",
       "</div>"
      ],
      "text/plain": [
       "                           syncType  \\\n",
       "track_id                              \n",
       "49gzU1IS1B6P3GATSZ5eCE  LINE_SYNCED   \n",
       "7bhHPQG8xRuLceGLeB0nLn  LINE_SYNCED   \n",
       "2hMemEDS1l5hrjLWwU1MNt  LINE_SYNCED   \n",
       "4AplWpV222luVik61GptSF  LINE_SYNCED   \n",
       "0qL7RFWg2xKIFCVYFYZy9L     UNSYNCED   \n",
       "\n",
       "                                                                    lines  \\\n",
       "track_id                                                                    \n",
       "49gzU1IS1B6P3GATSZ5eCE  [{'startTimeMs': '1630', 'words': 'Ih, wie han...   \n",
       "7bhHPQG8xRuLceGLeB0nLn  [{'startTimeMs': '2300', 'words': 'Bambini, vi...   \n",
       "2hMemEDS1l5hrjLWwU1MNt  [{'startTimeMs': '11830', 'words': 'No, nunca ...   \n",
       "4AplWpV222luVik61GptSF  [{'startTimeMs': '23090', 'words': 'Her kafada...   \n",
       "0qL7RFWg2xKIFCVYFYZy9L  [{'startTimeMs': '0', 'words': 'הו רב חובל, קב...   \n",
       "\n",
       "                          provider providerLyricsId providerDisplayName  \\\n",
       "track_id                                                                  \n",
       "49gzU1IS1B6P3GATSZ5eCE  MusixMatch        129721015          Musixmatch   \n",
       "7bhHPQG8xRuLceGLeB0nLn  MusixMatch         89561932          Musixmatch   \n",
       "2hMemEDS1l5hrjLWwU1MNt  MusixMatch         92816412          Musixmatch   \n",
       "4AplWpV222luVik61GptSF  MusixMatch        108993470          Musixmatch   \n",
       "0qL7RFWg2xKIFCVYFYZy9L  MusixMatch         34054920          Musixmatch   \n",
       "\n",
       "                       syncLyricsUri  isDenseTypeface alternatives language  \\\n",
       "track_id                                                                      \n",
       "49gzU1IS1B6P3GATSZ5eCE                          False           []       de   \n",
       "7bhHPQG8xRuLceGLeB0nLn                          False           []       it   \n",
       "2hMemEDS1l5hrjLWwU1MNt                          False           []       es   \n",
       "4AplWpV222luVik61GptSF                          False           []            \n",
       "0qL7RFWg2xKIFCVYFYZy9L                          False           []       he   \n",
       "\n",
       "                        isRtlLanguage   fullscreenAction showUpsell  \n",
       "track_id                                                             \n",
       "49gzU1IS1B6P3GATSZ5eCE          False  FULLSCREEN_LYRICS        NaN  \n",
       "7bhHPQG8xRuLceGLeB0nLn          False  FULLSCREEN_LYRICS        NaN  \n",
       "2hMemEDS1l5hrjLWwU1MNt          False  FULLSCREEN_LYRICS        NaN  \n",
       "4AplWpV222luVik61GptSF          False  FULLSCREEN_LYRICS        NaN  \n",
       "0qL7RFWg2xKIFCVYFYZy9L           True  FULLSCREEN_LYRICS        NaN  "
      ]
     },
     "execution_count": 25,
     "metadata": {},
     "output_type": "execute_result"
    }
   ],
   "source": [
    "lyrics_df = pd.DataFrame(lyrics_df.lyrics.values.tolist(), index=lyrics_df.index)\n",
    "lyrics_df.head()"
   ]
  },
  {
   "cell_type": "code",
   "execution_count": 26,
   "metadata": {},
   "outputs": [
    {
     "data": {
      "text/plain": [
       "syncType                                                     LINE_SYNCED\n",
       "lines                  [{'startTimeMs': '2520', 'words': 'Hola, míram...\n",
       "provider                                                      MusixMatch\n",
       "providerLyricsId                                                63800397\n",
       "providerDisplayName                                           Musixmatch\n",
       "syncLyricsUri                                                           \n",
       "isDenseTypeface                                                    False\n",
       "alternatives                                                          []\n",
       "language                                                              es\n",
       "isRtlLanguage                                                      False\n",
       "fullscreenAction                                       FULLSCREEN_LYRICS\n",
       "showUpsell                                                         False\n",
       "Name: 6mICuAdrwEjh6Y6lroV2Kg, dtype: object"
      ]
     },
     "execution_count": 26,
     "metadata": {},
     "output_type": "execute_result"
    }
   ],
   "source": [
    "example_lyrics = lyrics_df.loc['6mICuAdrwEjh6Y6lroV2Kg']\n",
    "example_lyrics"
   ]
  },
  {
   "cell_type": "code",
   "execution_count": 28,
   "metadata": {},
   "outputs": [],
   "source": [
    "write_series_to_file_as_prettified_json(example_lyrics, os.path.join(\"data\", \"example_lyrics.json\"))"
   ]
  },
  {
   "cell_type": "markdown",
   "metadata": {},
   "source": [
    "The API response even contains timing information (when what line of the lyrics should be displayed). Another interesting aspect is that the origin of the lyrics (usually, or always (?) Musixmatch), together with the ID for the provider is provided. Furthermore, the language of the lyrics is included. This data could be used to verify how much chart music in a particular country is in its official language."
   ]
  },
  {
   "cell_type": "code",
   "execution_count": 29,
   "metadata": {},
   "outputs": [
    {
     "name": "stdout",
     "output_type": "stream",
     "text": [
      "number of distinct values in 'syncType': 2\n",
      "number of distinct values in 'provider': 1\n",
      "number of distinct values in 'providerLyricsId': 111823\n",
      "number of distinct values in 'providerDisplayName': 1\n",
      "number of distinct values in 'syncLyricsUri': 1\n",
      "number of distinct values in 'isDenseTypeface': 2\n",
      "number of distinct values in 'language': 116\n",
      "number of distinct values in 'isRtlLanguage': 2\n",
      "number of distinct values in 'fullscreenAction': 1\n",
      "number of distinct values in 'showUpsell': 1\n"
     ]
    }
   ],
   "source": [
    "for colname in lyrics_df.columns:\n",
    "    if colname in ['lines', 'alternatives']:\n",
    "        continue\n",
    "    print(f\"number of distinct values in '{colname}':\", lyrics_df[colname].nunique())"
   ]
  },
  {
   "cell_type": "markdown",
   "metadata": {},
   "source": [
    "This tells us that the following columns are irrelevant to our analysis (as they always contain the same data):\n",
    "\n",
    "- provider\n",
    "- providerDisplayName\n",
    "- syncLyricsUri\n",
    "- fullscreenAction\n",
    "- showUpsell"
   ]
  },
  {
   "cell_type": "markdown",
   "metadata": {},
   "source": [
    "What are the top languages?"
   ]
  },
  {
   "cell_type": "code",
   "execution_count": 31,
   "metadata": {},
   "outputs": [
    {
     "data": {
      "text/plain": [
       "en    33823\n",
       "es    14662\n",
       "fr     7592\n",
       "de     6763\n",
       "it     5705\n",
       "z1     5012\n",
       "pt     4702\n",
       "fi     4003\n",
       "tr     3830\n",
       "pl     3414\n",
       "Name: language, dtype: int64"
      ]
     },
     "execution_count": 31,
     "metadata": {},
     "output_type": "execute_result"
    }
   ],
   "source": [
    "lyrics_df.language.value_counts().sort_values(ascending=False)[:10]"
   ]
  },
  {
   "cell_type": "markdown",
   "metadata": {},
   "source": [
    "We'd need to investigate what the language code 'z1' could mean, but the rest makes sense. It is surprising that English isn't _that_ dominant, though."
   ]
  },
  {
   "cell_type": "code",
   "execution_count": null,
   "metadata": {},
   "outputs": [],
   "source": []
  }
 ],
 "metadata": {
  "kernelspec": {
   "display_name": "spotify-charts-analysis",
   "language": "python",
   "name": "python3"
  },
  "language_info": {
   "codemirror_mode": {
    "name": "ipython",
    "version": 3
   },
   "file_extension": ".py",
   "mimetype": "text/x-python",
   "name": "python",
   "nbconvert_exporter": "python",
   "pygments_lexer": "ipython3",
   "version": "3.10.11"
  },
  "orig_nbformat": 4
 },
 "nbformat": 4,
 "nbformat_minor": 2
}
