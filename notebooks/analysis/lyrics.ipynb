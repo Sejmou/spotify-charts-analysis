{
 "cells": [
  {
   "cell_type": "markdown",
   "metadata": {},
   "source": [
    "# Processing fetched lyrics data (internal Spotify API)"
   ]
  },
  {
   "cell_type": "code",
   "execution_count": 1,
   "metadata": {},
   "outputs": [],
   "source": [
    "import pandas as pd\n",
    "from helpers.data import (\n",
    "    create_data_path,\n",
    "    write_series_to_file_as_prettified_json,\n",
    ")\n",
    "import os\n",
    "\n",
    "data_folder = create_data_path(\"top200_Jan_2017_to_June_2023\")"
   ]
  },
  {
   "cell_type": "code",
   "execution_count": 2,
   "metadata": {},
   "outputs": [
    {
     "name": "stderr",
     "output_type": "stream",
     "text": [
      "/opt/homebrew/anaconda3/envs/spotify-charts-analysis/lib/python3.10/site-packages/pandas/core/tools/datetimes.py:557: RuntimeWarning: invalid value encountered in cast\n",
      "  arr, tz_parsed = tslib.array_with_unit_to_datetime(arg, unit, errors=errors)\n",
      "/opt/homebrew/anaconda3/envs/spotify-charts-analysis/lib/python3.10/site-packages/pandas/core/tools/datetimes.py:557: RuntimeWarning: invalid value encountered in cast\n",
      "  arr, tz_parsed = tslib.array_with_unit_to_datetime(arg, unit, errors=errors)\n"
     ]
    },
    {
     "data": {
      "text/html": [
       "<div>\n",
       "<style scoped>\n",
       "    .dataframe tbody tr th:only-of-type {\n",
       "        vertical-align: middle;\n",
       "    }\n",
       "\n",
       "    .dataframe tbody tr th {\n",
       "        vertical-align: top;\n",
       "    }\n",
       "\n",
       "    .dataframe thead th {\n",
       "        text-align: right;\n",
       "    }\n",
       "</style>\n",
       "<table border=\"1\" class=\"dataframe\">\n",
       "  <thead>\n",
       "    <tr style=\"text-align: right;\">\n",
       "      <th></th>\n",
       "      <th>status_code</th>\n",
       "      <th>content</th>\n",
       "      <th>content_type</th>\n",
       "      <th>url</th>\n",
       "      <th>timestamp</th>\n",
       "    </tr>\n",
       "    <tr>\n",
       "      <th>track_id</th>\n",
       "      <th></th>\n",
       "      <th></th>\n",
       "      <th></th>\n",
       "      <th></th>\n",
       "      <th></th>\n",
       "    </tr>\n",
       "  </thead>\n",
       "  <tbody>\n",
       "    <tr>\n",
       "      <th>6rQSrBHf7HlZjtcMZ4S4bO</th>\n",
       "      <td>200</td>\n",
       "      <td>{'lyrics': {'syncType': 'LINE_SYNCED', 'lines'...</td>\n",
       "      <td>json</td>\n",
       "      <td>https://spclient.wg.spotify.com/track-credits-...</td>\n",
       "      <td>NaT</td>\n",
       "    </tr>\n",
       "    <tr>\n",
       "      <th>58IL315gMSTD37DOZPJ2hf</th>\n",
       "      <td>200</td>\n",
       "      <td>{'lyrics': {'syncType': 'LINE_SYNCED', 'lines'...</td>\n",
       "      <td>json</td>\n",
       "      <td>https://spclient.wg.spotify.com/track-credits-...</td>\n",
       "      <td>NaT</td>\n",
       "    </tr>\n",
       "    <tr>\n",
       "      <th>5J1c3M4EldCfNxXwrwt8mT</th>\n",
       "      <td>200</td>\n",
       "      <td>{'lyrics': {'syncType': 'LINE_SYNCED', 'lines'...</td>\n",
       "      <td>json</td>\n",
       "      <td>https://spclient.wg.spotify.com/track-credits-...</td>\n",
       "      <td>NaT</td>\n",
       "    </tr>\n",
       "    <tr>\n",
       "      <th>20ZAJdsKB5IGbGj4ilRt2o</th>\n",
       "      <td>200</td>\n",
       "      <td>{'lyrics': {'syncType': 'LINE_SYNCED', 'lines'...</td>\n",
       "      <td>json</td>\n",
       "      <td>https://spclient.wg.spotify.com/track-credits-...</td>\n",
       "      <td>NaT</td>\n",
       "    </tr>\n",
       "    <tr>\n",
       "      <th>5mey7CLLuFToM2P68Qu1gF</th>\n",
       "      <td>200</td>\n",
       "      <td>{'lyrics': {'syncType': 'LINE_SYNCED', 'lines'...</td>\n",
       "      <td>json</td>\n",
       "      <td>https://spclient.wg.spotify.com/track-credits-...</td>\n",
       "      <td>NaT</td>\n",
       "    </tr>\n",
       "  </tbody>\n",
       "</table>\n",
       "</div>"
      ],
      "text/plain": [
       "                        status_code  \\\n",
       "track_id                              \n",
       "6rQSrBHf7HlZjtcMZ4S4bO          200   \n",
       "58IL315gMSTD37DOZPJ2hf          200   \n",
       "5J1c3M4EldCfNxXwrwt8mT          200   \n",
       "20ZAJdsKB5IGbGj4ilRt2o          200   \n",
       "5mey7CLLuFToM2P68Qu1gF          200   \n",
       "\n",
       "                                                                  content  \\\n",
       "track_id                                                                    \n",
       "6rQSrBHf7HlZjtcMZ4S4bO  {'lyrics': {'syncType': 'LINE_SYNCED', 'lines'...   \n",
       "58IL315gMSTD37DOZPJ2hf  {'lyrics': {'syncType': 'LINE_SYNCED', 'lines'...   \n",
       "5J1c3M4EldCfNxXwrwt8mT  {'lyrics': {'syncType': 'LINE_SYNCED', 'lines'...   \n",
       "20ZAJdsKB5IGbGj4ilRt2o  {'lyrics': {'syncType': 'LINE_SYNCED', 'lines'...   \n",
       "5mey7CLLuFToM2P68Qu1gF  {'lyrics': {'syncType': 'LINE_SYNCED', 'lines'...   \n",
       "\n",
       "                       content_type  \\\n",
       "track_id                              \n",
       "6rQSrBHf7HlZjtcMZ4S4bO         json   \n",
       "58IL315gMSTD37DOZPJ2hf         json   \n",
       "5J1c3M4EldCfNxXwrwt8mT         json   \n",
       "20ZAJdsKB5IGbGj4ilRt2o         json   \n",
       "5mey7CLLuFToM2P68Qu1gF         json   \n",
       "\n",
       "                                                                      url  \\\n",
       "track_id                                                                    \n",
       "6rQSrBHf7HlZjtcMZ4S4bO  https://spclient.wg.spotify.com/track-credits-...   \n",
       "58IL315gMSTD37DOZPJ2hf  https://spclient.wg.spotify.com/track-credits-...   \n",
       "5J1c3M4EldCfNxXwrwt8mT  https://spclient.wg.spotify.com/track-credits-...   \n",
       "20ZAJdsKB5IGbGj4ilRt2o  https://spclient.wg.spotify.com/track-credits-...   \n",
       "5mey7CLLuFToM2P68Qu1gF  https://spclient.wg.spotify.com/track-credits-...   \n",
       "\n",
       "                       timestamp  \n",
       "track_id                          \n",
       "6rQSrBHf7HlZjtcMZ4S4bO       NaT  \n",
       "58IL315gMSTD37DOZPJ2hf       NaT  \n",
       "5J1c3M4EldCfNxXwrwt8mT       NaT  \n",
       "20ZAJdsKB5IGbGj4ilRt2o       NaT  \n",
       "5mey7CLLuFToM2P68Qu1gF       NaT  "
      ]
     },
     "execution_count": 2,
     "metadata": {},
     "output_type": "execute_result"
    }
   ],
   "source": [
    "lyrics_file_path = os.path.join(data_folder, \"lyrics.jsonl\")\n",
    "lyrics_api_resp = pd.read_json(lyrics_file_path, lines=True).set_index(\"track_id\")\n",
    "lyrics_api_resp.head()"
   ]
  },
  {
   "cell_type": "code",
   "execution_count": 3,
   "metadata": {},
   "outputs": [
    {
     "data": {
      "text/plain": [
       "134018"
      ]
     },
     "execution_count": 3,
     "metadata": {},
     "output_type": "execute_result"
    }
   ],
   "source": [
    "lyrics_api_resp.shape[0]"
   ]
  },
  {
   "cell_type": "code",
   "execution_count": 4,
   "metadata": {},
   "outputs": [
    {
     "data": {
      "text/plain": [
       "134018"
      ]
     },
     "execution_count": 4,
     "metadata": {},
     "output_type": "execute_result"
    }
   ],
   "source": [
    "lyrics_api_resp.content.notna().sum()"
   ]
  },
  {
   "cell_type": "code",
   "execution_count": 6,
   "metadata": {},
   "outputs": [],
   "source": [
    "assert lyrics_api_resp.shape[0] == lyrics_api_resp.index.nunique()"
   ]
  },
  {
   "cell_type": "code",
   "execution_count": 7,
   "metadata": {},
   "outputs": [
    {
     "data": {
      "text/html": [
       "<div>\n",
       "<style scoped>\n",
       "    .dataframe tbody tr th:only-of-type {\n",
       "        vertical-align: middle;\n",
       "    }\n",
       "\n",
       "    .dataframe tbody tr th {\n",
       "        vertical-align: top;\n",
       "    }\n",
       "\n",
       "    .dataframe thead th {\n",
       "        text-align: right;\n",
       "    }\n",
       "</style>\n",
       "<table border=\"1\" class=\"dataframe\">\n",
       "  <thead>\n",
       "    <tr style=\"text-align: right;\">\n",
       "      <th></th>\n",
       "      <th>status_code</th>\n",
       "      <th>content</th>\n",
       "      <th>content_type</th>\n",
       "      <th>url</th>\n",
       "      <th>timestamp</th>\n",
       "    </tr>\n",
       "    <tr>\n",
       "      <th>track_id</th>\n",
       "      <th></th>\n",
       "      <th></th>\n",
       "      <th></th>\n",
       "      <th></th>\n",
       "      <th></th>\n",
       "    </tr>\n",
       "  </thead>\n",
       "  <tbody>\n",
       "    <tr>\n",
       "      <th>49gzU1IS1B6P3GATSZ5eCE</th>\n",
       "      <td>200</td>\n",
       "      <td>{'lyrics': {'syncType': 'LINE_SYNCED', 'lines'...</td>\n",
       "      <td>json</td>\n",
       "      <td>https://spclient.wg.spotify.com/color-lyrics/v...</td>\n",
       "      <td>2023-07-19 10:49:21.425999872</td>\n",
       "    </tr>\n",
       "    <tr>\n",
       "      <th>7bhHPQG8xRuLceGLeB0nLn</th>\n",
       "      <td>200</td>\n",
       "      <td>{'lyrics': {'syncType': 'LINE_SYNCED', 'lines'...</td>\n",
       "      <td>json</td>\n",
       "      <td>https://spclient.wg.spotify.com/color-lyrics/v...</td>\n",
       "      <td>2023-07-19 10:49:21.665999872</td>\n",
       "    </tr>\n",
       "    <tr>\n",
       "      <th>2hMemEDS1l5hrjLWwU1MNt</th>\n",
       "      <td>200</td>\n",
       "      <td>{'lyrics': {'syncType': 'LINE_SYNCED', 'lines'...</td>\n",
       "      <td>json</td>\n",
       "      <td>https://spclient.wg.spotify.com/color-lyrics/v...</td>\n",
       "      <td>2023-07-19 10:49:21.631000064</td>\n",
       "    </tr>\n",
       "    <tr>\n",
       "      <th>4AplWpV222luVik61GptSF</th>\n",
       "      <td>200</td>\n",
       "      <td>{'lyrics': {'syncType': 'LINE_SYNCED', 'lines'...</td>\n",
       "      <td>json</td>\n",
       "      <td>https://spclient.wg.spotify.com/color-lyrics/v...</td>\n",
       "      <td>2023-07-19 10:49:21.822000128</td>\n",
       "    </tr>\n",
       "    <tr>\n",
       "      <th>0qL7RFWg2xKIFCVYFYZy9L</th>\n",
       "      <td>200</td>\n",
       "      <td>{'lyrics': {'syncType': 'UNSYNCED', 'lines': [...</td>\n",
       "      <td>json</td>\n",
       "      <td>https://spclient.wg.spotify.com/color-lyrics/v...</td>\n",
       "      <td>2023-07-19 10:49:22.192000000</td>\n",
       "    </tr>\n",
       "    <tr>\n",
       "      <th>...</th>\n",
       "      <td>...</td>\n",
       "      <td>...</td>\n",
       "      <td>...</td>\n",
       "      <td>...</td>\n",
       "      <td>...</td>\n",
       "    </tr>\n",
       "    <tr>\n",
       "      <th>7EBt4nrQflTtyqbrSWvK5E</th>\n",
       "      <td>200</td>\n",
       "      <td>{'lyrics': {'syncType': 'LINE_SYNCED', 'lines'...</td>\n",
       "      <td>json</td>\n",
       "      <td>https://spclient.wg.spotify.com/color-lyrics/v...</td>\n",
       "      <td>2023-07-19 14:16:53.555000064</td>\n",
       "    </tr>\n",
       "    <tr>\n",
       "      <th>7MIlMtSzo6Ncn4qPQyuU3k</th>\n",
       "      <td>200</td>\n",
       "      <td>{'lyrics': {'syncType': 'LINE_SYNCED', 'lines'...</td>\n",
       "      <td>json</td>\n",
       "      <td>https://spclient.wg.spotify.com/color-lyrics/v...</td>\n",
       "      <td>2023-07-19 14:16:53.743000064</td>\n",
       "    </tr>\n",
       "    <tr>\n",
       "      <th>1K7gOzp3ztwIezyjftTMgy</th>\n",
       "      <td>200</td>\n",
       "      <td>{'lyrics': {'syncType': 'LINE_SYNCED', 'lines'...</td>\n",
       "      <td>json</td>\n",
       "      <td>https://spclient.wg.spotify.com/color-lyrics/v...</td>\n",
       "      <td>2023-07-19 14:16:54.248999936</td>\n",
       "    </tr>\n",
       "    <tr>\n",
       "      <th>0A7yxYg9J8l6s7RLXEFhze</th>\n",
       "      <td>200</td>\n",
       "      <td>{'lyrics': {'syncType': 'UNSYNCED', 'lines': [...</td>\n",
       "      <td>json</td>\n",
       "      <td>https://spclient.wg.spotify.com/color-lyrics/v...</td>\n",
       "      <td>2023-07-19 14:16:53.998000128</td>\n",
       "    </tr>\n",
       "    <tr>\n",
       "      <th>0XKe4lkaD7kGhMwYXlg1Pn</th>\n",
       "      <td>200</td>\n",
       "      <td>{'lyrics': {'syncType': 'LINE_SYNCED', 'lines'...</td>\n",
       "      <td>json</td>\n",
       "      <td>https://spclient.wg.spotify.com/color-lyrics/v...</td>\n",
       "      <td>2023-07-19 14:16:55.424000000</td>\n",
       "    </tr>\n",
       "  </tbody>\n",
       "</table>\n",
       "<p>29838 rows × 5 columns</p>\n",
       "</div>"
      ],
      "text/plain": [
       "                        status_code  \\\n",
       "track_id                              \n",
       "49gzU1IS1B6P3GATSZ5eCE          200   \n",
       "7bhHPQG8xRuLceGLeB0nLn          200   \n",
       "2hMemEDS1l5hrjLWwU1MNt          200   \n",
       "4AplWpV222luVik61GptSF          200   \n",
       "0qL7RFWg2xKIFCVYFYZy9L          200   \n",
       "...                             ...   \n",
       "7EBt4nrQflTtyqbrSWvK5E          200   \n",
       "7MIlMtSzo6Ncn4qPQyuU3k          200   \n",
       "1K7gOzp3ztwIezyjftTMgy          200   \n",
       "0A7yxYg9J8l6s7RLXEFhze          200   \n",
       "0XKe4lkaD7kGhMwYXlg1Pn          200   \n",
       "\n",
       "                                                                  content  \\\n",
       "track_id                                                                    \n",
       "49gzU1IS1B6P3GATSZ5eCE  {'lyrics': {'syncType': 'LINE_SYNCED', 'lines'...   \n",
       "7bhHPQG8xRuLceGLeB0nLn  {'lyrics': {'syncType': 'LINE_SYNCED', 'lines'...   \n",
       "2hMemEDS1l5hrjLWwU1MNt  {'lyrics': {'syncType': 'LINE_SYNCED', 'lines'...   \n",
       "4AplWpV222luVik61GptSF  {'lyrics': {'syncType': 'LINE_SYNCED', 'lines'...   \n",
       "0qL7RFWg2xKIFCVYFYZy9L  {'lyrics': {'syncType': 'UNSYNCED', 'lines': [...   \n",
       "...                                                                   ...   \n",
       "7EBt4nrQflTtyqbrSWvK5E  {'lyrics': {'syncType': 'LINE_SYNCED', 'lines'...   \n",
       "7MIlMtSzo6Ncn4qPQyuU3k  {'lyrics': {'syncType': 'LINE_SYNCED', 'lines'...   \n",
       "1K7gOzp3ztwIezyjftTMgy  {'lyrics': {'syncType': 'LINE_SYNCED', 'lines'...   \n",
       "0A7yxYg9J8l6s7RLXEFhze  {'lyrics': {'syncType': 'UNSYNCED', 'lines': [...   \n",
       "0XKe4lkaD7kGhMwYXlg1Pn  {'lyrics': {'syncType': 'LINE_SYNCED', 'lines'...   \n",
       "\n",
       "                       content_type  \\\n",
       "track_id                              \n",
       "49gzU1IS1B6P3GATSZ5eCE         json   \n",
       "7bhHPQG8xRuLceGLeB0nLn         json   \n",
       "2hMemEDS1l5hrjLWwU1MNt         json   \n",
       "4AplWpV222luVik61GptSF         json   \n",
       "0qL7RFWg2xKIFCVYFYZy9L         json   \n",
       "...                             ...   \n",
       "7EBt4nrQflTtyqbrSWvK5E         json   \n",
       "7MIlMtSzo6Ncn4qPQyuU3k         json   \n",
       "1K7gOzp3ztwIezyjftTMgy         json   \n",
       "0A7yxYg9J8l6s7RLXEFhze         json   \n",
       "0XKe4lkaD7kGhMwYXlg1Pn         json   \n",
       "\n",
       "                                                                      url  \\\n",
       "track_id                                                                    \n",
       "49gzU1IS1B6P3GATSZ5eCE  https://spclient.wg.spotify.com/color-lyrics/v...   \n",
       "7bhHPQG8xRuLceGLeB0nLn  https://spclient.wg.spotify.com/color-lyrics/v...   \n",
       "2hMemEDS1l5hrjLWwU1MNt  https://spclient.wg.spotify.com/color-lyrics/v...   \n",
       "4AplWpV222luVik61GptSF  https://spclient.wg.spotify.com/color-lyrics/v...   \n",
       "0qL7RFWg2xKIFCVYFYZy9L  https://spclient.wg.spotify.com/color-lyrics/v...   \n",
       "...                                                                   ...   \n",
       "7EBt4nrQflTtyqbrSWvK5E  https://spclient.wg.spotify.com/color-lyrics/v...   \n",
       "7MIlMtSzo6Ncn4qPQyuU3k  https://spclient.wg.spotify.com/color-lyrics/v...   \n",
       "1K7gOzp3ztwIezyjftTMgy  https://spclient.wg.spotify.com/color-lyrics/v...   \n",
       "0A7yxYg9J8l6s7RLXEFhze  https://spclient.wg.spotify.com/color-lyrics/v...   \n",
       "0XKe4lkaD7kGhMwYXlg1Pn  https://spclient.wg.spotify.com/color-lyrics/v...   \n",
       "\n",
       "                                           timestamp  \n",
       "track_id                                              \n",
       "49gzU1IS1B6P3GATSZ5eCE 2023-07-19 10:49:21.425999872  \n",
       "7bhHPQG8xRuLceGLeB0nLn 2023-07-19 10:49:21.665999872  \n",
       "2hMemEDS1l5hrjLWwU1MNt 2023-07-19 10:49:21.631000064  \n",
       "4AplWpV222luVik61GptSF 2023-07-19 10:49:21.822000128  \n",
       "0qL7RFWg2xKIFCVYFYZy9L 2023-07-19 10:49:22.192000000  \n",
       "...                                              ...  \n",
       "7EBt4nrQflTtyqbrSWvK5E 2023-07-19 14:16:53.555000064  \n",
       "7MIlMtSzo6Ncn4qPQyuU3k 2023-07-19 14:16:53.743000064  \n",
       "1K7gOzp3ztwIezyjftTMgy 2023-07-19 14:16:54.248999936  \n",
       "0A7yxYg9J8l6s7RLXEFhze 2023-07-19 14:16:53.998000128  \n",
       "0XKe4lkaD7kGhMwYXlg1Pn 2023-07-19 14:16:55.424000000  \n",
       "\n",
       "[29838 rows x 5 columns]"
      ]
     },
     "execution_count": 7,
     "metadata": {},
     "output_type": "execute_result"
    }
   ],
   "source": [
    "lyrics_api_resp[lyrics_api_resp.timestamp.notna()]"
   ]
  },
  {
   "cell_type": "code",
   "execution_count": 8,
   "metadata": {},
   "outputs": [
    {
     "data": {
      "text/plain": [
       "status_code              int64\n",
       "content                 object\n",
       "content_type            object\n",
       "url                     object\n",
       "timestamp       datetime64[ns]\n",
       "dtype: object"
      ]
     },
     "execution_count": 8,
     "metadata": {},
     "output_type": "execute_result"
    }
   ],
   "source": [
    "lyrics_api_resp.dtypes"
   ]
  },
  {
   "cell_type": "code",
   "execution_count": 9,
   "metadata": {},
   "outputs": [
    {
     "data": {
      "text/plain": [
       "200    134018\n",
       "Name: status_code, dtype: int64"
      ]
     },
     "execution_count": 9,
     "metadata": {},
     "output_type": "execute_result"
    }
   ],
   "source": [
    "lyrics_api_resp.status_code.value_counts()"
   ]
  },
  {
   "cell_type": "code",
   "execution_count": 10,
   "metadata": {},
   "outputs": [
    {
     "data": {
      "text/plain": [
       "json    134018\n",
       "Name: content_type, dtype: int64"
      ]
     },
     "execution_count": 10,
     "metadata": {},
     "output_type": "execute_result"
    }
   ],
   "source": [
    "lyrics_api_resp.content_type.value_counts()"
   ]
  },
  {
   "cell_type": "code",
   "execution_count": 11,
   "metadata": {},
   "outputs": [],
   "source": [
    "# convert dicts in content to columns of a new dataframe, use track_id as index\n",
    "lyrics_df = pd.DataFrame(lyrics_api_resp.content.values.tolist(), index=lyrics_api_resp.index)"
   ]
  },
  {
   "cell_type": "code",
   "execution_count": 12,
   "metadata": {},
   "outputs": [
    {
     "data": {
      "text/html": [
       "<div>\n",
       "<style scoped>\n",
       "    .dataframe tbody tr th:only-of-type {\n",
       "        vertical-align: middle;\n",
       "    }\n",
       "\n",
       "    .dataframe tbody tr th {\n",
       "        vertical-align: top;\n",
       "    }\n",
       "\n",
       "    .dataframe thead th {\n",
       "        text-align: right;\n",
       "    }\n",
       "</style>\n",
       "<table border=\"1\" class=\"dataframe\">\n",
       "  <thead>\n",
       "    <tr style=\"text-align: right;\">\n",
       "      <th></th>\n",
       "      <th>lyrics</th>\n",
       "      <th>colors</th>\n",
       "      <th>hasVocalRemoval</th>\n",
       "    </tr>\n",
       "    <tr>\n",
       "      <th>track_id</th>\n",
       "      <th></th>\n",
       "      <th></th>\n",
       "      <th></th>\n",
       "    </tr>\n",
       "  </thead>\n",
       "  <tbody>\n",
       "    <tr>\n",
       "      <th>6rQSrBHf7HlZjtcMZ4S4bO</th>\n",
       "      <td>{'syncType': 'LINE_SYNCED', 'lines': [{'startT...</td>\n",
       "      <td>{'background': -8423168, 'text': -16777216, 'h...</td>\n",
       "      <td>0</td>\n",
       "    </tr>\n",
       "    <tr>\n",
       "      <th>58IL315gMSTD37DOZPJ2hf</th>\n",
       "      <td>{'syncType': 'LINE_SYNCED', 'lines': [{'startT...</td>\n",
       "      <td>{'background': -1824462, 'text': -16777216, 'h...</td>\n",
       "      <td>0</td>\n",
       "    </tr>\n",
       "    <tr>\n",
       "      <th>5J1c3M4EldCfNxXwrwt8mT</th>\n",
       "      <td>{'syncType': 'LINE_SYNCED', 'lines': [{'startT...</td>\n",
       "      <td>{'background': -2997180, 'text': -16777216, 'h...</td>\n",
       "      <td>0</td>\n",
       "    </tr>\n",
       "    <tr>\n",
       "      <th>20ZAJdsKB5IGbGj4ilRt2o</th>\n",
       "      <td>{'syncType': 'LINE_SYNCED', 'lines': [{'startT...</td>\n",
       "      <td>{'background': -9144457, 'text': -16777216, 'h...</td>\n",
       "      <td>0</td>\n",
       "    </tr>\n",
       "    <tr>\n",
       "      <th>5mey7CLLuFToM2P68Qu1gF</th>\n",
       "      <td>{'syncType': 'LINE_SYNCED', 'lines': [{'startT...</td>\n",
       "      <td>{'background': -3193261, 'text': -16777216, 'h...</td>\n",
       "      <td>0</td>\n",
       "    </tr>\n",
       "  </tbody>\n",
       "</table>\n",
       "</div>"
      ],
      "text/plain": [
       "                                                                   lyrics  \\\n",
       "track_id                                                                    \n",
       "6rQSrBHf7HlZjtcMZ4S4bO  {'syncType': 'LINE_SYNCED', 'lines': [{'startT...   \n",
       "58IL315gMSTD37DOZPJ2hf  {'syncType': 'LINE_SYNCED', 'lines': [{'startT...   \n",
       "5J1c3M4EldCfNxXwrwt8mT  {'syncType': 'LINE_SYNCED', 'lines': [{'startT...   \n",
       "20ZAJdsKB5IGbGj4ilRt2o  {'syncType': 'LINE_SYNCED', 'lines': [{'startT...   \n",
       "5mey7CLLuFToM2P68Qu1gF  {'syncType': 'LINE_SYNCED', 'lines': [{'startT...   \n",
       "\n",
       "                                                                   colors  \\\n",
       "track_id                                                                    \n",
       "6rQSrBHf7HlZjtcMZ4S4bO  {'background': -8423168, 'text': -16777216, 'h...   \n",
       "58IL315gMSTD37DOZPJ2hf  {'background': -1824462, 'text': -16777216, 'h...   \n",
       "5J1c3M4EldCfNxXwrwt8mT  {'background': -2997180, 'text': -16777216, 'h...   \n",
       "20ZAJdsKB5IGbGj4ilRt2o  {'background': -9144457, 'text': -16777216, 'h...   \n",
       "5mey7CLLuFToM2P68Qu1gF  {'background': -3193261, 'text': -16777216, 'h...   \n",
       "\n",
       "                       hasVocalRemoval  \n",
       "track_id                                \n",
       "6rQSrBHf7HlZjtcMZ4S4bO               0  \n",
       "58IL315gMSTD37DOZPJ2hf               0  \n",
       "5J1c3M4EldCfNxXwrwt8mT               0  \n",
       "20ZAJdsKB5IGbGj4ilRt2o               0  \n",
       "5mey7CLLuFToM2P68Qu1gF               0  "
      ]
     },
     "execution_count": 12,
     "metadata": {},
     "output_type": "execute_result"
    }
   ],
   "source": [
    "lyrics_df.head()"
   ]
  },
  {
   "cell_type": "code",
   "execution_count": null,
   "metadata": {},
   "outputs": [
    {
     "data": {
      "text/plain": [
       "0    134018\n",
       "Name: hasVocalRemoval, dtype: int64"
      ]
     },
     "execution_count": 12,
     "metadata": {},
     "output_type": "execute_result"
    }
   ],
   "source": [
    "lyrics_df.hasVocalRemoval.value_counts()"
   ]
  },
  {
   "cell_type": "code",
   "execution_count": 13,
   "metadata": {},
   "outputs": [
    {
     "data": {
      "text/plain": [
       "{'background': -8423168, 'text': -16777216, 'highlightText': -1}"
      ]
     },
     "execution_count": 13,
     "metadata": {},
     "output_type": "execute_result"
    }
   ],
   "source": [
    "lyrics_df.iloc[0].colors"
   ]
  },
  {
   "cell_type": "markdown",
   "metadata": {},
   "source": [
    "Maybe these are some hexadecimal values that were parsed incorrectly?\n",
    "\n",
    "Anyway, we can disregard both the `hasVocalRemoval` and `colors` columns and focus on the content of the `lyrics` attribute of the API response content for each track."
   ]
  },
  {
   "cell_type": "code",
   "execution_count": 15,
   "metadata": {},
   "outputs": [
    {
     "data": {
      "text/html": [
       "<div>\n",
       "<style scoped>\n",
       "    .dataframe tbody tr th:only-of-type {\n",
       "        vertical-align: middle;\n",
       "    }\n",
       "\n",
       "    .dataframe tbody tr th {\n",
       "        vertical-align: top;\n",
       "    }\n",
       "\n",
       "    .dataframe thead th {\n",
       "        text-align: right;\n",
       "    }\n",
       "</style>\n",
       "<table border=\"1\" class=\"dataframe\">\n",
       "  <thead>\n",
       "    <tr style=\"text-align: right;\">\n",
       "      <th></th>\n",
       "      <th>syncType</th>\n",
       "      <th>lines</th>\n",
       "      <th>provider</th>\n",
       "      <th>providerLyricsId</th>\n",
       "      <th>providerDisplayName</th>\n",
       "      <th>syncLyricsUri</th>\n",
       "      <th>isDenseTypeface</th>\n",
       "      <th>alternatives</th>\n",
       "      <th>language</th>\n",
       "      <th>isRtlLanguage</th>\n",
       "      <th>fullscreenAction</th>\n",
       "    </tr>\n",
       "    <tr>\n",
       "      <th>track_id</th>\n",
       "      <th></th>\n",
       "      <th></th>\n",
       "      <th></th>\n",
       "      <th></th>\n",
       "      <th></th>\n",
       "      <th></th>\n",
       "      <th></th>\n",
       "      <th></th>\n",
       "      <th></th>\n",
       "      <th></th>\n",
       "      <th></th>\n",
       "    </tr>\n",
       "  </thead>\n",
       "  <tbody>\n",
       "    <tr>\n",
       "      <th>6rQSrBHf7HlZjtcMZ4S4bO</th>\n",
       "      <td>LINE_SYNCED</td>\n",
       "      <td>[{'startTimeMs': '260', 'words': 'A ella le gu...</td>\n",
       "      <td>MusixMatch</td>\n",
       "      <td>62447738</td>\n",
       "      <td>Musixmatch</td>\n",
       "      <td></td>\n",
       "      <td>False</td>\n",
       "      <td>[]</td>\n",
       "      <td>es</td>\n",
       "      <td>False</td>\n",
       "      <td>FULLSCREEN_LYRICS</td>\n",
       "    </tr>\n",
       "    <tr>\n",
       "      <th>58IL315gMSTD37DOZPJ2hf</th>\n",
       "      <td>LINE_SYNCED</td>\n",
       "      <td>[{'startTimeMs': '2200', 'words': 'Estamos en ...</td>\n",
       "      <td>MusixMatch</td>\n",
       "      <td>59777592</td>\n",
       "      <td>Musixmatch</td>\n",
       "      <td></td>\n",
       "      <td>False</td>\n",
       "      <td>[]</td>\n",
       "      <td>es</td>\n",
       "      <td>False</td>\n",
       "      <td>FULLSCREEN_LYRICS</td>\n",
       "    </tr>\n",
       "    <tr>\n",
       "      <th>5J1c3M4EldCfNxXwrwt8mT</th>\n",
       "      <td>LINE_SYNCED</td>\n",
       "      <td>[{'startTimeMs': '930', 'words': '(Traicionera...</td>\n",
       "      <td>MusixMatch</td>\n",
       "      <td>62558807</td>\n",
       "      <td>Musixmatch</td>\n",
       "      <td></td>\n",
       "      <td>False</td>\n",
       "      <td>[]</td>\n",
       "      <td>es</td>\n",
       "      <td>False</td>\n",
       "      <td>FULLSCREEN_LYRICS</td>\n",
       "    </tr>\n",
       "    <tr>\n",
       "      <th>20ZAJdsKB5IGbGj4ilRt2o</th>\n",
       "      <td>LINE_SYNCED</td>\n",
       "      <td>[{'startTimeMs': '920', 'words': 'Yo sé que tu...</td>\n",
       "      <td>MusixMatch</td>\n",
       "      <td>62255957</td>\n",
       "      <td>Musixmatch</td>\n",
       "      <td></td>\n",
       "      <td>False</td>\n",
       "      <td>[]</td>\n",
       "      <td>es</td>\n",
       "      <td>False</td>\n",
       "      <td>FULLSCREEN_LYRICS</td>\n",
       "    </tr>\n",
       "    <tr>\n",
       "      <th>5mey7CLLuFToM2P68Qu1gF</th>\n",
       "      <td>LINE_SYNCED</td>\n",
       "      <td>[{'startTimeMs': '280', 'words': 'Me delata la...</td>\n",
       "      <td>MusixMatch</td>\n",
       "      <td>55899454</td>\n",
       "      <td>Musixmatch</td>\n",
       "      <td></td>\n",
       "      <td>False</td>\n",
       "      <td>[]</td>\n",
       "      <td>es</td>\n",
       "      <td>False</td>\n",
       "      <td>FULLSCREEN_LYRICS</td>\n",
       "    </tr>\n",
       "  </tbody>\n",
       "</table>\n",
       "</div>"
      ],
      "text/plain": [
       "                           syncType  \\\n",
       "track_id                              \n",
       "6rQSrBHf7HlZjtcMZ4S4bO  LINE_SYNCED   \n",
       "58IL315gMSTD37DOZPJ2hf  LINE_SYNCED   \n",
       "5J1c3M4EldCfNxXwrwt8mT  LINE_SYNCED   \n",
       "20ZAJdsKB5IGbGj4ilRt2o  LINE_SYNCED   \n",
       "5mey7CLLuFToM2P68Qu1gF  LINE_SYNCED   \n",
       "\n",
       "                                                                    lines  \\\n",
       "track_id                                                                    \n",
       "6rQSrBHf7HlZjtcMZ4S4bO  [{'startTimeMs': '260', 'words': 'A ella le gu...   \n",
       "58IL315gMSTD37DOZPJ2hf  [{'startTimeMs': '2200', 'words': 'Estamos en ...   \n",
       "5J1c3M4EldCfNxXwrwt8mT  [{'startTimeMs': '930', 'words': '(Traicionera...   \n",
       "20ZAJdsKB5IGbGj4ilRt2o  [{'startTimeMs': '920', 'words': 'Yo sé que tu...   \n",
       "5mey7CLLuFToM2P68Qu1gF  [{'startTimeMs': '280', 'words': 'Me delata la...   \n",
       "\n",
       "                          provider providerLyricsId providerDisplayName  \\\n",
       "track_id                                                                  \n",
       "6rQSrBHf7HlZjtcMZ4S4bO  MusixMatch         62447738          Musixmatch   \n",
       "58IL315gMSTD37DOZPJ2hf  MusixMatch         59777592          Musixmatch   \n",
       "5J1c3M4EldCfNxXwrwt8mT  MusixMatch         62558807          Musixmatch   \n",
       "20ZAJdsKB5IGbGj4ilRt2o  MusixMatch         62255957          Musixmatch   \n",
       "5mey7CLLuFToM2P68Qu1gF  MusixMatch         55899454          Musixmatch   \n",
       "\n",
       "                       syncLyricsUri  isDenseTypeface alternatives language  \\\n",
       "track_id                                                                      \n",
       "6rQSrBHf7HlZjtcMZ4S4bO                          False           []       es   \n",
       "58IL315gMSTD37DOZPJ2hf                          False           []       es   \n",
       "5J1c3M4EldCfNxXwrwt8mT                          False           []       es   \n",
       "20ZAJdsKB5IGbGj4ilRt2o                          False           []       es   \n",
       "5mey7CLLuFToM2P68Qu1gF                          False           []       es   \n",
       "\n",
       "                        isRtlLanguage   fullscreenAction  \n",
       "track_id                                                  \n",
       "6rQSrBHf7HlZjtcMZ4S4bO          False  FULLSCREEN_LYRICS  \n",
       "58IL315gMSTD37DOZPJ2hf          False  FULLSCREEN_LYRICS  \n",
       "5J1c3M4EldCfNxXwrwt8mT          False  FULLSCREEN_LYRICS  \n",
       "20ZAJdsKB5IGbGj4ilRt2o          False  FULLSCREEN_LYRICS  \n",
       "5mey7CLLuFToM2P68Qu1gF          False  FULLSCREEN_LYRICS  "
      ]
     },
     "execution_count": 15,
     "metadata": {},
     "output_type": "execute_result"
    }
   ],
   "source": [
    "lyrics_df = pd.DataFrame(lyrics_df.lyrics.values.tolist(), index=lyrics_df.index)\n",
    "lyrics_df.head()"
   ]
  },
  {
   "cell_type": "code",
   "execution_count": 16,
   "metadata": {},
   "outputs": [
    {
     "data": {
      "text/plain": [
       "syncType                                                     LINE_SYNCED\n",
       "lines                  [{'startTimeMs': '2520', 'words': 'Hola, míram...\n",
       "provider                                                      MusixMatch\n",
       "providerLyricsId                                                63800397\n",
       "providerDisplayName                                           Musixmatch\n",
       "syncLyricsUri                                                           \n",
       "isDenseTypeface                                                    False\n",
       "alternatives                                                          []\n",
       "language                                                              es\n",
       "isRtlLanguage                                                      False\n",
       "fullscreenAction                                       FULLSCREEN_LYRICS\n",
       "Name: 6mICuAdrwEjh6Y6lroV2Kg, dtype: object"
      ]
     },
     "execution_count": 16,
     "metadata": {},
     "output_type": "execute_result"
    }
   ],
   "source": [
    "example_lyrics = lyrics_df.loc['6mICuAdrwEjh6Y6lroV2Kg']\n",
    "example_lyrics"
   ]
  },
  {
   "cell_type": "code",
   "execution_count": 24,
   "metadata": {},
   "outputs": [],
   "source": [
    "temp_data_folder_path = \"data\""
   ]
  },
  {
   "cell_type": "code",
   "execution_count": 25,
   "metadata": {},
   "outputs": [],
   "source": [
    "write_series_to_file_as_prettified_json(example_lyrics, os.path.join(temp_data_folder_path, \"lyrics.json\"))"
   ]
  },
  {
   "cell_type": "markdown",
   "metadata": {},
   "source": [
    "The API response even contains timing information (when what line of the lyrics should be displayed). Another interesting aspect is that the origin of the lyrics (usually, or always (?) musiXmatch), together with the ID for the provider is provided. Furthermore, the language of the lyrics is included. This data could be used to verify how much chart music in a particular country is in its official language."
   ]
  }
 ],
 "metadata": {
  "kernelspec": {
   "display_name": "spotify-charts-analysis",
   "language": "python",
   "name": "python3"
  },
  "language_info": {
   "codemirror_mode": {
    "name": "ipython",
    "version": 3
   },
   "file_extension": ".py",
   "mimetype": "text/x-python",
   "name": "python",
   "nbconvert_exporter": "python",
   "pygments_lexer": "ipython3",
   "version": "3.10.11"
  },
  "orig_nbformat": 4
 },
 "nbformat": 4,
 "nbformat_minor": 2
}
