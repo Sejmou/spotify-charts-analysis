{
  "cells": [
    {
      "attachments": {},
      "cell_type": "markdown",
      "metadata": {},
      "source": [
        "## Album data"
      ]
    },
    {
      "cell_type": "code",
      "execution_count": 1,
      "metadata": {},
      "outputs": [],
      "source": [
        "import pandas as pd\n",
        "from helpers.data import (\n",
        "    create_data_path,\n",
        "    load_parquet_files_in_dir,\n",
        ")\n",
        "import os\n",
        "from tqdm import tqdm\n",
        "from datetime import date\n",
        "\n",
        "data_folder = create_data_path(\"top200_Jan_2017_to_June_2023\")"
      ]
    },
    {
      "cell_type": "code",
      "execution_count": 2,
      "metadata": {},
      "outputs": [
        {
          "data": {
            "text/plain": [
              "dict_keys(['copyrights', 'artists', 'markets', 'original_responses', 'images', 'metadata'])"
            ]
          },
          "execution_count": 2,
          "metadata": {},
          "output_type": "execute_result"
        }
      ],
      "source": [
        "album_data_dir =  os.path.join(data_folder, \"albums\")\n",
        "album_df_dict = load_parquet_files_in_dir(album_data_dir)\n",
        "album_df_dict.keys()"
      ]
    },
    {
      "cell_type": "markdown",
      "metadata": {},
      "source": [
        "## Metadata"
      ]
    },
    {
      "cell_type": "code",
      "execution_count": 3,
      "metadata": {},
      "outputs": [
        {
          "data": {
            "text/html": [
              "<div>\n",
              "<style scoped>\n",
              "    .dataframe tbody tr th:only-of-type {\n",
              "        vertical-align: middle;\n",
              "    }\n",
              "\n",
              "    .dataframe tbody tr th {\n",
              "        vertical-align: top;\n",
              "    }\n",
              "\n",
              "    .dataframe thead th {\n",
              "        text-align: right;\n",
              "    }\n",
              "</style>\n",
              "<table border=\"1\" class=\"dataframe\">\n",
              "  <thead>\n",
              "    <tr style=\"text-align: right;\">\n",
              "      <th></th>\n",
              "      <th>album_type</th>\n",
              "      <th>label</th>\n",
              "      <th>name</th>\n",
              "      <th>release_date</th>\n",
              "      <th>release_date_precision</th>\n",
              "      <th>total_tracks</th>\n",
              "      <th>upc_id</th>\n",
              "      <th>amgid_id</th>\n",
              "    </tr>\n",
              "    <tr>\n",
              "      <th>album_id</th>\n",
              "      <th></th>\n",
              "      <th></th>\n",
              "      <th></th>\n",
              "      <th></th>\n",
              "      <th></th>\n",
              "      <th></th>\n",
              "      <th></th>\n",
              "      <th></th>\n",
              "    </tr>\n",
              "  </thead>\n",
              "  <tbody>\n",
              "    <tr>\n",
              "      <th>6bUxh58rYTL67FS8dyTKMN</th>\n",
              "      <td>album</td>\n",
              "      <td>Sony Music Latin</td>\n",
              "      <td>El Dorado</td>\n",
              "      <td>2017-05-26</td>\n",
              "      <td>day</td>\n",
              "      <td>13</td>\n",
              "      <td>886446480060</td>\n",
              "      <td>None</td>\n",
              "    </tr>\n",
              "    <tr>\n",
              "      <th>1FkaJUwfqLdQdSmRPBlw6l</th>\n",
              "      <td>single</td>\n",
              "      <td>Sony Music Latin</td>\n",
              "      <td>Vente Pa' Ca (feat. Maluma)</td>\n",
              "      <td>2016-09-22</td>\n",
              "      <td>day</td>\n",
              "      <td>1</td>\n",
              "      <td>886446092928</td>\n",
              "      <td>None</td>\n",
              "    </tr>\n",
              "    <tr>\n",
              "      <th>0YLrAWUbY0nyM7PFtqnYld</th>\n",
              "      <td>album</td>\n",
              "      <td>Sony Music Latin</td>\n",
              "      <td>Primera Cita</td>\n",
              "      <td>2016-08-26</td>\n",
              "      <td>day</td>\n",
              "      <td>14</td>\n",
              "      <td>886445722550</td>\n",
              "      <td>None</td>\n",
              "    </tr>\n",
              "    <tr>\n",
              "      <th>2LYwooMTH1iJeBvWyXXWUf</th>\n",
              "      <td>album</td>\n",
              "      <td>Universal Music Group</td>\n",
              "      <td>Energía</td>\n",
              "      <td>2016-06-24</td>\n",
              "      <td>day</td>\n",
              "      <td>15</td>\n",
              "      <td>00602547952387</td>\n",
              "      <td>None</td>\n",
              "    </tr>\n",
              "    <tr>\n",
              "      <th>2zrLk90b4qjmrxRZKyIY7X</th>\n",
              "      <td>single</td>\n",
              "      <td>Universal Music Group</td>\n",
              "      <td>Shaky Shaky</td>\n",
              "      <td>2016-04-08</td>\n",
              "      <td>day</td>\n",
              "      <td>1</td>\n",
              "      <td>00602547885456</td>\n",
              "      <td>None</td>\n",
              "    </tr>\n",
              "  </tbody>\n",
              "</table>\n",
              "</div>"
            ],
            "text/plain": [
              "                       album_type                  label  \\\n",
              "album_id                                                   \n",
              "6bUxh58rYTL67FS8dyTKMN      album       Sony Music Latin   \n",
              "1FkaJUwfqLdQdSmRPBlw6l     single       Sony Music Latin   \n",
              "0YLrAWUbY0nyM7PFtqnYld      album       Sony Music Latin   \n",
              "2LYwooMTH1iJeBvWyXXWUf      album  Universal Music Group   \n",
              "2zrLk90b4qjmrxRZKyIY7X     single  Universal Music Group   \n",
              "\n",
              "                                               name release_date  \\\n",
              "album_id                                                           \n",
              "6bUxh58rYTL67FS8dyTKMN                    El Dorado   2017-05-26   \n",
              "1FkaJUwfqLdQdSmRPBlw6l  Vente Pa' Ca (feat. Maluma)   2016-09-22   \n",
              "0YLrAWUbY0nyM7PFtqnYld                 Primera Cita   2016-08-26   \n",
              "2LYwooMTH1iJeBvWyXXWUf                      Energía   2016-06-24   \n",
              "2zrLk90b4qjmrxRZKyIY7X                  Shaky Shaky   2016-04-08   \n",
              "\n",
              "                       release_date_precision  total_tracks          upc_id  \\\n",
              "album_id                                                                      \n",
              "6bUxh58rYTL67FS8dyTKMN                    day            13    886446480060   \n",
              "1FkaJUwfqLdQdSmRPBlw6l                    day             1    886446092928   \n",
              "0YLrAWUbY0nyM7PFtqnYld                    day            14    886445722550   \n",
              "2LYwooMTH1iJeBvWyXXWUf                    day            15  00602547952387   \n",
              "2zrLk90b4qjmrxRZKyIY7X                    day             1  00602547885456   \n",
              "\n",
              "                       amgid_id  \n",
              "album_id                         \n",
              "6bUxh58rYTL67FS8dyTKMN     None  \n",
              "1FkaJUwfqLdQdSmRPBlw6l     None  \n",
              "0YLrAWUbY0nyM7PFtqnYld     None  \n",
              "2LYwooMTH1iJeBvWyXXWUf     None  \n",
              "2zrLk90b4qjmrxRZKyIY7X     None  "
            ]
          },
          "execution_count": 3,
          "metadata": {},
          "output_type": "execute_result"
        }
      ],
      "source": [
        "album_metadata = album_df_dict['metadata']\n",
        "album_metadata.head()"
      ]
    },
    {
      "cell_type": "code",
      "execution_count": 4,
      "metadata": {},
      "outputs": [
        {
          "data": {
            "text/plain": [
              "Sony Music Entertainment       2323\n",
              "Universal Music Group          1778\n",
              "Columbia                       1519\n",
              "WM Finland                     1473\n",
              "Universal Music Oy             1196\n",
              "RCA Records Label               949\n",
              "Universal Music Italia srL.     745\n",
              "Universal Music AB              722\n",
              "Universal Music A/S             676\n",
              "WM Sweden                       622\n",
              "Name: label, dtype: int64"
            ]
          },
          "execution_count": 4,
          "metadata": {},
          "output_type": "execute_result"
        }
      ],
      "source": [
        "album_metadata.label.value_counts().sort_values(ascending=False)[:10]"
      ]
    },
    {
      "cell_type": "code",
      "execution_count": 5,
      "metadata": {},
      "outputs": [
        {
          "data": {
            "text/plain": [
              "Timestamp('1840-06-14 00:00:00')"
            ]
          },
          "execution_count": 5,
          "metadata": {},
          "output_type": "execute_result"
        }
      ],
      "source": [
        "album_metadata.release_date.min()"
      ]
    },
    {
      "cell_type": "markdown",
      "metadata": {},
      "source": [
        "## Artists"
      ]
    },
    {
      "cell_type": "code",
      "execution_count": 6,
      "metadata": {},
      "outputs": [
        {
          "data": {
            "text/plain": [
              "1    103247\n",
              "2     22756\n",
              "3      6092\n",
              "4         9\n",
              "5         6\n",
              "Name: pos, dtype: int64"
            ]
          },
          "execution_count": 6,
          "metadata": {},
          "output_type": "execute_result"
        }
      ],
      "source": [
        "album_artists = album_df_dict['artists']\n",
        "album_artists.pos.value_counts()"
      ]
    },
    {
      "cell_type": "code",
      "execution_count": 7,
      "metadata": {},
      "outputs": [
        {
          "data": {
            "text/html": [
              "<div>\n",
              "<style scoped>\n",
              "    .dataframe tbody tr th:only-of-type {\n",
              "        vertical-align: middle;\n",
              "    }\n",
              "\n",
              "    .dataframe tbody tr th {\n",
              "        vertical-align: top;\n",
              "    }\n",
              "\n",
              "    .dataframe thead th {\n",
              "        text-align: right;\n",
              "    }\n",
              "</style>\n",
              "<table border=\"1\" class=\"dataframe\">\n",
              "  <thead>\n",
              "    <tr style=\"text-align: right;\">\n",
              "      <th></th>\n",
              "      <th>artist_id</th>\n",
              "      <th>pos</th>\n",
              "    </tr>\n",
              "    <tr>\n",
              "      <th>album_id</th>\n",
              "      <th></th>\n",
              "      <th></th>\n",
              "    </tr>\n",
              "  </thead>\n",
              "  <tbody>\n",
              "    <tr>\n",
              "      <th>6bUxh58rYTL67FS8dyTKMN</th>\n",
              "      <td>0EmeFodog0BfCgMzAIvKQp</td>\n",
              "      <td>1</td>\n",
              "    </tr>\n",
              "    <tr>\n",
              "      <th>1FkaJUwfqLdQdSmRPBlw6l</th>\n",
              "      <td>7slfeZO9LsJbWgpkIoXBUJ</td>\n",
              "      <td>1</td>\n",
              "    </tr>\n",
              "    <tr>\n",
              "      <th>0YLrAWUbY0nyM7PFtqnYld</th>\n",
              "      <td>0eecdvMrqBftK0M1VKhaF4</td>\n",
              "      <td>1</td>\n",
              "    </tr>\n",
              "    <tr>\n",
              "      <th>2LYwooMTH1iJeBvWyXXWUf</th>\n",
              "      <td>1vyhD5VmyZ7KMfW5gqLgo5</td>\n",
              "      <td>1</td>\n",
              "    </tr>\n",
              "    <tr>\n",
              "      <th>2zrLk90b4qjmrxRZKyIY7X</th>\n",
              "      <td>4VMYDCV2IEDYJArk749S6m</td>\n",
              "      <td>1</td>\n",
              "    </tr>\n",
              "  </tbody>\n",
              "</table>\n",
              "</div>"
            ],
            "text/plain": [
              "                                     artist_id  pos\n",
              "album_id                                           \n",
              "6bUxh58rYTL67FS8dyTKMN  0EmeFodog0BfCgMzAIvKQp    1\n",
              "1FkaJUwfqLdQdSmRPBlw6l  7slfeZO9LsJbWgpkIoXBUJ    1\n",
              "0YLrAWUbY0nyM7PFtqnYld  0eecdvMrqBftK0M1VKhaF4    1\n",
              "2LYwooMTH1iJeBvWyXXWUf  1vyhD5VmyZ7KMfW5gqLgo5    1\n",
              "2zrLk90b4qjmrxRZKyIY7X  4VMYDCV2IEDYJArk749S6m    1"
            ]
          },
          "execution_count": 7,
          "metadata": {},
          "output_type": "execute_result"
        }
      ],
      "source": [
        "album_artists.head()"
      ]
    },
    {
      "cell_type": "code",
      "execution_count": 8,
      "metadata": {},
      "outputs": [
        {
          "data": {
            "text/html": [
              "<div>\n",
              "<style scoped>\n",
              "    .dataframe tbody tr th:only-of-type {\n",
              "        vertical-align: middle;\n",
              "    }\n",
              "\n",
              "    .dataframe tbody tr th {\n",
              "        vertical-align: top;\n",
              "    }\n",
              "\n",
              "    .dataframe thead th {\n",
              "        text-align: right;\n",
              "    }\n",
              "</style>\n",
              "<table border=\"1\" class=\"dataframe\">\n",
              "  <thead>\n",
              "    <tr style=\"text-align: right;\">\n",
              "      <th></th>\n",
              "      <th>text</th>\n",
              "      <th>type</th>\n",
              "    </tr>\n",
              "    <tr>\n",
              "      <th>album_id</th>\n",
              "      <th></th>\n",
              "      <th></th>\n",
              "    </tr>\n",
              "  </thead>\n",
              "  <tbody>\n",
              "    <tr>\n",
              "      <th>6bUxh58rYTL67FS8dyTKMN</th>\n",
              "      <td>(P) 2016 Wati-B under exclusive license to Son...</td>\n",
              "      <td>P</td>\n",
              "    </tr>\n",
              "    <tr>\n",
              "      <th>1FkaJUwfqLdQdSmRPBlw6l</th>\n",
              "      <td>(P) 2016 Sony Music Entertainment US Latin LLC</td>\n",
              "      <td>P</td>\n",
              "    </tr>\n",
              "    <tr>\n",
              "      <th>0YLrAWUbY0nyM7PFtqnYld</th>\n",
              "      <td>(P) 2016 Sony Music Entertainment US Latin LLC</td>\n",
              "      <td>P</td>\n",
              "    </tr>\n",
              "    <tr>\n",
              "      <th>2LYwooMTH1iJeBvWyXXWUf</th>\n",
              "      <td>© 2016 Capitol Latin</td>\n",
              "      <td>C</td>\n",
              "    </tr>\n",
              "    <tr>\n",
              "      <th>2LYwooMTH1iJeBvWyXXWUf</th>\n",
              "      <td>℗ 2016 Capitol Latin</td>\n",
              "      <td>P</td>\n",
              "    </tr>\n",
              "  </tbody>\n",
              "</table>\n",
              "</div>"
            ],
            "text/plain": [
              "                                                                     text type\n",
              "album_id                                                                      \n",
              "6bUxh58rYTL67FS8dyTKMN  (P) 2016 Wati-B under exclusive license to Son...    P\n",
              "1FkaJUwfqLdQdSmRPBlw6l     (P) 2016 Sony Music Entertainment US Latin LLC    P\n",
              "0YLrAWUbY0nyM7PFtqnYld     (P) 2016 Sony Music Entertainment US Latin LLC    P\n",
              "2LYwooMTH1iJeBvWyXXWUf                               © 2016 Capitol Latin    C\n",
              "2LYwooMTH1iJeBvWyXXWUf                               ℗ 2016 Capitol Latin    P"
            ]
          },
          "execution_count": 8,
          "metadata": {},
          "output_type": "execute_result"
        }
      ],
      "source": [
        "album_copyrights = album_df_dict['copyrights']\n",
        "album_copyrights.head()"
      ]
    },
    {
      "cell_type": "code",
      "execution_count": 9,
      "metadata": {},
      "outputs": [
        {
          "data": {
            "text/plain": [
              "102944"
            ]
          },
          "execution_count": 9,
          "metadata": {},
          "output_type": "execute_result"
        }
      ],
      "source": [
        "album_copyrights.index.nunique()"
      ]
    },
    {
      "cell_type": "code",
      "execution_count": 10,
      "metadata": {},
      "outputs": [
        {
          "data": {
            "text/plain": [
              "P    100860\n",
              "C     86506\n",
              "Name: type, dtype: int64"
            ]
          },
          "execution_count": 10,
          "metadata": {},
          "output_type": "execute_result"
        }
      ],
      "source": [
        "album_copyrights.type.value_counts()"
      ]
    },
    {
      "cell_type": "code",
      "execution_count": 11,
      "metadata": {},
      "outputs": [
        {
          "data": {
            "text/plain": [
              "2019 Super Cassettes Industries Private Limited                                                                    252\n",
              "© 2018 Universal Music Spain S.L.U./ Gestmusic Endemol, SAU/ Radio Televisión Española, Sociedad Anónima S.M.E.    184\n",
              "℗ 2018 Universal Music Spain S.L.U./ Gestmusic Endemol, SAU/ Radio Televisión Española, Sociedad Anónima S.M.E.    181\n",
              "NMC United Entertainment Ltd.                                                                                      176\n",
              "2020 Super Cassettes Industries Private Limited                                                                    152\n",
              "© 2017 Warner Music Finland                                                                                        145\n",
              "Music Nation Records Co. Ltd.                                                                                      144\n",
              "℗ 2017 Warner Music Finland                                                                                        144\n",
              "© 2019 Warner Music Finland                                                                                        134\n",
              "℗ 2019 Warner Music Finland                                                                                        133\n",
              "Name: text, dtype: int64"
            ]
          },
          "execution_count": 11,
          "metadata": {},
          "output_type": "execute_result"
        }
      ],
      "source": [
        "album_copyrights.text.value_counts().sort_values(ascending=False)[:10]"
      ]
    },
    {
      "cell_type": "code",
      "execution_count": 12,
      "metadata": {},
      "outputs": [
        {
          "data": {
            "text/html": [
              "<div>\n",
              "<style scoped>\n",
              "    .dataframe tbody tr th:only-of-type {\n",
              "        vertical-align: middle;\n",
              "    }\n",
              "\n",
              "    .dataframe tbody tr th {\n",
              "        vertical-align: top;\n",
              "    }\n",
              "\n",
              "    .dataframe thead th {\n",
              "        text-align: right;\n",
              "    }\n",
              "</style>\n",
              "<table border=\"1\" class=\"dataframe\">\n",
              "  <thead>\n",
              "    <tr style=\"text-align: right;\">\n",
              "      <th></th>\n",
              "      <th>market</th>\n",
              "    </tr>\n",
              "    <tr>\n",
              "      <th>album_id</th>\n",
              "      <th></th>\n",
              "    </tr>\n",
              "  </thead>\n",
              "  <tbody>\n",
              "    <tr>\n",
              "      <th>6bUxh58rYTL67FS8dyTKMN</th>\n",
              "      <td>AD</td>\n",
              "    </tr>\n",
              "    <tr>\n",
              "      <th>6bUxh58rYTL67FS8dyTKMN</th>\n",
              "      <td>AE</td>\n",
              "    </tr>\n",
              "    <tr>\n",
              "      <th>6bUxh58rYTL67FS8dyTKMN</th>\n",
              "      <td>AG</td>\n",
              "    </tr>\n",
              "    <tr>\n",
              "      <th>6bUxh58rYTL67FS8dyTKMN</th>\n",
              "      <td>AL</td>\n",
              "    </tr>\n",
              "    <tr>\n",
              "      <th>6bUxh58rYTL67FS8dyTKMN</th>\n",
              "      <td>AM</td>\n",
              "    </tr>\n",
              "  </tbody>\n",
              "</table>\n",
              "</div>"
            ],
            "text/plain": [
              "                       market\n",
              "album_id                     \n",
              "6bUxh58rYTL67FS8dyTKMN     AD\n",
              "6bUxh58rYTL67FS8dyTKMN     AE\n",
              "6bUxh58rYTL67FS8dyTKMN     AG\n",
              "6bUxh58rYTL67FS8dyTKMN     AL\n",
              "6bUxh58rYTL67FS8dyTKMN     AM"
            ]
          },
          "execution_count": 12,
          "metadata": {},
          "output_type": "execute_result"
        }
      ],
      "source": [
        "album_markets = album_df_dict['markets']\n",
        "album_markets.head()"
      ]
    },
    {
      "cell_type": "code",
      "execution_count": 13,
      "metadata": {},
      "outputs": [
        {
          "data": {
            "text/plain": [
              "NO    73438\n",
              "FI    73344\n",
              "DK    73293\n",
              "CW    73249\n",
              "DE    73204\n",
              "      ...  \n",
              "IQ    71750\n",
              "LY    71678\n",
              "CD    71627\n",
              "US    71585\n",
              "BY    65533\n",
              "Name: market, Length: 184, dtype: int64"
            ]
          },
          "execution_count": 13,
          "metadata": {},
          "output_type": "execute_result"
        }
      ],
      "source": [
        "album_markets.market.value_counts()"
      ]
    },
    {
      "cell_type": "code",
      "execution_count": 14,
      "metadata": {},
      "outputs": [
        {
          "data": {
            "text/html": [
              "<div>\n",
              "<style scoped>\n",
              "    .dataframe tbody tr th:only-of-type {\n",
              "        vertical-align: middle;\n",
              "    }\n",
              "\n",
              "    .dataframe tbody tr th {\n",
              "        vertical-align: top;\n",
              "    }\n",
              "\n",
              "    .dataframe thead th {\n",
              "        text-align: right;\n",
              "    }\n",
              "</style>\n",
              "<table border=\"1\" class=\"dataframe\">\n",
              "  <thead>\n",
              "    <tr style=\"text-align: right;\">\n",
              "      <th></th>\n",
              "      <th>url</th>\n",
              "      <th>width</th>\n",
              "      <th>height</th>\n",
              "    </tr>\n",
              "    <tr>\n",
              "      <th>album_id</th>\n",
              "      <th></th>\n",
              "      <th></th>\n",
              "      <th></th>\n",
              "    </tr>\n",
              "  </thead>\n",
              "  <tbody>\n",
              "    <tr>\n",
              "      <th>6bUxh58rYTL67FS8dyTKMN</th>\n",
              "      <td>https://i.scdn.co/image/ab67616d0000b273d05d3a...</td>\n",
              "      <td>640</td>\n",
              "      <td>640</td>\n",
              "    </tr>\n",
              "    <tr>\n",
              "      <th>6bUxh58rYTL67FS8dyTKMN</th>\n",
              "      <td>https://i.scdn.co/image/ab67616d00001e02d05d3a...</td>\n",
              "      <td>300</td>\n",
              "      <td>300</td>\n",
              "    </tr>\n",
              "    <tr>\n",
              "      <th>6bUxh58rYTL67FS8dyTKMN</th>\n",
              "      <td>https://i.scdn.co/image/ab67616d00004851d05d3a...</td>\n",
              "      <td>64</td>\n",
              "      <td>64</td>\n",
              "    </tr>\n",
              "    <tr>\n",
              "      <th>1FkaJUwfqLdQdSmRPBlw6l</th>\n",
              "      <td>https://i.scdn.co/image/ab67616d0000b2733d90f5...</td>\n",
              "      <td>640</td>\n",
              "      <td>640</td>\n",
              "    </tr>\n",
              "    <tr>\n",
              "      <th>1FkaJUwfqLdQdSmRPBlw6l</th>\n",
              "      <td>https://i.scdn.co/image/ab67616d00001e023d90f5...</td>\n",
              "      <td>300</td>\n",
              "      <td>300</td>\n",
              "    </tr>\n",
              "  </tbody>\n",
              "</table>\n",
              "</div>"
            ],
            "text/plain": [
              "                                                                      url  \\\n",
              "album_id                                                                    \n",
              "6bUxh58rYTL67FS8dyTKMN  https://i.scdn.co/image/ab67616d0000b273d05d3a...   \n",
              "6bUxh58rYTL67FS8dyTKMN  https://i.scdn.co/image/ab67616d00001e02d05d3a...   \n",
              "6bUxh58rYTL67FS8dyTKMN  https://i.scdn.co/image/ab67616d00004851d05d3a...   \n",
              "1FkaJUwfqLdQdSmRPBlw6l  https://i.scdn.co/image/ab67616d0000b2733d90f5...   \n",
              "1FkaJUwfqLdQdSmRPBlw6l  https://i.scdn.co/image/ab67616d00001e023d90f5...   \n",
              "\n",
              "                        width  height  \n",
              "album_id                               \n",
              "6bUxh58rYTL67FS8dyTKMN    640     640  \n",
              "6bUxh58rYTL67FS8dyTKMN    300     300  \n",
              "6bUxh58rYTL67FS8dyTKMN     64      64  \n",
              "1FkaJUwfqLdQdSmRPBlw6l    640     640  \n",
              "1FkaJUwfqLdQdSmRPBlw6l    300     300  "
            ]
          },
          "execution_count": 14,
          "metadata": {},
          "output_type": "execute_result"
        }
      ],
      "source": [
        "album_imgs = album_df_dict['images']\n",
        "album_imgs.head()"
      ]
    },
    {
      "cell_type": "code",
      "execution_count": 15,
      "metadata": {},
      "outputs": [
        {
          "data": {
            "text/plain": [
              "300    103221\n",
              "64     103220\n",
              "640    103219\n",
              "582         1\n",
              "273         1\n",
              "58          1\n",
              "435         1\n",
              "218         1\n",
              "46          1\n",
              "476         1\n",
              "223         1\n",
              "48          1\n",
              "540         1\n",
              "253         1\n",
              "54          1\n",
              "350         1\n",
              "Name: width, dtype: int64"
            ]
          },
          "execution_count": 15,
          "metadata": {},
          "output_type": "execute_result"
        }
      ],
      "source": [
        "album_imgs.width.value_counts()"
      ]
    },
    {
      "cell_type": "code",
      "execution_count": 16,
      "metadata": {},
      "outputs": [
        {
          "data": {
            "text/plain": [
              "300    103223\n",
              "64     103222\n",
              "640    103221\n",
              "63          2\n",
              "600         1\n",
              "347         1\n",
              "297         1\n",
              "636         1\n",
              "298         1\n",
              "Name: height, dtype: int64"
            ]
          },
          "execution_count": 16,
          "metadata": {},
          "output_type": "execute_result"
        }
      ],
      "source": [
        "album_imgs.height.value_counts()"
      ]
    },
    {
      "cell_type": "markdown",
      "metadata": {},
      "source": [
        "## Original Responses"
      ]
    },
    {
      "cell_type": "code",
      "execution_count": 17,
      "metadata": {},
      "outputs": [
        {
          "data": {
            "text/html": [
              "<div>\n",
              "<style scoped>\n",
              "    .dataframe tbody tr th:only-of-type {\n",
              "        vertical-align: middle;\n",
              "    }\n",
              "\n",
              "    .dataframe tbody tr th {\n",
              "        vertical-align: top;\n",
              "    }\n",
              "\n",
              "    .dataframe thead th {\n",
              "        text-align: right;\n",
              "    }\n",
              "</style>\n",
              "<table border=\"1\" class=\"dataframe\">\n",
              "  <thead>\n",
              "    <tr style=\"text-align: right;\">\n",
              "      <th></th>\n",
              "      <th>source</th>\n",
              "      <th>content</th>\n",
              "      <th>timestamp</th>\n",
              "    </tr>\n",
              "  </thead>\n",
              "  <tbody>\n",
              "    <tr>\n",
              "      <th>0</th>\n",
              "      <td>Spotify API (spotipy client (v2.23.0, method/f...</td>\n",
              "      <td>[{'album_id': '6bUxh58rYTL67FS8dyTKMN', 'album...</td>\n",
              "      <td>2023-08-01 20:48:05.175839</td>\n",
              "    </tr>\n",
              "    <tr>\n",
              "      <th>1</th>\n",
              "      <td>Spotify API (spotipy client (v2.23.0, method/f...</td>\n",
              "      <td>[{'album_id': '68mjWwD3sLh4wONFIb2Upq', 'album...</td>\n",
              "      <td>2023-08-01 20:48:05.518130</td>\n",
              "    </tr>\n",
              "    <tr>\n",
              "      <th>2</th>\n",
              "      <td>Spotify API (spotipy client (v2.23.0, method/f...</td>\n",
              "      <td>[{'album_id': '4YV0amQ85n4nCeSYyqW6Rz', 'album...</td>\n",
              "      <td>2023-08-01 20:48:05.843177</td>\n",
              "    </tr>\n",
              "    <tr>\n",
              "      <th>3</th>\n",
              "      <td>Spotify API (spotipy client (v2.23.0, method/f...</td>\n",
              "      <td>[{'album_id': '3cz9fxBXppuImbufikGk2D', 'album...</td>\n",
              "      <td>2023-08-01 20:48:06.189859</td>\n",
              "    </tr>\n",
              "    <tr>\n",
              "      <th>4</th>\n",
              "      <td>Spotify API (spotipy client (v2.23.0, method/f...</td>\n",
              "      <td>[{'album_id': '5dpzYigmd97HcZOxWMpv9h', 'album...</td>\n",
              "      <td>2023-08-01 20:48:06.501223</td>\n",
              "    </tr>\n",
              "  </tbody>\n",
              "</table>\n",
              "</div>"
            ],
            "text/plain": [
              "                                              source  \\\n",
              "0  Spotify API (spotipy client (v2.23.0, method/f...   \n",
              "1  Spotify API (spotipy client (v2.23.0, method/f...   \n",
              "2  Spotify API (spotipy client (v2.23.0, method/f...   \n",
              "3  Spotify API (spotipy client (v2.23.0, method/f...   \n",
              "4  Spotify API (spotipy client (v2.23.0, method/f...   \n",
              "\n",
              "                                             content  \\\n",
              "0  [{'album_id': '6bUxh58rYTL67FS8dyTKMN', 'album...   \n",
              "1  [{'album_id': '68mjWwD3sLh4wONFIb2Upq', 'album...   \n",
              "2  [{'album_id': '4YV0amQ85n4nCeSYyqW6Rz', 'album...   \n",
              "3  [{'album_id': '3cz9fxBXppuImbufikGk2D', 'album...   \n",
              "4  [{'album_id': '5dpzYigmd97HcZOxWMpv9h', 'album...   \n",
              "\n",
              "                   timestamp  \n",
              "0 2023-08-01 20:48:05.175839  \n",
              "1 2023-08-01 20:48:05.518130  \n",
              "2 2023-08-01 20:48:05.843177  \n",
              "3 2023-08-01 20:48:06.189859  \n",
              "4 2023-08-01 20:48:06.501223  "
            ]
          },
          "execution_count": 17,
          "metadata": {},
          "output_type": "execute_result"
        }
      ],
      "source": [
        "original_responses = album_df_dict['original_responses']\n",
        "original_responses.head()"
      ]
    },
    {
      "cell_type": "code",
      "execution_count": 18,
      "metadata": {},
      "outputs": [
        {
          "data": {
            "text/plain": [
              "Spotify API (spotipy client (v2.23.0, method/function: 'albums')    5163\n",
              "Name: source, dtype: int64"
            ]
          },
          "execution_count": 18,
          "metadata": {},
          "output_type": "execute_result"
        }
      ],
      "source": [
        "original_responses.source.value_counts()"
      ]
    },
    {
      "cell_type": "code",
      "execution_count": 19,
      "metadata": {},
      "outputs": [
        {
          "data": {
            "text/plain": [
              "(Timestamp('2023-08-01 20:48:05.175839'),\n",
              " Timestamp('2023-08-01 21:09:51.697537'))"
            ]
          },
          "execution_count": 19,
          "metadata": {},
          "output_type": "execute_result"
        }
      ],
      "source": [
        "original_responses.timestamp.min(), original_responses.timestamp.max()"
      ]
    }
  ],
  "metadata": {
    "kernelspec": {
      "display_name": "spotify-charts-analysis",
      "language": "python",
      "name": "python3"
    },
    "language_info": {
      "codemirror_mode": {
        "name": "ipython",
        "version": 3
      },
      "file_extension": ".py",
      "mimetype": "text/x-python",
      "name": "python",
      "nbconvert_exporter": "python",
      "pygments_lexer": "ipython3",
      "version": "3.10.11"
    },
    "orig_nbformat": 4
  },
  "nbformat": 4,
  "nbformat_minor": 2
}
