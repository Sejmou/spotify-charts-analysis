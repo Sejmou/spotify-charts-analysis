{
  "cells": [
    {
      "attachments": {},
      "cell_type": "markdown",
      "metadata": {},
      "source": [
        "## Track data"
      ]
    },
    {
      "cell_type": "code",
      "execution_count": 1,
      "metadata": {},
      "outputs": [],
      "source": [
        "import pandas as pd\n",
        "from helpers.data import (\n",
        "    create_data_path,\n",
        "    load_parquet_files_in_dir\n",
        ")\n",
        "from helpers.spotify_util import create_spotipy_client\n",
        "from helpers.util import split_into_chunks_of_size\n",
        "import os\n",
        "from tqdm import tqdm\n",
        "from datetime import date\n",
        "\n",
        "data_folder = create_data_path(\"top200_Jan_2017_to_June_2023\")\n",
        "spotify = create_spotipy_client()"
      ]
    },
    {
      "cell_type": "code",
      "execution_count": 2,
      "metadata": {},
      "outputs": [
        {
          "data": {
            "text/plain": [
              "dict_keys(['artists', 'markets', 'original_responses', 'metadata'])"
            ]
          },
          "execution_count": 2,
          "metadata": {},
          "output_type": "execute_result"
        }
      ],
      "source": [
        "track_data_dir =  os.path.join(data_folder, \"tracks\")\n",
        "track_df_dict = load_parquet_files_in_dir(track_data_dir)\n",
        "track_df_dict.keys()"
      ]
    },
    {
      "attachments": {},
      "cell_type": "markdown",
      "metadata": {},
      "source": [
        "## Metadata"
      ]
    },
    {
      "cell_type": "code",
      "execution_count": 3,
      "metadata": {},
      "outputs": [
        {
          "data": {
            "text/html": [
              "<div>\n",
              "<style scoped>\n",
              "    .dataframe tbody tr th:only-of-type {\n",
              "        vertical-align: middle;\n",
              "    }\n",
              "\n",
              "    .dataframe tbody tr th {\n",
              "        vertical-align: top;\n",
              "    }\n",
              "\n",
              "    .dataframe thead th {\n",
              "        text-align: right;\n",
              "    }\n",
              "</style>\n",
              "<table border=\"1\" class=\"dataframe\">\n",
              "  <thead>\n",
              "    <tr style=\"text-align: right;\">\n",
              "      <th></th>\n",
              "      <th>disc_number</th>\n",
              "      <th>duration_ms</th>\n",
              "      <th>explicit</th>\n",
              "      <th>name</th>\n",
              "      <th>preview_url</th>\n",
              "      <th>track_number</th>\n",
              "      <th>isrc_id</th>\n",
              "      <th>album_id</th>\n",
              "    </tr>\n",
              "    <tr>\n",
              "      <th>track_id</th>\n",
              "      <th></th>\n",
              "      <th></th>\n",
              "      <th></th>\n",
              "      <th></th>\n",
              "      <th></th>\n",
              "      <th></th>\n",
              "      <th></th>\n",
              "      <th></th>\n",
              "    </tr>\n",
              "  </thead>\n",
              "  <tbody>\n",
              "    <tr>\n",
              "      <th>6mICuAdrwEjh6Y6lroV2Kg</th>\n",
              "      <td>1</td>\n",
              "      <td>195840</td>\n",
              "      <td>False</td>\n",
              "      <td>Chantaje (feat. Maluma)</td>\n",
              "      <td>https://p.scdn.co/mp3-preview/1b18b5e5619d1db1...</td>\n",
              "      <td>3</td>\n",
              "      <td>USSD11600299</td>\n",
              "      <td>6bUxh58rYTL67FS8dyTKMN</td>\n",
              "    </tr>\n",
              "    <tr>\n",
              "      <th>7DM4BPaS7uofFul3ywMe46</th>\n",
              "      <td>1</td>\n",
              "      <td>259195</td>\n",
              "      <td>False</td>\n",
              "      <td>Vente Pa' Ca (feat. Maluma)</td>\n",
              "      <td>https://p.scdn.co/mp3-preview/ecddab17cc70b189...</td>\n",
              "      <td>1</td>\n",
              "      <td>USSD11600252</td>\n",
              "      <td>1FkaJUwfqLdQdSmRPBlw6l</td>\n",
              "    </tr>\n",
              "    <tr>\n",
              "      <th>3AEZUABDXNtecAOSC1qTfo</th>\n",
              "      <td>1</td>\n",
              "      <td>222560</td>\n",
              "      <td>False</td>\n",
              "      <td>Reggaetón Lento (Bailemos)</td>\n",
              "      <td>https://p.scdn.co/mp3-preview/71b0d8200a5b1f85...</td>\n",
              "      <td>3</td>\n",
              "      <td>USSD11600135</td>\n",
              "      <td>0YLrAWUbY0nyM7PFtqnYld</td>\n",
              "    </tr>\n",
              "    <tr>\n",
              "      <th>6rQSrBHf7HlZjtcMZ4S4bO</th>\n",
              "      <td>1</td>\n",
              "      <td>205600</td>\n",
              "      <td>False</td>\n",
              "      <td>Safari</td>\n",
              "      <td>None</td>\n",
              "      <td>3</td>\n",
              "      <td>USUM71604778</td>\n",
              "      <td>2LYwooMTH1iJeBvWyXXWUf</td>\n",
              "    </tr>\n",
              "    <tr>\n",
              "      <th>58IL315gMSTD37DOZPJ2hf</th>\n",
              "      <td>1</td>\n",
              "      <td>234320</td>\n",
              "      <td>False</td>\n",
              "      <td>Shaky Shaky</td>\n",
              "      <td>None</td>\n",
              "      <td>1</td>\n",
              "      <td>US2BU1600020</td>\n",
              "      <td>2zrLk90b4qjmrxRZKyIY7X</td>\n",
              "    </tr>\n",
              "  </tbody>\n",
              "</table>\n",
              "</div>"
            ],
            "text/plain": [
              "                        disc_number  duration_ms  explicit  \\\n",
              "track_id                                                     \n",
              "6mICuAdrwEjh6Y6lroV2Kg            1       195840     False   \n",
              "7DM4BPaS7uofFul3ywMe46            1       259195     False   \n",
              "3AEZUABDXNtecAOSC1qTfo            1       222560     False   \n",
              "6rQSrBHf7HlZjtcMZ4S4bO            1       205600     False   \n",
              "58IL315gMSTD37DOZPJ2hf            1       234320     False   \n",
              "\n",
              "                                               name  \\\n",
              "track_id                                              \n",
              "6mICuAdrwEjh6Y6lroV2Kg      Chantaje (feat. Maluma)   \n",
              "7DM4BPaS7uofFul3ywMe46  Vente Pa' Ca (feat. Maluma)   \n",
              "3AEZUABDXNtecAOSC1qTfo   Reggaetón Lento (Bailemos)   \n",
              "6rQSrBHf7HlZjtcMZ4S4bO                       Safari   \n",
              "58IL315gMSTD37DOZPJ2hf                  Shaky Shaky   \n",
              "\n",
              "                                                              preview_url  \\\n",
              "track_id                                                                    \n",
              "6mICuAdrwEjh6Y6lroV2Kg  https://p.scdn.co/mp3-preview/1b18b5e5619d1db1...   \n",
              "7DM4BPaS7uofFul3ywMe46  https://p.scdn.co/mp3-preview/ecddab17cc70b189...   \n",
              "3AEZUABDXNtecAOSC1qTfo  https://p.scdn.co/mp3-preview/71b0d8200a5b1f85...   \n",
              "6rQSrBHf7HlZjtcMZ4S4bO                                               None   \n",
              "58IL315gMSTD37DOZPJ2hf                                               None   \n",
              "\n",
              "                        track_number       isrc_id                album_id  \n",
              "track_id                                                                    \n",
              "6mICuAdrwEjh6Y6lroV2Kg             3  USSD11600299  6bUxh58rYTL67FS8dyTKMN  \n",
              "7DM4BPaS7uofFul3ywMe46             1  USSD11600252  1FkaJUwfqLdQdSmRPBlw6l  \n",
              "3AEZUABDXNtecAOSC1qTfo             3  USSD11600135  0YLrAWUbY0nyM7PFtqnYld  \n",
              "6rQSrBHf7HlZjtcMZ4S4bO             3  USUM71604778  2LYwooMTH1iJeBvWyXXWUf  \n",
              "58IL315gMSTD37DOZPJ2hf             1  US2BU1600020  2zrLk90b4qjmrxRZKyIY7X  "
            ]
          },
          "execution_count": 3,
          "metadata": {},
          "output_type": "execute_result"
        }
      ],
      "source": [
        "track_metadata = track_df_dict['metadata']\n",
        "track_metadata.head()"
      ]
    },
    {
      "cell_type": "code",
      "execution_count": 4,
      "metadata": {},
      "outputs": [
        {
          "data": {
            "text/plain": [
              "163454"
            ]
          },
          "execution_count": 4,
          "metadata": {},
          "output_type": "execute_result"
        }
      ],
      "source": [
        "track_metadata.index.nunique()"
      ]
    },
    {
      "cell_type": "code",
      "execution_count": 5,
      "metadata": {},
      "outputs": [],
      "source": [
        "assert track_metadata.shape[0] == track_metadata.index.nunique()"
      ]
    },
    {
      "cell_type": "code",
      "execution_count": 6,
      "metadata": {},
      "outputs": [
        {
          "data": {
            "text/plain": [
              "35"
            ]
          },
          "execution_count": 6,
          "metadata": {},
          "output_type": "execute_result"
        }
      ],
      "source": [
        "track_metadata.isrc_id.isna().sum()"
      ]
    },
    {
      "attachments": {},
      "cell_type": "markdown",
      "metadata": {},
      "source": [
        "The [ISRC](https://en.wikipedia.org/wiki/International_Standard_Recording_Code) is available for almost all tracks! That is convenient, as this _international standardized recoding code_ could be used to obtain further metadata, e.g. from MusicBrainz."
      ]
    },
    {
      "cell_type": "code",
      "execution_count": 7,
      "metadata": {},
      "outputs": [
        {
          "data": {
            "text/plain": [
              "disc_number                                                     1\n",
              "duration_ms                                                185720\n",
              "explicit                                                    False\n",
              "name                                                    Si Te Vas\n",
              "preview_url     https://p.scdn.co/mp3-preview/87d59567192a04b5...\n",
              "track_number                                                   10\n",
              "isrc_id                                              ARF101200227\n",
              "album_id                                   3HZYz8zwaylv9XeIIlLzAX\n",
              "Name: 3HoTiqEEY2SmTeq1XGINo3, dtype: object"
            ]
          },
          "execution_count": 7,
          "metadata": {},
          "output_type": "execute_result"
        }
      ],
      "source": [
        "track_metadata.loc['3HoTiqEEY2SmTeq1XGINo3']"
      ]
    },
    {
      "attachments": {},
      "cell_type": "markdown",
      "metadata": {},
      "source": [
        "## Markets"
      ]
    },
    {
      "cell_type": "code",
      "execution_count": 8,
      "metadata": {},
      "outputs": [
        {
          "data": {
            "text/html": [
              "<div>\n",
              "<style scoped>\n",
              "    .dataframe tbody tr th:only-of-type {\n",
              "        vertical-align: middle;\n",
              "    }\n",
              "\n",
              "    .dataframe tbody tr th {\n",
              "        vertical-align: top;\n",
              "    }\n",
              "\n",
              "    .dataframe thead th {\n",
              "        text-align: right;\n",
              "    }\n",
              "</style>\n",
              "<table border=\"1\" class=\"dataframe\">\n",
              "  <thead>\n",
              "    <tr style=\"text-align: right;\">\n",
              "      <th></th>\n",
              "      <th>market</th>\n",
              "    </tr>\n",
              "    <tr>\n",
              "      <th>track_id</th>\n",
              "      <th></th>\n",
              "    </tr>\n",
              "  </thead>\n",
              "  <tbody>\n",
              "    <tr>\n",
              "      <th>6mICuAdrwEjh6Y6lroV2Kg</th>\n",
              "      <td>AR</td>\n",
              "    </tr>\n",
              "    <tr>\n",
              "      <th>6mICuAdrwEjh6Y6lroV2Kg</th>\n",
              "      <td>AU</td>\n",
              "    </tr>\n",
              "    <tr>\n",
              "      <th>6mICuAdrwEjh6Y6lroV2Kg</th>\n",
              "      <td>AT</td>\n",
              "    </tr>\n",
              "    <tr>\n",
              "      <th>6mICuAdrwEjh6Y6lroV2Kg</th>\n",
              "      <td>BE</td>\n",
              "    </tr>\n",
              "    <tr>\n",
              "      <th>6mICuAdrwEjh6Y6lroV2Kg</th>\n",
              "      <td>BO</td>\n",
              "    </tr>\n",
              "  </tbody>\n",
              "</table>\n",
              "</div>"
            ],
            "text/plain": [
              "                       market\n",
              "track_id                     \n",
              "6mICuAdrwEjh6Y6lroV2Kg     AR\n",
              "6mICuAdrwEjh6Y6lroV2Kg     AU\n",
              "6mICuAdrwEjh6Y6lroV2Kg     AT\n",
              "6mICuAdrwEjh6Y6lroV2Kg     BE\n",
              "6mICuAdrwEjh6Y6lroV2Kg     BO"
            ]
          },
          "execution_count": 8,
          "metadata": {},
          "output_type": "execute_result"
        }
      ],
      "source": [
        "track_markets = track_df_dict['markets']\n",
        "track_markets.head()"
      ]
    },
    {
      "cell_type": "code",
      "execution_count": 9,
      "metadata": {},
      "outputs": [
        {
          "data": {
            "text/plain": [
              "122854"
            ]
          },
          "execution_count": 9,
          "metadata": {},
          "output_type": "execute_result"
        }
      ],
      "source": [
        "track_markets.index.nunique()"
      ]
    },
    {
      "cell_type": "code",
      "execution_count": 10,
      "metadata": {},
      "outputs": [
        {
          "data": {
            "text/html": [
              "<div>\n",
              "<style scoped>\n",
              "    .dataframe tbody tr th:only-of-type {\n",
              "        vertical-align: middle;\n",
              "    }\n",
              "\n",
              "    .dataframe tbody tr th {\n",
              "        vertical-align: top;\n",
              "    }\n",
              "\n",
              "    .dataframe thead th {\n",
              "        text-align: right;\n",
              "    }\n",
              "</style>\n",
              "<table border=\"1\" class=\"dataframe\">\n",
              "  <thead>\n",
              "    <tr style=\"text-align: right;\">\n",
              "      <th></th>\n",
              "      <th>market</th>\n",
              "    </tr>\n",
              "    <tr>\n",
              "      <th>track_id</th>\n",
              "      <th></th>\n",
              "    </tr>\n",
              "  </thead>\n",
              "  <tbody>\n",
              "    <tr>\n",
              "      <th>3HoTiqEEY2SmTeq1XGINo3</th>\n",
              "      <td>AR</td>\n",
              "    </tr>\n",
              "    <tr>\n",
              "      <th>3HoTiqEEY2SmTeq1XGINo3</th>\n",
              "      <td>AU</td>\n",
              "    </tr>\n",
              "    <tr>\n",
              "      <th>3HoTiqEEY2SmTeq1XGINo3</th>\n",
              "      <td>AT</td>\n",
              "    </tr>\n",
              "    <tr>\n",
              "      <th>3HoTiqEEY2SmTeq1XGINo3</th>\n",
              "      <td>BE</td>\n",
              "    </tr>\n",
              "    <tr>\n",
              "      <th>3HoTiqEEY2SmTeq1XGINo3</th>\n",
              "      <td>BO</td>\n",
              "    </tr>\n",
              "    <tr>\n",
              "      <th>...</th>\n",
              "      <td>...</td>\n",
              "    </tr>\n",
              "    <tr>\n",
              "      <th>3HoTiqEEY2SmTeq1XGINo3</th>\n",
              "      <td>LY</td>\n",
              "    </tr>\n",
              "    <tr>\n",
              "      <th>3HoTiqEEY2SmTeq1XGINo3</th>\n",
              "      <td>TJ</td>\n",
              "    </tr>\n",
              "    <tr>\n",
              "      <th>3HoTiqEEY2SmTeq1XGINo3</th>\n",
              "      <td>VE</td>\n",
              "    </tr>\n",
              "    <tr>\n",
              "      <th>3HoTiqEEY2SmTeq1XGINo3</th>\n",
              "      <td>ET</td>\n",
              "    </tr>\n",
              "    <tr>\n",
              "      <th>3HoTiqEEY2SmTeq1XGINo3</th>\n",
              "      <td>XK</td>\n",
              "    </tr>\n",
              "  </tbody>\n",
              "</table>\n",
              "<p>184 rows × 1 columns</p>\n",
              "</div>"
            ],
            "text/plain": [
              "                       market\n",
              "track_id                     \n",
              "3HoTiqEEY2SmTeq1XGINo3     AR\n",
              "3HoTiqEEY2SmTeq1XGINo3     AU\n",
              "3HoTiqEEY2SmTeq1XGINo3     AT\n",
              "3HoTiqEEY2SmTeq1XGINo3     BE\n",
              "3HoTiqEEY2SmTeq1XGINo3     BO\n",
              "...                       ...\n",
              "3HoTiqEEY2SmTeq1XGINo3     LY\n",
              "3HoTiqEEY2SmTeq1XGINo3     TJ\n",
              "3HoTiqEEY2SmTeq1XGINo3     VE\n",
              "3HoTiqEEY2SmTeq1XGINo3     ET\n",
              "3HoTiqEEY2SmTeq1XGINo3     XK\n",
              "\n",
              "[184 rows x 1 columns]"
            ]
          },
          "execution_count": 10,
          "metadata": {},
          "output_type": "execute_result"
        }
      ],
      "source": [
        "track_markets.loc['3HoTiqEEY2SmTeq1XGINo3']"
      ]
    },
    {
      "cell_type": "code",
      "execution_count": 11,
      "metadata": {},
      "outputs": [],
      "source": [
        "assert track_markets.index.nunique() < track_metadata.shape[0]"
      ]
    },
    {
      "cell_type": "code",
      "execution_count": 12,
      "metadata": {},
      "outputs": [
        {
          "data": {
            "text/plain": [
              "40600"
            ]
          },
          "execution_count": 12,
          "metadata": {},
          "output_type": "execute_result"
        }
      ],
      "source": [
        "track_metadata.shape[0] - track_markets.index.nunique()"
      ]
    },
    {
      "attachments": {},
      "cell_type": "markdown",
      "metadata": {},
      "source": [
        "That's interesting, market information seems to be missing for quite a few tracks in the dataset?"
      ]
    },
    {
      "cell_type": "code",
      "execution_count": 13,
      "metadata": {},
      "outputs": [
        {
          "data": {
            "text/plain": [
              "Index(['003Tf4XVKCg6tFSv7JKgfz', '003WZkrHUL3u1uAr5ZMJxZ',\n",
              "       '004nEmGTeP5Mus4qXxz3x2', '004zGvrc84enQHFitC6auy',\n",
              "       '005oYmIDkyY7FjhNhcfGkv', '006LuHbY5Tt9dhbdSOnVq6',\n",
              "       '007QSAaELpVxtX5Z6dMn0U', '007S8LPHyug4UrgDWxiCxO',\n",
              "       '007d7JT41sSc1HqWTs4uw7', '007ogFejDqJKzEXDUDF8Nf',\n",
              "       ...\n",
              "       '7zsSUjNwsJ2WUZfLesfkEK', '7ztlf9mCrjoLXAYYf0LCYx',\n",
              "       '7zuxN6mJ6Wc27TXfQ6GPZL', '7zvfDihYiJ8RQ1nRcpKBF5',\n",
              "       '7zwO9KmNWzxKJj3wBdUXL5', '7zxd3J5hMPeLN71VS8vnE4',\n",
              "       '7zyWKLsmcHObOAXoBaOo5o', '7zzI3SbctTJN6wDerZNZCD',\n",
              "       '7zzbnhCpuuHOCrhBGvgwpp', '7zzhRAobAnNjarw2FAWt65'],\n",
              "      dtype='object', name='track_id', length=40600)"
            ]
          },
          "execution_count": 13,
          "metadata": {},
          "output_type": "execute_result"
        }
      ],
      "source": [
        "# get IDs of tracks that are in the metadata but not in the markets\n",
        "missing_track_ids = track_metadata.index.difference(track_markets.index)\n",
        "missing_track_ids"
      ]
    },
    {
      "attachments": {},
      "cell_type": "markdown",
      "metadata": {},
      "source": [
        "Does the Spotify API really not return any market data for those tracks?\n",
        "\n",
        "To verify that, we need to understand how to obtain the market information from each API response (using `spotipy`, which is the wrapper for the Spotify API that was also used for getting the data initially):"
      ]
    },
    {
      "cell_type": "code",
      "execution_count": 14,
      "metadata": {},
      "outputs": [
        {
          "data": {
            "text/plain": [
              "[]"
            ]
          },
          "execution_count": 14,
          "metadata": {},
          "output_type": "execute_result"
        }
      ],
      "source": [
        "example_track_markets = spotify.track(missing_track_ids[0])['available_markets']\n",
        "example_track_markets"
      ]
    },
    {
      "attachments": {},
      "cell_type": "markdown",
      "metadata": {},
      "source": [
        "We see that for the example, the response is indeed empty. We can write an assertion to test that for other cases. It will throw an `AssertionError` if it is not fulfilled."
      ]
    },
    {
      "cell_type": "code",
      "execution_count": 15,
      "metadata": {},
      "outputs": [],
      "source": [
        "def check_for_no_available_markets(api_track_response, track_id):\n",
        "    assert api_track_response[\"available_markets\"] == [], f\"available_markets is not empty for track_id: {track_id}\""
      ]
    },
    {
      "cell_type": "code",
      "execution_count": 16,
      "metadata": {},
      "outputs": [],
      "source": [
        "# demo: check for single track\n",
        "check_for_no_available_markets(spotify.track(missing_track_ids[0]), missing_track_ids[0])"
      ]
    },
    {
      "cell_type": "code",
      "execution_count": 17,
      "metadata": {},
      "outputs": [],
      "source": [
        "# demo: check for multiple tracks at once\n",
        "for api_response, track_id in zip(spotify.tracks(missing_track_ids[:2])[\"tracks\"], missing_track_ids[:2]):\n",
        "    check_for_no_available_markets(api_response, track_id)"
      ]
    },
    {
      "attachments": {},
      "cell_type": "markdown",
      "metadata": {},
      "source": [
        "Let's test this for all the IDs we have obtained. If a few IDs happen to be available, we will not change anything about our dataset (the data in the Spotify API changes all the time anyway)."
      ]
    },
    {
      "cell_type": "code",
      "execution_count": 18,
      "metadata": {},
      "outputs": [],
      "source": [
        "# check for all (commented out to avoid spamming Spotify API with 40k tracks every time this notebook is run)\n",
        "track_id_chunks = split_into_chunks_of_size(missing_track_ids, 50) # max. 50 tracks per request\n",
        "\n",
        "# ids_with_available_markets = []\n",
        "# for track_ids in tqdm(track_id_chunks):\n",
        "#     for api_response, track_id in zip(spotify.tracks(track_ids)[\"tracks\"], track_ids):\n",
        "#         try:\n",
        "#             check_for_no_available_markets(api_response, track_id)\n",
        "#         except AssertionError:\n",
        "#             ids_with_available_markets.append(track_id)\n",
        "\n",
        "# len(ids_with_available_markets)"
      ]
    },
    {
      "attachments": {},
      "cell_type": "markdown",
      "metadata": {},
      "source": [
        "To save us from getting blocked by the Spotify API (making requests with over 40k tracks repeatedly is probably a bit problematic), I have commented out the code cell above. However, the output when I ran this on 16th of July 2023 was:\n",
        "\n",
        "![Output of unavailable track markets check](./images/screenshot-track-markets-check.jpg)"
      ]
    },
    {
      "attachments": {},
      "cell_type": "markdown",
      "metadata": {},
      "source": [
        "I.e., only for 4 IDs where our collected market data is empty, the available markets API response was non-empty. It's absolutely NOT worth recreating the dataset for 4 IDs lol\n",
        "\n",
        "But still, it would be interesting to know why such a substantial portion of tracks (roughly 40k out of the total 160k) is apparently currently not available anywhere 🤔\n",
        "\n",
        "My hypothesis is that many tracks are just re-released later and the old version is taken down from Spotify. We could verify this by collecting track IDs that are associated with the same physical recording, identified via the ISRC."
      ]
    },
    {
      "cell_type": "code",
      "execution_count": 19,
      "metadata": {},
      "outputs": [],
      "source": [
        "# TODO: check hypothesis outlined from above"
      ]
    },
    {
      "cell_type": "code",
      "execution_count": 20,
      "metadata": {},
      "outputs": [
        {
          "data": {
            "text/plain": [
              "NO    117418\n",
              "FI    117314\n",
              "DK    117273\n",
              "CW    117223\n",
              "DE    117094\n",
              "       ...  \n",
              "LY    114700\n",
              "CD    114682\n",
              "BF    114676\n",
              "BN    114660\n",
              "BY    104249\n",
              "Name: market, Length: 184, dtype: int64"
            ]
          },
          "execution_count": 20,
          "metadata": {},
          "output_type": "execute_result"
        }
      ],
      "source": [
        "track_markets.market.value_counts()"
      ]
    },
    {
      "cell_type": "markdown",
      "metadata": {},
      "source": [
        "## Artists"
      ]
    },
    {
      "cell_type": "code",
      "execution_count": 21,
      "metadata": {},
      "outputs": [
        {
          "data": {
            "text/html": [
              "<div>\n",
              "<style scoped>\n",
              "    .dataframe tbody tr th:only-of-type {\n",
              "        vertical-align: middle;\n",
              "    }\n",
              "\n",
              "    .dataframe tbody tr th {\n",
              "        vertical-align: top;\n",
              "    }\n",
              "\n",
              "    .dataframe thead th {\n",
              "        text-align: right;\n",
              "    }\n",
              "</style>\n",
              "<table border=\"1\" class=\"dataframe\">\n",
              "  <thead>\n",
              "    <tr style=\"text-align: right;\">\n",
              "      <th></th>\n",
              "      <th>artist_id</th>\n",
              "      <th>pos</th>\n",
              "    </tr>\n",
              "    <tr>\n",
              "      <th>track_id</th>\n",
              "      <th></th>\n",
              "      <th></th>\n",
              "    </tr>\n",
              "  </thead>\n",
              "  <tbody>\n",
              "    <tr>\n",
              "      <th>6mICuAdrwEjh6Y6lroV2Kg</th>\n",
              "      <td>0EmeFodog0BfCgMzAIvKQp</td>\n",
              "      <td>1</td>\n",
              "    </tr>\n",
              "    <tr>\n",
              "      <th>6mICuAdrwEjh6Y6lroV2Kg</th>\n",
              "      <td>1r4hJ1h58CWwUQe3MxPuau</td>\n",
              "      <td>2</td>\n",
              "    </tr>\n",
              "    <tr>\n",
              "      <th>7DM4BPaS7uofFul3ywMe46</th>\n",
              "      <td>7slfeZO9LsJbWgpkIoXBUJ</td>\n",
              "      <td>1</td>\n",
              "    </tr>\n",
              "    <tr>\n",
              "      <th>7DM4BPaS7uofFul3ywMe46</th>\n",
              "      <td>1r4hJ1h58CWwUQe3MxPuau</td>\n",
              "      <td>2</td>\n",
              "    </tr>\n",
              "    <tr>\n",
              "      <th>3AEZUABDXNtecAOSC1qTfo</th>\n",
              "      <td>0eecdvMrqBftK0M1VKhaF4</td>\n",
              "      <td>1</td>\n",
              "    </tr>\n",
              "  </tbody>\n",
              "</table>\n",
              "</div>"
            ],
            "text/plain": [
              "                                     artist_id  pos\n",
              "track_id                                           \n",
              "6mICuAdrwEjh6Y6lroV2Kg  0EmeFodog0BfCgMzAIvKQp    1\n",
              "6mICuAdrwEjh6Y6lroV2Kg  1r4hJ1h58CWwUQe3MxPuau    2\n",
              "7DM4BPaS7uofFul3ywMe46  7slfeZO9LsJbWgpkIoXBUJ    1\n",
              "7DM4BPaS7uofFul3ywMe46  1r4hJ1h58CWwUQe3MxPuau    2\n",
              "3AEZUABDXNtecAOSC1qTfo  0eecdvMrqBftK0M1VKhaF4    1"
            ]
          },
          "execution_count": 21,
          "metadata": {},
          "output_type": "execute_result"
        }
      ],
      "source": [
        "track_artists = track_df_dict['artists']\n",
        "track_artists.head()"
      ]
    },
    {
      "cell_type": "code",
      "execution_count": 22,
      "metadata": {},
      "outputs": [],
      "source": [
        "assert track_artists.index.nunique() == track_metadata.shape[0] # an artist entry should exist in our collected data for every track"
      ]
    },
    {
      "cell_type": "code",
      "execution_count": 23,
      "metadata": {},
      "outputs": [
        {
          "data": {
            "text/plain": [
              "<Axes: title={'center': 'Number of participating artists in tracks in the top 200'}>"
            ]
          },
          "execution_count": 23,
          "metadata": {},
          "output_type": "execute_result"
        },
        {
          "data": {
            "image/png": "[encoded data removed]",
            "text/plain": [
              "<Figure size 640x480 with 1 Axes>"
            ]
          },
          "metadata": {},
          "output_type": "display_data"
        }
      ],
      "source": [
        "track_artists.pos.value_counts().plot(kind='bar', title='Number of participating artists in tracks in the top 200')"
      ]
    },
    {
      "attachments": {},
      "cell_type": "markdown",
      "metadata": {},
      "source": [
        "The vast majority of chart hits are performed by a single artist."
      ]
    },
    {
      "cell_type": "markdown",
      "metadata": {},
      "source": [
        "## Original Responses"
      ]
    },
    {
      "cell_type": "code",
      "execution_count": 24,
      "metadata": {},
      "outputs": [
        {
          "data": {
            "text/html": [
              "<div>\n",
              "<style scoped>\n",
              "    .dataframe tbody tr th:only-of-type {\n",
              "        vertical-align: middle;\n",
              "    }\n",
              "\n",
              "    .dataframe tbody tr th {\n",
              "        vertical-align: top;\n",
              "    }\n",
              "\n",
              "    .dataframe thead th {\n",
              "        text-align: right;\n",
              "    }\n",
              "</style>\n",
              "<table border=\"1\" class=\"dataframe\">\n",
              "  <thead>\n",
              "    <tr style=\"text-align: right;\">\n",
              "      <th></th>\n",
              "      <th>source</th>\n",
              "      <th>content</th>\n",
              "      <th>timestamp</th>\n",
              "    </tr>\n",
              "  </thead>\n",
              "  <tbody>\n",
              "    <tr>\n",
              "      <th>0</th>\n",
              "      <td>Spotify API (spotipy v2.23.0, client method: '...</td>\n",
              "      <td>[{'album_id': '6bUxh58rYTL67FS8dyTKMN', 'disc_...</td>\n",
              "      <td>2023-08-01 20:36:47.746907</td>\n",
              "    </tr>\n",
              "    <tr>\n",
              "      <th>1</th>\n",
              "      <td>Spotify API (spotipy v2.23.0, client method: '...</td>\n",
              "      <td>[{'album_id': '7K89F9bgY1jks0uIlMerm3', 'disc_...</td>\n",
              "      <td>2023-08-01 20:36:48.032282</td>\n",
              "    </tr>\n",
              "    <tr>\n",
              "      <th>2</th>\n",
              "      <td>Spotify API (spotipy v2.23.0, client method: '...</td>\n",
              "      <td>[{'album_id': '2kZkiVn1m00XcgaWlLb2LD', 'disc_...</td>\n",
              "      <td>2023-08-01 20:36:48.315727</td>\n",
              "    </tr>\n",
              "    <tr>\n",
              "      <th>3</th>\n",
              "      <td>Spotify API (spotipy v2.23.0, client method: '...</td>\n",
              "      <td>[{'album_id': '0zXEyFkwoxht6Bqd3SgnOm', 'disc_...</td>\n",
              "      <td>2023-08-01 20:36:48.647495</td>\n",
              "    </tr>\n",
              "    <tr>\n",
              "      <th>4</th>\n",
              "      <td>Spotify API (spotipy v2.23.0, client method: '...</td>\n",
              "      <td>[{'album_id': '4blCxKnK1sGo9D45trrqjt', 'disc_...</td>\n",
              "      <td>2023-08-01 20:36:48.946816</td>\n",
              "    </tr>\n",
              "  </tbody>\n",
              "</table>\n",
              "</div>"
            ],
            "text/plain": [
              "                                              source  \\\n",
              "0  Spotify API (spotipy v2.23.0, client method: '...   \n",
              "1  Spotify API (spotipy v2.23.0, client method: '...   \n",
              "2  Spotify API (spotipy v2.23.0, client method: '...   \n",
              "3  Spotify API (spotipy v2.23.0, client method: '...   \n",
              "4  Spotify API (spotipy v2.23.0, client method: '...   \n",
              "\n",
              "                                             content  \\\n",
              "0  [{'album_id': '6bUxh58rYTL67FS8dyTKMN', 'disc_...   \n",
              "1  [{'album_id': '7K89F9bgY1jks0uIlMerm3', 'disc_...   \n",
              "2  [{'album_id': '2kZkiVn1m00XcgaWlLb2LD', 'disc_...   \n",
              "3  [{'album_id': '0zXEyFkwoxht6Bqd3SgnOm', 'disc_...   \n",
              "4  [{'album_id': '4blCxKnK1sGo9D45trrqjt', 'disc_...   \n",
              "\n",
              "                   timestamp  \n",
              "0 2023-08-01 20:36:47.746907  \n",
              "1 2023-08-01 20:36:48.032282  \n",
              "2 2023-08-01 20:36:48.315727  \n",
              "3 2023-08-01 20:36:48.647495  \n",
              "4 2023-08-01 20:36:48.946816  "
            ]
          },
          "execution_count": 24,
          "metadata": {},
          "output_type": "execute_result"
        }
      ],
      "source": [
        "original_responses = track_df_dict['original_responses']\n",
        "original_responses.head()"
      ]
    },
    {
      "cell_type": "code",
      "execution_count": 25,
      "metadata": {},
      "outputs": [
        {
          "data": {
            "text/plain": [
              "(Timestamp('2023-08-01 20:36:47.746907'),\n",
              " Timestamp('2023-08-01 20:48:00.155949'))"
            ]
          },
          "execution_count": 25,
          "metadata": {},
          "output_type": "execute_result"
        }
      ],
      "source": [
        "original_responses.timestamp.min(), original_responses.timestamp.max()"
      ]
    },
    {
      "cell_type": "code",
      "execution_count": null,
      "metadata": {},
      "outputs": [],
      "source": []
    }
  ],
  "metadata": {
    "kernelspec": {
      "display_name": "spotify-charts-analysis",
      "language": "python",
      "name": "python3"
    },
    "language_info": {
      "codemirror_mode": {
        "name": "ipython",
        "version": 3
      },
      "file_extension": ".py",
      "mimetype": "text/x-python",
      "name": "python",
      "nbconvert_exporter": "python",
      "pygments_lexer": "ipython3",
      "version": "3.10.11"
    },
    "orig_nbformat": 4
  },
  "nbformat": 4,
  "nbformat_minor": 2
}
