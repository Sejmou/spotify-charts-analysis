{
 "cells": [
  {
   "attachments": {},
   "cell_type": "markdown",
   "metadata": {},
   "source": [
    "# Dataset analysis"
   ]
  },
  {
   "attachments": {},
   "cell_type": "markdown",
   "metadata": {},
   "source": [
    "In this notebook, I collect insights from the data I collected. This notebook will be updated constantly as I add more and more data sources.\n",
    "\n",
    "At the time of writing this (15th July 2023), this included the following data, obtained with corresponding Python scripts in the `cli-scripts` folder:\n",
    "\n",
    "- Charts data from 1st January 2017 up until 30th June 2023 (`get_charts.py` followed by `combine_charts.py`)\n",
    "- Track, Artist, and Album metadata collected from the Spotify API stored in corresponding subfolders (obtained with `spotify_api/get_all.py`)\n",
    "- Track credits and (incomplete) lyrics metadata for tracks that were retrieved from an internal Spotify API through some 'hacks' (`use_internal_spotify_apis.py`)"
   ]
  },
  {
   "cell_type": "code",
   "execution_count": 1,
   "metadata": {},
   "outputs": [],
   "source": [
    "import pandas as pd\n",
    "from helpers.data import (\n",
    "    create_data_path,\n",
    "    write_series_to_file_as_prettified_json,\n",
    "    write_dict_to_file_as_prettified_json,\n",
    "    load_parquet_files_in_dir,\n",
    "    convert_columns_to_snake_case\n",
    ")\n",
    "from helpers.spotify_util import (\n",
    "    create_spotipy_client,\n",
    "    get_spotify_track_link,\n",
    "    get_id_from_spotify_uri,\n",
    ")\n",
    "from helpers.util import split_into_chunks_of_size\n",
    "import os\n",
    "from tqdm import tqdm"
   ]
  },
  {
   "cell_type": "code",
   "execution_count": 2,
   "metadata": {},
   "outputs": [],
   "source": [
    "data_folder = create_data_path(\"top200_01-2017_06-2023\")"
   ]
  },
  {
   "cell_type": "code",
   "execution_count": 3,
   "metadata": {},
   "outputs": [],
   "source": [
    "spotify = create_spotipy_client() # will be used later to verify/validate data we collected"
   ]
  },
  {
   "attachments": {},
   "cell_type": "markdown",
   "metadata": {},
   "source": [
    "## Charts data"
   ]
  },
  {
   "cell_type": "code",
   "execution_count": 4,
   "metadata": {},
   "outputs": [
    {
     "data": {
      "text/html": [
       "<div>\n",
       "<style scoped>\n",
       "    .dataframe tbody tr th:only-of-type {\n",
       "        vertical-align: middle;\n",
       "    }\n",
       "\n",
       "    .dataframe tbody tr th {\n",
       "        vertical-align: top;\n",
       "    }\n",
       "\n",
       "    .dataframe thead th {\n",
       "        text-align: right;\n",
       "    }\n",
       "</style>\n",
       "<table border=\"1\" class=\"dataframe\">\n",
       "  <thead>\n",
       "    <tr style=\"text-align: right;\">\n",
       "      <th></th>\n",
       "      <th>date</th>\n",
       "      <th>region_code</th>\n",
       "      <th>track_id</th>\n",
       "      <th>pos</th>\n",
       "      <th>artist_names</th>\n",
       "      <th>track_name</th>\n",
       "      <th>source</th>\n",
       "      <th>peak_rank</th>\n",
       "      <th>previous_rank</th>\n",
       "      <th>days_on_chart</th>\n",
       "      <th>streams</th>\n",
       "    </tr>\n",
       "  </thead>\n",
       "  <tbody>\n",
       "    <tr>\n",
       "      <th>0</th>\n",
       "      <td>2017-01-01</td>\n",
       "      <td>AR</td>\n",
       "      <td>6mICuAdrwEjh6Y6lroV2Kg</td>\n",
       "      <td>1</td>\n",
       "      <td>Shakira, Maluma</td>\n",
       "      <td>Chantaje (feat. Maluma)</td>\n",
       "      <td>Sony Music Latin</td>\n",
       "      <td>1</td>\n",
       "      <td>-1</td>\n",
       "      <td>1</td>\n",
       "      <td>253019</td>\n",
       "    </tr>\n",
       "    <tr>\n",
       "      <th>1</th>\n",
       "      <td>2017-01-01</td>\n",
       "      <td>AR</td>\n",
       "      <td>7DM4BPaS7uofFul3ywMe46</td>\n",
       "      <td>2</td>\n",
       "      <td>Ricky Martin, Maluma</td>\n",
       "      <td>Vente Pa' Ca (feat. Maluma)</td>\n",
       "      <td>Sony Music Latin</td>\n",
       "      <td>2</td>\n",
       "      <td>-1</td>\n",
       "      <td>1</td>\n",
       "      <td>223988</td>\n",
       "    </tr>\n",
       "    <tr>\n",
       "      <th>2</th>\n",
       "      <td>2017-01-01</td>\n",
       "      <td>AR</td>\n",
       "      <td>3AEZUABDXNtecAOSC1qTfo</td>\n",
       "      <td>3</td>\n",
       "      <td>CNCO</td>\n",
       "      <td>Reggaetón Lento (Bailemos)</td>\n",
       "      <td>Sony Music Latin</td>\n",
       "      <td>3</td>\n",
       "      <td>-1</td>\n",
       "      <td>1</td>\n",
       "      <td>210943</td>\n",
       "    </tr>\n",
       "    <tr>\n",
       "      <th>3</th>\n",
       "      <td>2017-01-01</td>\n",
       "      <td>AR</td>\n",
       "      <td>6rQSrBHf7HlZjtcMZ4S4bO</td>\n",
       "      <td>4</td>\n",
       "      <td>J Balvin, Pharrell Williams, BIA, Sky Rompiendo</td>\n",
       "      <td>Safari</td>\n",
       "      <td>UMLE - Latino</td>\n",
       "      <td>4</td>\n",
       "      <td>-1</td>\n",
       "      <td>1</td>\n",
       "      <td>173865</td>\n",
       "    </tr>\n",
       "    <tr>\n",
       "      <th>4</th>\n",
       "      <td>2017-01-01</td>\n",
       "      <td>AR</td>\n",
       "      <td>58IL315gMSTD37DOZPJ2hf</td>\n",
       "      <td>5</td>\n",
       "      <td>Daddy Yankee</td>\n",
       "      <td>Shaky Shaky</td>\n",
       "      <td>El Cartel Records (EC3)</td>\n",
       "      <td>5</td>\n",
       "      <td>-1</td>\n",
       "      <td>1</td>\n",
       "      <td>153956</td>\n",
       "    </tr>\n",
       "  </tbody>\n",
       "</table>\n",
       "</div>"
      ],
      "text/plain": [
       "        date region_code                track_id  pos  \\\n",
       "0 2017-01-01          AR  6mICuAdrwEjh6Y6lroV2Kg    1   \n",
       "1 2017-01-01          AR  7DM4BPaS7uofFul3ywMe46    2   \n",
       "2 2017-01-01          AR  3AEZUABDXNtecAOSC1qTfo    3   \n",
       "3 2017-01-01          AR  6rQSrBHf7HlZjtcMZ4S4bO    4   \n",
       "4 2017-01-01          AR  58IL315gMSTD37DOZPJ2hf    5   \n",
       "\n",
       "                                      artist_names  \\\n",
       "0                                  Shakira, Maluma   \n",
       "1                             Ricky Martin, Maluma   \n",
       "2                                             CNCO   \n",
       "3  J Balvin, Pharrell Williams, BIA, Sky Rompiendo   \n",
       "4                                     Daddy Yankee   \n",
       "\n",
       "                    track_name                   source  peak_rank  \\\n",
       "0      Chantaje (feat. Maluma)         Sony Music Latin          1   \n",
       "1  Vente Pa' Ca (feat. Maluma)         Sony Music Latin          2   \n",
       "2   Reggaetón Lento (Bailemos)         Sony Music Latin          3   \n",
       "3                       Safari            UMLE - Latino          4   \n",
       "4                  Shaky Shaky  El Cartel Records (EC3)          5   \n",
       "\n",
       "   previous_rank  days_on_chart  streams  \n",
       "0             -1              1   253019  \n",
       "1             -1              1   223988  \n",
       "2             -1              1   210943  \n",
       "3             -1              1   173865  \n",
       "4             -1              1   153956  "
      ]
     },
     "execution_count": 4,
     "metadata": {},
     "output_type": "execute_result"
    }
   ],
   "source": [
    "charts_data_path = os.path.join(data_folder, \"charts.parquet\")\n",
    "charts_data = pd.read_parquet(charts_data_path)\n",
    "charts_data.head()"
   ]
  },
  {
   "attachments": {},
   "cell_type": "markdown",
   "metadata": {},
   "source": [
    "## Track data"
   ]
  },
  {
   "cell_type": "code",
   "execution_count": 5,
   "metadata": {},
   "outputs": [
    {
     "data": {
      "text/plain": [
       "dict_keys(['artists', 'markets', 'metadata'])"
      ]
     },
     "execution_count": 5,
     "metadata": {},
     "output_type": "execute_result"
    }
   ],
   "source": [
    "track_data_dir =  os.path.join(data_folder, \"tracks\")\n",
    "track_df_dict = load_parquet_files_in_dir(track_data_dir)\n",
    "track_df_dict.keys()"
   ]
  },
  {
   "attachments": {},
   "cell_type": "markdown",
   "metadata": {},
   "source": [
    "### Metadata"
   ]
  },
  {
   "cell_type": "code",
   "execution_count": 6,
   "metadata": {},
   "outputs": [
    {
     "data": {
      "text/html": [
       "<div>\n",
       "<style scoped>\n",
       "    .dataframe tbody tr th:only-of-type {\n",
       "        vertical-align: middle;\n",
       "    }\n",
       "\n",
       "    .dataframe tbody tr th {\n",
       "        vertical-align: top;\n",
       "    }\n",
       "\n",
       "    .dataframe thead th {\n",
       "        text-align: right;\n",
       "    }\n",
       "</style>\n",
       "<table border=\"1\" class=\"dataframe\">\n",
       "  <thead>\n",
       "    <tr style=\"text-align: right;\">\n",
       "      <th></th>\n",
       "      <th>disc_number</th>\n",
       "      <th>duration_ms</th>\n",
       "      <th>explicit</th>\n",
       "      <th>name</th>\n",
       "      <th>preview_url</th>\n",
       "      <th>track_number</th>\n",
       "      <th>isrc</th>\n",
       "      <th>album_id</th>\n",
       "    </tr>\n",
       "    <tr>\n",
       "      <th>track_id</th>\n",
       "      <th></th>\n",
       "      <th></th>\n",
       "      <th></th>\n",
       "      <th></th>\n",
       "      <th></th>\n",
       "      <th></th>\n",
       "      <th></th>\n",
       "      <th></th>\n",
       "    </tr>\n",
       "  </thead>\n",
       "  <tbody>\n",
       "    <tr>\n",
       "      <th>6mICuAdrwEjh6Y6lroV2Kg</th>\n",
       "      <td>1</td>\n",
       "      <td>195840</td>\n",
       "      <td>False</td>\n",
       "      <td>Chantaje (feat. Maluma)</td>\n",
       "      <td>https://p.scdn.co/mp3-preview/1b18b5e5619d1db1...</td>\n",
       "      <td>3</td>\n",
       "      <td>USSD11600299</td>\n",
       "      <td>6bUxh58rYTL67FS8dyTKMN</td>\n",
       "    </tr>\n",
       "    <tr>\n",
       "      <th>7DM4BPaS7uofFul3ywMe46</th>\n",
       "      <td>1</td>\n",
       "      <td>259195</td>\n",
       "      <td>False</td>\n",
       "      <td>Vente Pa' Ca (feat. Maluma)</td>\n",
       "      <td>https://p.scdn.co/mp3-preview/ecddab17cc70b189...</td>\n",
       "      <td>1</td>\n",
       "      <td>USSD11600252</td>\n",
       "      <td>1FkaJUwfqLdQdSmRPBlw6l</td>\n",
       "    </tr>\n",
       "    <tr>\n",
       "      <th>3AEZUABDXNtecAOSC1qTfo</th>\n",
       "      <td>1</td>\n",
       "      <td>222560</td>\n",
       "      <td>False</td>\n",
       "      <td>Reggaetón Lento (Bailemos)</td>\n",
       "      <td>https://p.scdn.co/mp3-preview/71b0d8200a5b1f85...</td>\n",
       "      <td>3</td>\n",
       "      <td>USSD11600135</td>\n",
       "      <td>0YLrAWUbY0nyM7PFtqnYld</td>\n",
       "    </tr>\n",
       "    <tr>\n",
       "      <th>6rQSrBHf7HlZjtcMZ4S4bO</th>\n",
       "      <td>1</td>\n",
       "      <td>205600</td>\n",
       "      <td>False</td>\n",
       "      <td>Safari</td>\n",
       "      <td>None</td>\n",
       "      <td>3</td>\n",
       "      <td>USUM71604778</td>\n",
       "      <td>2LYwooMTH1iJeBvWyXXWUf</td>\n",
       "    </tr>\n",
       "    <tr>\n",
       "      <th>58IL315gMSTD37DOZPJ2hf</th>\n",
       "      <td>1</td>\n",
       "      <td>234320</td>\n",
       "      <td>False</td>\n",
       "      <td>Shaky Shaky</td>\n",
       "      <td>None</td>\n",
       "      <td>1</td>\n",
       "      <td>US2BU1600020</td>\n",
       "      <td>2zrLk90b4qjmrxRZKyIY7X</td>\n",
       "    </tr>\n",
       "  </tbody>\n",
       "</table>\n",
       "</div>"
      ],
      "text/plain": [
       "                        disc_number  duration_ms  explicit  \\\n",
       "track_id                                                     \n",
       "6mICuAdrwEjh6Y6lroV2Kg            1       195840     False   \n",
       "7DM4BPaS7uofFul3ywMe46            1       259195     False   \n",
       "3AEZUABDXNtecAOSC1qTfo            1       222560     False   \n",
       "6rQSrBHf7HlZjtcMZ4S4bO            1       205600     False   \n",
       "58IL315gMSTD37DOZPJ2hf            1       234320     False   \n",
       "\n",
       "                                               name  \\\n",
       "track_id                                              \n",
       "6mICuAdrwEjh6Y6lroV2Kg      Chantaje (feat. Maluma)   \n",
       "7DM4BPaS7uofFul3ywMe46  Vente Pa' Ca (feat. Maluma)   \n",
       "3AEZUABDXNtecAOSC1qTfo   Reggaetón Lento (Bailemos)   \n",
       "6rQSrBHf7HlZjtcMZ4S4bO                       Safari   \n",
       "58IL315gMSTD37DOZPJ2hf                  Shaky Shaky   \n",
       "\n",
       "                                                              preview_url  \\\n",
       "track_id                                                                    \n",
       "6mICuAdrwEjh6Y6lroV2Kg  https://p.scdn.co/mp3-preview/1b18b5e5619d1db1...   \n",
       "7DM4BPaS7uofFul3ywMe46  https://p.scdn.co/mp3-preview/ecddab17cc70b189...   \n",
       "3AEZUABDXNtecAOSC1qTfo  https://p.scdn.co/mp3-preview/71b0d8200a5b1f85...   \n",
       "6rQSrBHf7HlZjtcMZ4S4bO                                               None   \n",
       "58IL315gMSTD37DOZPJ2hf                                               None   \n",
       "\n",
       "                        track_number          isrc                album_id  \n",
       "track_id                                                                    \n",
       "6mICuAdrwEjh6Y6lroV2Kg             3  USSD11600299  6bUxh58rYTL67FS8dyTKMN  \n",
       "7DM4BPaS7uofFul3ywMe46             1  USSD11600252  1FkaJUwfqLdQdSmRPBlw6l  \n",
       "3AEZUABDXNtecAOSC1qTfo             3  USSD11600135  0YLrAWUbY0nyM7PFtqnYld  \n",
       "6rQSrBHf7HlZjtcMZ4S4bO             3  USUM71604778  2LYwooMTH1iJeBvWyXXWUf  \n",
       "58IL315gMSTD37DOZPJ2hf             1  US2BU1600020  2zrLk90b4qjmrxRZKyIY7X  "
      ]
     },
     "execution_count": 6,
     "metadata": {},
     "output_type": "execute_result"
    }
   ],
   "source": [
    "track_metadata = track_df_dict['metadata']\n",
    "track_metadata.head()"
   ]
  },
  {
   "cell_type": "code",
   "execution_count": 7,
   "metadata": {},
   "outputs": [
    {
     "data": {
      "text/plain": [
       "163454"
      ]
     },
     "execution_count": 7,
     "metadata": {},
     "output_type": "execute_result"
    }
   ],
   "source": [
    "track_metadata.index.nunique()"
   ]
  },
  {
   "cell_type": "code",
   "execution_count": 8,
   "metadata": {},
   "outputs": [],
   "source": [
    "assert track_metadata.shape[0] == track_metadata.index.nunique()"
   ]
  },
  {
   "cell_type": "code",
   "execution_count": 9,
   "metadata": {},
   "outputs": [
    {
     "data": {
      "text/plain": [
       "35"
      ]
     },
     "execution_count": 9,
     "metadata": {},
     "output_type": "execute_result"
    }
   ],
   "source": [
    "track_metadata.isrc.isna().sum()"
   ]
  },
  {
   "attachments": {},
   "cell_type": "markdown",
   "metadata": {},
   "source": [
    "The [ISRC](https://en.wikipedia.org/wiki/International_Standard_Recording_Code) is available for almost all tracks! That is convenient, as this _international standardized recoding code_ could be used to obtain further metadata, e.g. from MusicBrainz."
   ]
  },
  {
   "attachments": {},
   "cell_type": "markdown",
   "metadata": {},
   "source": [
    "### Track markets"
   ]
  },
  {
   "cell_type": "code",
   "execution_count": 10,
   "metadata": {},
   "outputs": [
    {
     "data": {
      "text/html": [
       "<div>\n",
       "<style scoped>\n",
       "    .dataframe tbody tr th:only-of-type {\n",
       "        vertical-align: middle;\n",
       "    }\n",
       "\n",
       "    .dataframe tbody tr th {\n",
       "        vertical-align: top;\n",
       "    }\n",
       "\n",
       "    .dataframe thead th {\n",
       "        text-align: right;\n",
       "    }\n",
       "</style>\n",
       "<table border=\"1\" class=\"dataframe\">\n",
       "  <thead>\n",
       "    <tr style=\"text-align: right;\">\n",
       "      <th></th>\n",
       "      <th>market</th>\n",
       "    </tr>\n",
       "    <tr>\n",
       "      <th>track_id</th>\n",
       "      <th></th>\n",
       "    </tr>\n",
       "  </thead>\n",
       "  <tbody>\n",
       "    <tr>\n",
       "      <th>6mICuAdrwEjh6Y6lroV2Kg</th>\n",
       "      <td>AR</td>\n",
       "    </tr>\n",
       "    <tr>\n",
       "      <th>6mICuAdrwEjh6Y6lroV2Kg</th>\n",
       "      <td>AU</td>\n",
       "    </tr>\n",
       "    <tr>\n",
       "      <th>6mICuAdrwEjh6Y6lroV2Kg</th>\n",
       "      <td>AT</td>\n",
       "    </tr>\n",
       "    <tr>\n",
       "      <th>6mICuAdrwEjh6Y6lroV2Kg</th>\n",
       "      <td>BE</td>\n",
       "    </tr>\n",
       "    <tr>\n",
       "      <th>6mICuAdrwEjh6Y6lroV2Kg</th>\n",
       "      <td>BO</td>\n",
       "    </tr>\n",
       "  </tbody>\n",
       "</table>\n",
       "</div>"
      ],
      "text/plain": [
       "                       market\n",
       "track_id                     \n",
       "6mICuAdrwEjh6Y6lroV2Kg     AR\n",
       "6mICuAdrwEjh6Y6lroV2Kg     AU\n",
       "6mICuAdrwEjh6Y6lroV2Kg     AT\n",
       "6mICuAdrwEjh6Y6lroV2Kg     BE\n",
       "6mICuAdrwEjh6Y6lroV2Kg     BO"
      ]
     },
     "execution_count": 10,
     "metadata": {},
     "output_type": "execute_result"
    }
   ],
   "source": [
    "track_markets = track_df_dict['markets']\n",
    "track_markets.head()"
   ]
  },
  {
   "cell_type": "code",
   "execution_count": 11,
   "metadata": {},
   "outputs": [
    {
     "data": {
      "text/plain": [
       "123262"
      ]
     },
     "execution_count": 11,
     "metadata": {},
     "output_type": "execute_result"
    }
   ],
   "source": [
    "track_markets.index.nunique()"
   ]
  },
  {
   "cell_type": "code",
   "execution_count": 12,
   "metadata": {},
   "outputs": [],
   "source": [
    "assert track_markets.index.nunique() < track_metadata.shape[0]"
   ]
  },
  {
   "cell_type": "code",
   "execution_count": 13,
   "metadata": {},
   "outputs": [
    {
     "data": {
      "text/plain": [
       "40192"
      ]
     },
     "execution_count": 13,
     "metadata": {},
     "output_type": "execute_result"
    }
   ],
   "source": [
    "track_metadata.shape[0] - track_markets.index.nunique()"
   ]
  },
  {
   "attachments": {},
   "cell_type": "markdown",
   "metadata": {},
   "source": [
    "That's interesting, market information seems to be missing for quite a few tracks in the dataset?"
   ]
  },
  {
   "cell_type": "code",
   "execution_count": 14,
   "metadata": {},
   "outputs": [
    {
     "data": {
      "text/plain": [
       "Index(['003Tf4XVKCg6tFSv7JKgfz', '003WZkrHUL3u1uAr5ZMJxZ',\n",
       "       '004nEmGTeP5Mus4qXxz3x2', '004zGvrc84enQHFitC6auy',\n",
       "       '005oYmIDkyY7FjhNhcfGkv', '006LuHbY5Tt9dhbdSOnVq6',\n",
       "       '007QSAaELpVxtX5Z6dMn0U', '007S8LPHyug4UrgDWxiCxO',\n",
       "       '007d7JT41sSc1HqWTs4uw7', '007ogFejDqJKzEXDUDF8Nf',\n",
       "       ...\n",
       "       '7zsSUjNwsJ2WUZfLesfkEK', '7ztlf9mCrjoLXAYYf0LCYx',\n",
       "       '7zuxN6mJ6Wc27TXfQ6GPZL', '7zvfDihYiJ8RQ1nRcpKBF5',\n",
       "       '7zwO9KmNWzxKJj3wBdUXL5', '7zxd3J5hMPeLN71VS8vnE4',\n",
       "       '7zyWKLsmcHObOAXoBaOo5o', '7zzI3SbctTJN6wDerZNZCD',\n",
       "       '7zzbnhCpuuHOCrhBGvgwpp', '7zzhRAobAnNjarw2FAWt65'],\n",
       "      dtype='object', name='track_id', length=40192)"
      ]
     },
     "execution_count": 14,
     "metadata": {},
     "output_type": "execute_result"
    }
   ],
   "source": [
    "# get IDs of tracks that are in the metadata but not in the markets\n",
    "missing_track_ids = track_metadata.index.difference(track_markets.index)\n",
    "missing_track_ids"
   ]
  },
  {
   "attachments": {},
   "cell_type": "markdown",
   "metadata": {},
   "source": [
    "Does the Spotify API really not return any market data for those tracks?\n",
    "\n",
    "To verify that, we need to understand how to obtain the market information from each API response (using `spotipy`, which is the wrapper for the Spotify API that was also used for getting the data initially):"
   ]
  },
  {
   "cell_type": "code",
   "execution_count": 15,
   "metadata": {},
   "outputs": [
    {
     "data": {
      "text/plain": [
       "[]"
      ]
     },
     "execution_count": 15,
     "metadata": {},
     "output_type": "execute_result"
    }
   ],
   "source": [
    "example_track_markets = spotify.track(missing_track_ids[0])['available_markets']\n",
    "example_track_markets"
   ]
  },
  {
   "attachments": {},
   "cell_type": "markdown",
   "metadata": {},
   "source": [
    "We see that for the example, the response is indeed empty. We can write an assertion to test that for other cases. It will throw an `AssertionError` if it is not fulfilled."
   ]
  },
  {
   "cell_type": "code",
   "execution_count": 16,
   "metadata": {},
   "outputs": [],
   "source": [
    "def check_for_no_available_markets(api_track_response, track_id):\n",
    "    assert api_track_response[\"available_markets\"] == [], f\"available_markets is not empty for track_id: {track_id}\""
   ]
  },
  {
   "cell_type": "code",
   "execution_count": 17,
   "metadata": {},
   "outputs": [],
   "source": [
    "# demo: check for single track\n",
    "check_for_no_available_markets(spotify.track(missing_track_ids[0]), missing_track_ids[0])"
   ]
  },
  {
   "cell_type": "code",
   "execution_count": 18,
   "metadata": {},
   "outputs": [],
   "source": [
    "# demo: check for multiple tracks at once\n",
    "for api_response, track_id in zip(spotify.tracks(missing_track_ids[:2])[\"tracks\"], missing_track_ids[:2]):\n",
    "    check_for_no_available_markets(api_response, track_id)"
   ]
  },
  {
   "attachments": {},
   "cell_type": "markdown",
   "metadata": {},
   "source": [
    "Let's test this for all the IDs we have obtained. If a few IDs happen to be available, we will not change anything about our dataset (the data in the Spotify API changes all the time anyway)."
   ]
  },
  {
   "cell_type": "code",
   "execution_count": 19,
   "metadata": {},
   "outputs": [],
   "source": [
    "# check for all (commented out to avoid spamming Spotify API with 40k tracks every time this notebook is run)\n",
    "track_id_chunks = split_into_chunks_of_size(missing_track_ids, 50) # max. 50 tracks per request\n",
    "\n",
    "# ids_with_available_markets = []\n",
    "# for track_ids in tqdm(track_id_chunks):\n",
    "#     for api_response, track_id in zip(spotify.tracks(track_ids)[\"tracks\"], track_ids):\n",
    "#         try:\n",
    "#             check_for_no_available_markets(api_response, track_id)\n",
    "#         except AssertionError:\n",
    "#             ids_with_available_markets.append(track_id)\n",
    "\n",
    "# len(ids_with_available_markets)"
   ]
  },
  {
   "attachments": {},
   "cell_type": "markdown",
   "metadata": {},
   "source": [
    "To save us from getting blocked by the Spotify API (making requests with over 40k tracks repeatedly is probably a bit problematic), I have commented out the code cell above. However, the output when I ran this on 16th of July 2023 was:\n",
    "\n",
    "![Output of unavailable track markets check](./images/screenshot-track-markets-check.jpg)"
   ]
  },
  {
   "attachments": {},
   "cell_type": "markdown",
   "metadata": {},
   "source": [
    "I.e., only for 4 IDs where our collected market data is empty, the available markets API response was non-empty. It's absolutely NOT worth recreating the dataset for 4 IDs lol\n",
    "\n",
    "But still, it would be interesting to know why such a substantial portion of tracks (roughly 40k out of the total 160k) is apparently currently not available anywhere 🤔\n",
    "\n",
    "My hypothesis is that many tracks are just re-released later and the old version is taken down from Spotify. We could verify this by collecting track IDs that are associated with the same physical recording, identified via the ISRC."
   ]
  },
  {
   "cell_type": "code",
   "execution_count": 20,
   "metadata": {},
   "outputs": [],
   "source": [
    "# TODO: check hypothesis outlined from above"
   ]
  },
  {
   "cell_type": "code",
   "execution_count": 21,
   "metadata": {},
   "outputs": [
    {
     "data": {
      "text/plain": [
       "NO    117790\n",
       "FI    117685\n",
       "DK    117644\n",
       "CW    117595\n",
       "DE    117472\n",
       "       ...  \n",
       "LY    115054\n",
       "CD    115038\n",
       "BF    115036\n",
       "BN    115020\n",
       "BY    104587\n",
       "Name: market, Length: 184, dtype: int64"
      ]
     },
     "execution_count": 21,
     "metadata": {},
     "output_type": "execute_result"
    }
   ],
   "source": [
    "track_markets.market.value_counts()"
   ]
  },
  {
   "cell_type": "code",
   "execution_count": 22,
   "metadata": {},
   "outputs": [
    {
     "data": {
      "text/html": [
       "<div>\n",
       "<style scoped>\n",
       "    .dataframe tbody tr th:only-of-type {\n",
       "        vertical-align: middle;\n",
       "    }\n",
       "\n",
       "    .dataframe tbody tr th {\n",
       "        vertical-align: top;\n",
       "    }\n",
       "\n",
       "    .dataframe thead th {\n",
       "        text-align: right;\n",
       "    }\n",
       "</style>\n",
       "<table border=\"1\" class=\"dataframe\">\n",
       "  <thead>\n",
       "    <tr style=\"text-align: right;\">\n",
       "      <th></th>\n",
       "      <th>artist_id</th>\n",
       "      <th>pos</th>\n",
       "    </tr>\n",
       "    <tr>\n",
       "      <th>track_id</th>\n",
       "      <th></th>\n",
       "      <th></th>\n",
       "    </tr>\n",
       "  </thead>\n",
       "  <tbody>\n",
       "    <tr>\n",
       "      <th>6mICuAdrwEjh6Y6lroV2Kg</th>\n",
       "      <td>0EmeFodog0BfCgMzAIvKQp</td>\n",
       "      <td>1</td>\n",
       "    </tr>\n",
       "    <tr>\n",
       "      <th>6mICuAdrwEjh6Y6lroV2Kg</th>\n",
       "      <td>1r4hJ1h58CWwUQe3MxPuau</td>\n",
       "      <td>2</td>\n",
       "    </tr>\n",
       "    <tr>\n",
       "      <th>7DM4BPaS7uofFul3ywMe46</th>\n",
       "      <td>7slfeZO9LsJbWgpkIoXBUJ</td>\n",
       "      <td>1</td>\n",
       "    </tr>\n",
       "    <tr>\n",
       "      <th>7DM4BPaS7uofFul3ywMe46</th>\n",
       "      <td>1r4hJ1h58CWwUQe3MxPuau</td>\n",
       "      <td>2</td>\n",
       "    </tr>\n",
       "    <tr>\n",
       "      <th>3AEZUABDXNtecAOSC1qTfo</th>\n",
       "      <td>0eecdvMrqBftK0M1VKhaF4</td>\n",
       "      <td>1</td>\n",
       "    </tr>\n",
       "  </tbody>\n",
       "</table>\n",
       "</div>"
      ],
      "text/plain": [
       "                                     artist_id  pos\n",
       "track_id                                           \n",
       "6mICuAdrwEjh6Y6lroV2Kg  0EmeFodog0BfCgMzAIvKQp    1\n",
       "6mICuAdrwEjh6Y6lroV2Kg  1r4hJ1h58CWwUQe3MxPuau    2\n",
       "7DM4BPaS7uofFul3ywMe46  7slfeZO9LsJbWgpkIoXBUJ    1\n",
       "7DM4BPaS7uofFul3ywMe46  1r4hJ1h58CWwUQe3MxPuau    2\n",
       "3AEZUABDXNtecAOSC1qTfo  0eecdvMrqBftK0M1VKhaF4    1"
      ]
     },
     "execution_count": 22,
     "metadata": {},
     "output_type": "execute_result"
    }
   ],
   "source": [
    "track_artists = track_df_dict['artists']\n",
    "track_artists.head()"
   ]
  },
  {
   "cell_type": "code",
   "execution_count": 23,
   "metadata": {},
   "outputs": [],
   "source": [
    "assert track_artists.index.nunique() == track_metadata.shape[0] # an artist entry should exist in our collected data for every track"
   ]
  },
  {
   "cell_type": "code",
   "execution_count": 24,
   "metadata": {},
   "outputs": [
    {
     "data": {
      "text/plain": [
       "<Axes: title={'center': 'Number of participating artists in tracks in the top 200'}>"
      ]
     },
     "execution_count": 24,
     "metadata": {},
     "output_type": "execute_result"
    },
    {
     "data": {
      "image/png": "[encoded data removed]",
      "text/plain": [
       "<Figure size 640x480 with 1 Axes>"
      ]
     },
     "metadata": {},
     "output_type": "display_data"
    }
   ],
   "source": [
    "track_artists.pos.value_counts().plot(kind='bar', title='Number of participating artists in tracks in the top 200')"
   ]
  },
  {
   "attachments": {},
   "cell_type": "markdown",
   "metadata": {},
   "source": [
    "The vast majority of chart hits are performed by a single artist."
   ]
  },
  {
   "attachments": {},
   "cell_type": "markdown",
   "metadata": {},
   "source": [
    "## Album Data"
   ]
  },
  {
   "cell_type": "code",
   "execution_count": 25,
   "metadata": {},
   "outputs": [
    {
     "data": {
      "text/plain": [
       "dict_keys(['copyrights', 'artists', 'markets', 'imgs', 'metadata'])"
      ]
     },
     "execution_count": 25,
     "metadata": {},
     "output_type": "execute_result"
    }
   ],
   "source": [
    "album_data_dir =  os.path.join(data_folder, \"albums\")\n",
    "album_df_dict = load_parquet_files_in_dir(album_data_dir)\n",
    "album_df_dict.keys()\n",
    "    "
   ]
  },
  {
   "attachments": {},
   "cell_type": "markdown",
   "metadata": {},
   "source": [
    "### Metadata"
   ]
  },
  {
   "cell_type": "code",
   "execution_count": 26,
   "metadata": {},
   "outputs": [
    {
     "data": {
      "text/html": [
       "<div>\n",
       "<style scoped>\n",
       "    .dataframe tbody tr th:only-of-type {\n",
       "        vertical-align: middle;\n",
       "    }\n",
       "\n",
       "    .dataframe tbody tr th {\n",
       "        vertical-align: top;\n",
       "    }\n",
       "\n",
       "    .dataframe thead th {\n",
       "        text-align: right;\n",
       "    }\n",
       "</style>\n",
       "<table border=\"1\" class=\"dataframe\">\n",
       "  <thead>\n",
       "    <tr style=\"text-align: right;\">\n",
       "      <th></th>\n",
       "      <th>album_type</th>\n",
       "      <th>label</th>\n",
       "      <th>name</th>\n",
       "      <th>release_date</th>\n",
       "      <th>release_date_precision</th>\n",
       "      <th>total_tracks</th>\n",
       "      <th>upc</th>\n",
       "      <th>amgid</th>\n",
       "    </tr>\n",
       "    <tr>\n",
       "      <th>album_id</th>\n",
       "      <th></th>\n",
       "      <th></th>\n",
       "      <th></th>\n",
       "      <th></th>\n",
       "      <th></th>\n",
       "      <th></th>\n",
       "      <th></th>\n",
       "      <th></th>\n",
       "    </tr>\n",
       "  </thead>\n",
       "  <tbody>\n",
       "    <tr>\n",
       "      <th>6bUxh58rYTL67FS8dyTKMN</th>\n",
       "      <td>album</td>\n",
       "      <td>Sony Music Latin</td>\n",
       "      <td>El Dorado</td>\n",
       "      <td>2017-05-26</td>\n",
       "      <td>day</td>\n",
       "      <td>13</td>\n",
       "      <td>886446480060</td>\n",
       "      <td>None</td>\n",
       "    </tr>\n",
       "    <tr>\n",
       "      <th>1FkaJUwfqLdQdSmRPBlw6l</th>\n",
       "      <td>single</td>\n",
       "      <td>Sony Music Latin</td>\n",
       "      <td>Vente Pa' Ca (feat. Maluma)</td>\n",
       "      <td>2016-09-22</td>\n",
       "      <td>day</td>\n",
       "      <td>1</td>\n",
       "      <td>886446092928</td>\n",
       "      <td>None</td>\n",
       "    </tr>\n",
       "    <tr>\n",
       "      <th>0YLrAWUbY0nyM7PFtqnYld</th>\n",
       "      <td>album</td>\n",
       "      <td>Sony Music Latin</td>\n",
       "      <td>Primera Cita</td>\n",
       "      <td>2016-08-26</td>\n",
       "      <td>day</td>\n",
       "      <td>14</td>\n",
       "      <td>886445722550</td>\n",
       "      <td>None</td>\n",
       "    </tr>\n",
       "    <tr>\n",
       "      <th>2LYwooMTH1iJeBvWyXXWUf</th>\n",
       "      <td>album</td>\n",
       "      <td>Universal Music Group</td>\n",
       "      <td>Energía</td>\n",
       "      <td>2016-06-24</td>\n",
       "      <td>day</td>\n",
       "      <td>15</td>\n",
       "      <td>00602547952387</td>\n",
       "      <td>None</td>\n",
       "    </tr>\n",
       "    <tr>\n",
       "      <th>2zrLk90b4qjmrxRZKyIY7X</th>\n",
       "      <td>single</td>\n",
       "      <td>Universal Music Group</td>\n",
       "      <td>Shaky Shaky</td>\n",
       "      <td>2016-04-08</td>\n",
       "      <td>day</td>\n",
       "      <td>1</td>\n",
       "      <td>00602547885456</td>\n",
       "      <td>None</td>\n",
       "    </tr>\n",
       "  </tbody>\n",
       "</table>\n",
       "</div>"
      ],
      "text/plain": [
       "                       album_type                  label  \\\n",
       "album_id                                                   \n",
       "6bUxh58rYTL67FS8dyTKMN      album       Sony Music Latin   \n",
       "1FkaJUwfqLdQdSmRPBlw6l     single       Sony Music Latin   \n",
       "0YLrAWUbY0nyM7PFtqnYld      album       Sony Music Latin   \n",
       "2LYwooMTH1iJeBvWyXXWUf      album  Universal Music Group   \n",
       "2zrLk90b4qjmrxRZKyIY7X     single  Universal Music Group   \n",
       "\n",
       "                                               name release_date  \\\n",
       "album_id                                                           \n",
       "6bUxh58rYTL67FS8dyTKMN                    El Dorado   2017-05-26   \n",
       "1FkaJUwfqLdQdSmRPBlw6l  Vente Pa' Ca (feat. Maluma)   2016-09-22   \n",
       "0YLrAWUbY0nyM7PFtqnYld                 Primera Cita   2016-08-26   \n",
       "2LYwooMTH1iJeBvWyXXWUf                      Energía   2016-06-24   \n",
       "2zrLk90b4qjmrxRZKyIY7X                  Shaky Shaky   2016-04-08   \n",
       "\n",
       "                       release_date_precision  total_tracks             upc  \\\n",
       "album_id                                                                      \n",
       "6bUxh58rYTL67FS8dyTKMN                    day            13    886446480060   \n",
       "1FkaJUwfqLdQdSmRPBlw6l                    day             1    886446092928   \n",
       "0YLrAWUbY0nyM7PFtqnYld                    day            14    886445722550   \n",
       "2LYwooMTH1iJeBvWyXXWUf                    day            15  00602547952387   \n",
       "2zrLk90b4qjmrxRZKyIY7X                    day             1  00602547885456   \n",
       "\n",
       "                       amgid  \n",
       "album_id                      \n",
       "6bUxh58rYTL67FS8dyTKMN  None  \n",
       "1FkaJUwfqLdQdSmRPBlw6l  None  \n",
       "0YLrAWUbY0nyM7PFtqnYld  None  \n",
       "2LYwooMTH1iJeBvWyXXWUf  None  \n",
       "2zrLk90b4qjmrxRZKyIY7X  None  "
      ]
     },
     "execution_count": 26,
     "metadata": {},
     "output_type": "execute_result"
    }
   ],
   "source": [
    "album_metadata = album_df_dict['metadata']\n",
    "album_metadata.head()"
   ]
  },
  {
   "cell_type": "code",
   "execution_count": 27,
   "metadata": {},
   "outputs": [
    {
     "data": {
      "text/plain": [
       "Sony Music Entertainment       2323\n",
       "Universal Music Group          1778\n",
       "Columbia                       1518\n",
       "WM Finland                     1473\n",
       "Universal Music Oy             1196\n",
       "RCA Records Label               949\n",
       "Universal Music Italia srL.     745\n",
       "Universal Music AB              722\n",
       "Universal Music A/S             676\n",
       "WM Sweden                       622\n",
       "Name: label, dtype: int64"
      ]
     },
     "execution_count": 27,
     "metadata": {},
     "output_type": "execute_result"
    }
   ],
   "source": [
    "album_metadata.label.value_counts().sort_values(ascending=False)[:10]"
   ]
  },
  {
   "cell_type": "code",
   "execution_count": 28,
   "metadata": {},
   "outputs": [
    {
     "data": {
      "text/plain": [
       "Timestamp('1840-06-14 00:00:00')"
      ]
     },
     "execution_count": 28,
     "metadata": {},
     "output_type": "execute_result"
    }
   ],
   "source": [
    "album_metadata.release_date.min()"
   ]
  },
  {
   "attachments": {},
   "cell_type": "markdown",
   "metadata": {},
   "source": [
    "### Artists"
   ]
  },
  {
   "cell_type": "code",
   "execution_count": 29,
   "metadata": {},
   "outputs": [
    {
     "data": {
      "text/plain": [
       "1    103247\n",
       "2     22749\n",
       "3      6089\n",
       "4         9\n",
       "5         6\n",
       "Name: pos, dtype: int64"
      ]
     },
     "execution_count": 29,
     "metadata": {},
     "output_type": "execute_result"
    }
   ],
   "source": [
    "album_artists = album_df_dict['artists']\n",
    "album_artists.pos.value_counts()"
   ]
  },
  {
   "cell_type": "code",
   "execution_count": 30,
   "metadata": {},
   "outputs": [
    {
     "data": {
      "text/html": [
       "<div>\n",
       "<style scoped>\n",
       "    .dataframe tbody tr th:only-of-type {\n",
       "        vertical-align: middle;\n",
       "    }\n",
       "\n",
       "    .dataframe tbody tr th {\n",
       "        vertical-align: top;\n",
       "    }\n",
       "\n",
       "    .dataframe thead th {\n",
       "        text-align: right;\n",
       "    }\n",
       "</style>\n",
       "<table border=\"1\" class=\"dataframe\">\n",
       "  <thead>\n",
       "    <tr style=\"text-align: right;\">\n",
       "      <th></th>\n",
       "      <th>artist_id</th>\n",
       "      <th>pos</th>\n",
       "    </tr>\n",
       "    <tr>\n",
       "      <th>album_id</th>\n",
       "      <th></th>\n",
       "      <th></th>\n",
       "    </tr>\n",
       "  </thead>\n",
       "  <tbody>\n",
       "    <tr>\n",
       "      <th>6bUxh58rYTL67FS8dyTKMN</th>\n",
       "      <td>0EmeFodog0BfCgMzAIvKQp</td>\n",
       "      <td>1</td>\n",
       "    </tr>\n",
       "    <tr>\n",
       "      <th>1FkaJUwfqLdQdSmRPBlw6l</th>\n",
       "      <td>7slfeZO9LsJbWgpkIoXBUJ</td>\n",
       "      <td>1</td>\n",
       "    </tr>\n",
       "    <tr>\n",
       "      <th>0YLrAWUbY0nyM7PFtqnYld</th>\n",
       "      <td>0eecdvMrqBftK0M1VKhaF4</td>\n",
       "      <td>1</td>\n",
       "    </tr>\n",
       "    <tr>\n",
       "      <th>2LYwooMTH1iJeBvWyXXWUf</th>\n",
       "      <td>1vyhD5VmyZ7KMfW5gqLgo5</td>\n",
       "      <td>1</td>\n",
       "    </tr>\n",
       "    <tr>\n",
       "      <th>2zrLk90b4qjmrxRZKyIY7X</th>\n",
       "      <td>4VMYDCV2IEDYJArk749S6m</td>\n",
       "      <td>1</td>\n",
       "    </tr>\n",
       "  </tbody>\n",
       "</table>\n",
       "</div>"
      ],
      "text/plain": [
       "                                     artist_id  pos\n",
       "album_id                                           \n",
       "6bUxh58rYTL67FS8dyTKMN  0EmeFodog0BfCgMzAIvKQp    1\n",
       "1FkaJUwfqLdQdSmRPBlw6l  7slfeZO9LsJbWgpkIoXBUJ    1\n",
       "0YLrAWUbY0nyM7PFtqnYld  0eecdvMrqBftK0M1VKhaF4    1\n",
       "2LYwooMTH1iJeBvWyXXWUf  1vyhD5VmyZ7KMfW5gqLgo5    1\n",
       "2zrLk90b4qjmrxRZKyIY7X  4VMYDCV2IEDYJArk749S6m    1"
      ]
     },
     "execution_count": 30,
     "metadata": {},
     "output_type": "execute_result"
    }
   ],
   "source": [
    "album_artists.head()"
   ]
  },
  {
   "cell_type": "code",
   "execution_count": 31,
   "metadata": {},
   "outputs": [
    {
     "data": {
      "text/html": [
       "<div>\n",
       "<style scoped>\n",
       "    .dataframe tbody tr th:only-of-type {\n",
       "        vertical-align: middle;\n",
       "    }\n",
       "\n",
       "    .dataframe tbody tr th {\n",
       "        vertical-align: top;\n",
       "    }\n",
       "\n",
       "    .dataframe thead th {\n",
       "        text-align: right;\n",
       "    }\n",
       "</style>\n",
       "<table border=\"1\" class=\"dataframe\">\n",
       "  <thead>\n",
       "    <tr style=\"text-align: right;\">\n",
       "      <th></th>\n",
       "      <th>text</th>\n",
       "      <th>type</th>\n",
       "    </tr>\n",
       "    <tr>\n",
       "      <th>album_id</th>\n",
       "      <th></th>\n",
       "      <th></th>\n",
       "    </tr>\n",
       "  </thead>\n",
       "  <tbody>\n",
       "    <tr>\n",
       "      <th>6bUxh58rYTL67FS8dyTKMN</th>\n",
       "      <td>(P) 2016 Wati-B under exclusive license to Son...</td>\n",
       "      <td>P</td>\n",
       "    </tr>\n",
       "    <tr>\n",
       "      <th>1FkaJUwfqLdQdSmRPBlw6l</th>\n",
       "      <td>(P) 2016 Sony Music Entertainment US Latin LLC</td>\n",
       "      <td>P</td>\n",
       "    </tr>\n",
       "    <tr>\n",
       "      <th>0YLrAWUbY0nyM7PFtqnYld</th>\n",
       "      <td>(P) 2016 Sony Music Entertainment US Latin LLC</td>\n",
       "      <td>P</td>\n",
       "    </tr>\n",
       "    <tr>\n",
       "      <th>2LYwooMTH1iJeBvWyXXWUf</th>\n",
       "      <td>© 2016 Capitol Latin</td>\n",
       "      <td>C</td>\n",
       "    </tr>\n",
       "    <tr>\n",
       "      <th>2LYwooMTH1iJeBvWyXXWUf</th>\n",
       "      <td>℗ 2016 Capitol Latin</td>\n",
       "      <td>P</td>\n",
       "    </tr>\n",
       "  </tbody>\n",
       "</table>\n",
       "</div>"
      ],
      "text/plain": [
       "                                                                     text type\n",
       "album_id                                                                      \n",
       "6bUxh58rYTL67FS8dyTKMN  (P) 2016 Wati-B under exclusive license to Son...    P\n",
       "1FkaJUwfqLdQdSmRPBlw6l     (P) 2016 Sony Music Entertainment US Latin LLC    P\n",
       "0YLrAWUbY0nyM7PFtqnYld     (P) 2016 Sony Music Entertainment US Latin LLC    P\n",
       "2LYwooMTH1iJeBvWyXXWUf                               © 2016 Capitol Latin    C\n",
       "2LYwooMTH1iJeBvWyXXWUf                               ℗ 2016 Capitol Latin    P"
      ]
     },
     "execution_count": 31,
     "metadata": {},
     "output_type": "execute_result"
    }
   ],
   "source": [
    "album_copyrights = album_df_dict['copyrights']\n",
    "album_copyrights.head()"
   ]
  },
  {
   "cell_type": "code",
   "execution_count": 32,
   "metadata": {},
   "outputs": [
    {
     "data": {
      "text/plain": [
       "102945"
      ]
     },
     "execution_count": 32,
     "metadata": {},
     "output_type": "execute_result"
    }
   ],
   "source": [
    "album_copyrights.index.nunique()"
   ]
  },
  {
   "cell_type": "code",
   "execution_count": 33,
   "metadata": {},
   "outputs": [
    {
     "data": {
      "text/plain": [
       "P    100848\n",
       "C     86522\n",
       "Name: type, dtype: int64"
      ]
     },
     "execution_count": 33,
     "metadata": {},
     "output_type": "execute_result"
    }
   ],
   "source": [
    "album_copyrights.type.value_counts()"
   ]
  },
  {
   "cell_type": "code",
   "execution_count": 34,
   "metadata": {},
   "outputs": [
    {
     "data": {
      "text/plain": [
       "2019 Super Cassettes Industries Private Limited                                                                    252\n",
       "© 2018 Universal Music Spain S.L.U./ Gestmusic Endemol, SAU/ Radio Televisión Española, Sociedad Anónima S.M.E.    184\n",
       "℗ 2018 Universal Music Spain S.L.U./ Gestmusic Endemol, SAU/ Radio Televisión Española, Sociedad Anónima S.M.E.    181\n",
       "NMC United Entertainment Ltd.                                                                                      176\n",
       "2020 Super Cassettes Industries Private Limited                                                                    152\n",
       "© 2017 Warner Music Finland                                                                                        145\n",
       "Music Nation Records Co. Ltd.                                                                                      144\n",
       "℗ 2017 Warner Music Finland                                                                                        144\n",
       "© 2019 Warner Music Finland                                                                                        134\n",
       "℗ 2019 Warner Music Finland                                                                                        133\n",
       "Name: text, dtype: int64"
      ]
     },
     "execution_count": 34,
     "metadata": {},
     "output_type": "execute_result"
    }
   ],
   "source": [
    "album_copyrights.text.value_counts().sort_values(ascending=False)[:10]"
   ]
  },
  {
   "cell_type": "code",
   "execution_count": 35,
   "metadata": {},
   "outputs": [
    {
     "data": {
      "text/html": [
       "<div>\n",
       "<style scoped>\n",
       "    .dataframe tbody tr th:only-of-type {\n",
       "        vertical-align: middle;\n",
       "    }\n",
       "\n",
       "    .dataframe tbody tr th {\n",
       "        vertical-align: top;\n",
       "    }\n",
       "\n",
       "    .dataframe thead th {\n",
       "        text-align: right;\n",
       "    }\n",
       "</style>\n",
       "<table border=\"1\" class=\"dataframe\">\n",
       "  <thead>\n",
       "    <tr style=\"text-align: right;\">\n",
       "      <th></th>\n",
       "      <th>market</th>\n",
       "    </tr>\n",
       "    <tr>\n",
       "      <th>album_id</th>\n",
       "      <th></th>\n",
       "    </tr>\n",
       "  </thead>\n",
       "  <tbody>\n",
       "    <tr>\n",
       "      <th>6bUxh58rYTL67FS8dyTKMN</th>\n",
       "      <td>AD</td>\n",
       "    </tr>\n",
       "    <tr>\n",
       "      <th>6bUxh58rYTL67FS8dyTKMN</th>\n",
       "      <td>AE</td>\n",
       "    </tr>\n",
       "    <tr>\n",
       "      <th>6bUxh58rYTL67FS8dyTKMN</th>\n",
       "      <td>AG</td>\n",
       "    </tr>\n",
       "    <tr>\n",
       "      <th>6bUxh58rYTL67FS8dyTKMN</th>\n",
       "      <td>AL</td>\n",
       "    </tr>\n",
       "    <tr>\n",
       "      <th>6bUxh58rYTL67FS8dyTKMN</th>\n",
       "      <td>AM</td>\n",
       "    </tr>\n",
       "  </tbody>\n",
       "</table>\n",
       "</div>"
      ],
      "text/plain": [
       "                       market\n",
       "album_id                     \n",
       "6bUxh58rYTL67FS8dyTKMN     AD\n",
       "6bUxh58rYTL67FS8dyTKMN     AE\n",
       "6bUxh58rYTL67FS8dyTKMN     AG\n",
       "6bUxh58rYTL67FS8dyTKMN     AL\n",
       "6bUxh58rYTL67FS8dyTKMN     AM"
      ]
     },
     "execution_count": 35,
     "metadata": {},
     "output_type": "execute_result"
    }
   ],
   "source": [
    "album_markets = album_df_dict['markets']\n",
    "album_markets.head()"
   ]
  },
  {
   "cell_type": "code",
   "execution_count": 36,
   "metadata": {},
   "outputs": [
    {
     "data": {
      "text/plain": [
       "NO    73709\n",
       "FI    73614\n",
       "DK    73563\n",
       "CW    73520\n",
       "DE    73481\n",
       "      ...  \n",
       "IQ    72015\n",
       "LY    71940\n",
       "CD    71891\n",
       "US    71870\n",
       "BY    65775\n",
       "Name: market, Length: 184, dtype: int64"
      ]
     },
     "execution_count": 36,
     "metadata": {},
     "output_type": "execute_result"
    }
   ],
   "source": [
    "album_markets.market.value_counts()"
   ]
  },
  {
   "cell_type": "code",
   "execution_count": 37,
   "metadata": {},
   "outputs": [
    {
     "data": {
      "text/html": [
       "<div>\n",
       "<style scoped>\n",
       "    .dataframe tbody tr th:only-of-type {\n",
       "        vertical-align: middle;\n",
       "    }\n",
       "\n",
       "    .dataframe tbody tr th {\n",
       "        vertical-align: top;\n",
       "    }\n",
       "\n",
       "    .dataframe thead th {\n",
       "        text-align: right;\n",
       "    }\n",
       "</style>\n",
       "<table border=\"1\" class=\"dataframe\">\n",
       "  <thead>\n",
       "    <tr style=\"text-align: right;\">\n",
       "      <th></th>\n",
       "      <th>url</th>\n",
       "      <th>width</th>\n",
       "      <th>height</th>\n",
       "    </tr>\n",
       "    <tr>\n",
       "      <th>album_id</th>\n",
       "      <th></th>\n",
       "      <th></th>\n",
       "      <th></th>\n",
       "    </tr>\n",
       "  </thead>\n",
       "  <tbody>\n",
       "    <tr>\n",
       "      <th>6bUxh58rYTL67FS8dyTKMN</th>\n",
       "      <td>https://i.scdn.co/image/ab67616d0000b273d05d3a...</td>\n",
       "      <td>640</td>\n",
       "      <td>640</td>\n",
       "    </tr>\n",
       "    <tr>\n",
       "      <th>6bUxh58rYTL67FS8dyTKMN</th>\n",
       "      <td>https://i.scdn.co/image/ab67616d00001e02d05d3a...</td>\n",
       "      <td>300</td>\n",
       "      <td>300</td>\n",
       "    </tr>\n",
       "    <tr>\n",
       "      <th>6bUxh58rYTL67FS8dyTKMN</th>\n",
       "      <td>https://i.scdn.co/image/ab67616d00004851d05d3a...</td>\n",
       "      <td>64</td>\n",
       "      <td>64</td>\n",
       "    </tr>\n",
       "    <tr>\n",
       "      <th>1FkaJUwfqLdQdSmRPBlw6l</th>\n",
       "      <td>https://i.scdn.co/image/ab67616d0000b2733d90f5...</td>\n",
       "      <td>640</td>\n",
       "      <td>640</td>\n",
       "    </tr>\n",
       "    <tr>\n",
       "      <th>1FkaJUwfqLdQdSmRPBlw6l</th>\n",
       "      <td>https://i.scdn.co/image/ab67616d00001e023d90f5...</td>\n",
       "      <td>300</td>\n",
       "      <td>300</td>\n",
       "    </tr>\n",
       "  </tbody>\n",
       "</table>\n",
       "</div>"
      ],
      "text/plain": [
       "                                                                      url  \\\n",
       "album_id                                                                    \n",
       "6bUxh58rYTL67FS8dyTKMN  https://i.scdn.co/image/ab67616d0000b273d05d3a...   \n",
       "6bUxh58rYTL67FS8dyTKMN  https://i.scdn.co/image/ab67616d00001e02d05d3a...   \n",
       "6bUxh58rYTL67FS8dyTKMN  https://i.scdn.co/image/ab67616d00004851d05d3a...   \n",
       "1FkaJUwfqLdQdSmRPBlw6l  https://i.scdn.co/image/ab67616d0000b2733d90f5...   \n",
       "1FkaJUwfqLdQdSmRPBlw6l  https://i.scdn.co/image/ab67616d00001e023d90f5...   \n",
       "\n",
       "                        width  height  \n",
       "album_id                               \n",
       "6bUxh58rYTL67FS8dyTKMN    640     640  \n",
       "6bUxh58rYTL67FS8dyTKMN    300     300  \n",
       "6bUxh58rYTL67FS8dyTKMN     64      64  \n",
       "1FkaJUwfqLdQdSmRPBlw6l    640     640  \n",
       "1FkaJUwfqLdQdSmRPBlw6l    300     300  "
      ]
     },
     "execution_count": 37,
     "metadata": {},
     "output_type": "execute_result"
    }
   ],
   "source": [
    "album_imgs = album_df_dict['imgs']\n",
    "album_imgs.head()"
   ]
  },
  {
   "cell_type": "code",
   "execution_count": 38,
   "metadata": {},
   "outputs": [
    {
     "data": {
      "text/plain": [
       "300    103222\n",
       "64     103221\n",
       "640    103220\n",
       "582         1\n",
       "273         1\n",
       "58          1\n",
       "435         1\n",
       "218         1\n",
       "46          1\n",
       "476         1\n",
       "223         1\n",
       "48          1\n",
       "540         1\n",
       "253         1\n",
       "54          1\n",
       "350         1\n",
       "Name: width, dtype: int64"
      ]
     },
     "execution_count": 38,
     "metadata": {},
     "output_type": "execute_result"
    }
   ],
   "source": [
    "album_imgs.width.value_counts()"
   ]
  },
  {
   "cell_type": "code",
   "execution_count": 39,
   "metadata": {},
   "outputs": [
    {
     "data": {
      "text/plain": [
       "300    103224\n",
       "64     103223\n",
       "640    103222\n",
       "63          2\n",
       "600         1\n",
       "347         1\n",
       "297         1\n",
       "636         1\n",
       "298         1\n",
       "Name: height, dtype: int64"
      ]
     },
     "execution_count": 39,
     "metadata": {},
     "output_type": "execute_result"
    }
   ],
   "source": [
    "album_imgs.height.value_counts()"
   ]
  },
  {
   "attachments": {},
   "cell_type": "markdown",
   "metadata": {},
   "source": [
    "## Artist Data"
   ]
  },
  {
   "cell_type": "code",
   "execution_count": 40,
   "metadata": {},
   "outputs": [
    {
     "data": {
      "text/plain": [
       "dict_keys(['genres', 'images', 'metadata'])"
      ]
     },
     "execution_count": 40,
     "metadata": {},
     "output_type": "execute_result"
    }
   ],
   "source": [
    "artist_data_dir =  os.path.join(data_folder, \"artists\")\n",
    "artist_df_dict = load_parquet_files_in_dir(artist_data_dir)\n",
    "artist_df_dict.keys()"
   ]
  },
  {
   "cell_type": "code",
   "execution_count": 41,
   "metadata": {},
   "outputs": [
    {
     "data": {
      "text/html": [
       "<div>\n",
       "<style scoped>\n",
       "    .dataframe tbody tr th:only-of-type {\n",
       "        vertical-align: middle;\n",
       "    }\n",
       "\n",
       "    .dataframe tbody tr th {\n",
       "        vertical-align: top;\n",
       "    }\n",
       "\n",
       "    .dataframe thead th {\n",
       "        text-align: right;\n",
       "    }\n",
       "</style>\n",
       "<table border=\"1\" class=\"dataframe\">\n",
       "  <thead>\n",
       "    <tr style=\"text-align: right;\">\n",
       "      <th></th>\n",
       "      <th>followers</th>\n",
       "      <th>name</th>\n",
       "      <th>popularity</th>\n",
       "    </tr>\n",
       "    <tr>\n",
       "      <th>artist_id</th>\n",
       "      <th></th>\n",
       "      <th></th>\n",
       "      <th></th>\n",
       "    </tr>\n",
       "  </thead>\n",
       "  <tbody>\n",
       "    <tr>\n",
       "      <th>30C5wgn4celhRP3Tytv7R6</th>\n",
       "      <td>13584</td>\n",
       "      <td>Mez</td>\n",
       "      <td>49</td>\n",
       "    </tr>\n",
       "    <tr>\n",
       "      <th>4og9lYRD6weUueMRu8lbP4</th>\n",
       "      <td>54187</td>\n",
       "      <td>Gali Atari</td>\n",
       "      <td>36</td>\n",
       "    </tr>\n",
       "    <tr>\n",
       "      <th>1iC0iOxwU2oglYqtSr5NV7</th>\n",
       "      <td>7200</td>\n",
       "      <td>артилерія</td>\n",
       "      <td>28</td>\n",
       "    </tr>\n",
       "    <tr>\n",
       "      <th>2TPXXpBdhNonD9MgaoUevk</th>\n",
       "      <td>1351</td>\n",
       "      <td>Krizz Solano</td>\n",
       "      <td>5</td>\n",
       "    </tr>\n",
       "    <tr>\n",
       "      <th>7yLOR62W5h5j5Y4M8nHnAY</th>\n",
       "      <td>2170</td>\n",
       "      <td>fuse.</td>\n",
       "      <td>34</td>\n",
       "    </tr>\n",
       "  </tbody>\n",
       "</table>\n",
       "</div>"
      ],
      "text/plain": [
       "                        followers          name  popularity\n",
       "artist_id                                                  \n",
       "30C5wgn4celhRP3Tytv7R6      13584           Mez          49\n",
       "4og9lYRD6weUueMRu8lbP4      54187    Gali Atari          36\n",
       "1iC0iOxwU2oglYqtSr5NV7       7200     артилерія          28\n",
       "2TPXXpBdhNonD9MgaoUevk       1351  Krizz Solano           5\n",
       "7yLOR62W5h5j5Y4M8nHnAY       2170         fuse.          34"
      ]
     },
     "execution_count": 41,
     "metadata": {},
     "output_type": "execute_result"
    }
   ],
   "source": [
    "artist_metadata = artist_df_dict['metadata']\n",
    "artist_metadata.head()"
   ]
  },
  {
   "cell_type": "code",
   "execution_count": 42,
   "metadata": {},
   "outputs": [
    {
     "data": {
      "text/html": [
       "<div>\n",
       "<style scoped>\n",
       "    .dataframe tbody tr th:only-of-type {\n",
       "        vertical-align: middle;\n",
       "    }\n",
       "\n",
       "    .dataframe tbody tr th {\n",
       "        vertical-align: top;\n",
       "    }\n",
       "\n",
       "    .dataframe thead th {\n",
       "        text-align: right;\n",
       "    }\n",
       "</style>\n",
       "<table border=\"1\" class=\"dataframe\">\n",
       "  <thead>\n",
       "    <tr style=\"text-align: right;\">\n",
       "      <th></th>\n",
       "      <th>genre</th>\n",
       "    </tr>\n",
       "    <tr>\n",
       "      <th>artist_id</th>\n",
       "      <th></th>\n",
       "    </tr>\n",
       "  </thead>\n",
       "  <tbody>\n",
       "    <tr>\n",
       "      <th>30C5wgn4celhRP3Tytv7R6</th>\n",
       "      <td>north carolina hip hop</td>\n",
       "    </tr>\n",
       "    <tr>\n",
       "      <th>4og9lYRD6weUueMRu8lbP4</th>\n",
       "      <td>classic israeli pop</td>\n",
       "    </tr>\n",
       "    <tr>\n",
       "      <th>48nBjHQMSKiboD7Z4fjZLi</th>\n",
       "      <td>previa</td>\n",
       "    </tr>\n",
       "    <tr>\n",
       "      <th>4VUZyzya1v8H9StAeuKYXW</th>\n",
       "      <td>afro r&amp;b</td>\n",
       "    </tr>\n",
       "    <tr>\n",
       "      <th>4VUZyzya1v8H9StAeuKYXW</th>\n",
       "      <td>dutch pop</td>\n",
       "    </tr>\n",
       "  </tbody>\n",
       "</table>\n",
       "</div>"
      ],
      "text/plain": [
       "                                         genre\n",
       "artist_id                                     \n",
       "30C5wgn4celhRP3Tytv7R6  north carolina hip hop\n",
       "4og9lYRD6weUueMRu8lbP4     classic israeli pop\n",
       "48nBjHQMSKiboD7Z4fjZLi                  previa\n",
       "4VUZyzya1v8H9StAeuKYXW                afro r&b\n",
       "4VUZyzya1v8H9StAeuKYXW               dutch pop"
      ]
     },
     "execution_count": 42,
     "metadata": {},
     "output_type": "execute_result"
    }
   ],
   "source": [
    "artist_genres = artist_df_dict['genres']\n",
    "artist_genres.head()"
   ]
  },
  {
   "cell_type": "code",
   "execution_count": 43,
   "metadata": {},
   "outputs": [],
   "source": [
    "artist_images = artist_df_dict['images']"
   ]
  },
  {
   "attachments": {},
   "cell_type": "markdown",
   "metadata": {},
   "source": [
    "## Credits data"
   ]
  },
  {
   "cell_type": "code",
   "execution_count": 44,
   "metadata": {},
   "outputs": [
    {
     "data": {
      "text/html": [
       "<div>\n",
       "<style scoped>\n",
       "    .dataframe tbody tr th:only-of-type {\n",
       "        vertical-align: middle;\n",
       "    }\n",
       "\n",
       "    .dataframe tbody tr th {\n",
       "        vertical-align: top;\n",
       "    }\n",
       "\n",
       "    .dataframe thead th {\n",
       "        text-align: right;\n",
       "    }\n",
       "</style>\n",
       "<table border=\"1\" class=\"dataframe\">\n",
       "  <thead>\n",
       "    <tr style=\"text-align: right;\">\n",
       "      <th></th>\n",
       "      <th>track_title</th>\n",
       "      <th>role_credits</th>\n",
       "      <th>extended_credits</th>\n",
       "      <th>source_names</th>\n",
       "    </tr>\n",
       "    <tr>\n",
       "      <th>track_id</th>\n",
       "      <th></th>\n",
       "      <th></th>\n",
       "      <th></th>\n",
       "      <th></th>\n",
       "    </tr>\n",
       "  </thead>\n",
       "  <tbody>\n",
       "    <tr>\n",
       "      <th>6mICuAdrwEjh6Y6lroV2Kg</th>\n",
       "      <td>Chantaje (feat. Maluma)</td>\n",
       "      <td>[{'roleTitle': 'Performers', 'artists': [{'uri...</td>\n",
       "      <td>[]</td>\n",
       "      <td>[Sony Music Latin, Sony Music Publishing]</td>\n",
       "    </tr>\n",
       "    <tr>\n",
       "      <th>7DM4BPaS7uofFul3ywMe46</th>\n",
       "      <td>Vente Pa' Ca (feat. Maluma)</td>\n",
       "      <td>[{'roleTitle': 'Performers', 'artists': [{'uri...</td>\n",
       "      <td>[]</td>\n",
       "      <td>[Sony Music Latin]</td>\n",
       "    </tr>\n",
       "    <tr>\n",
       "      <th>3AEZUABDXNtecAOSC1qTfo</th>\n",
       "      <td>Reggaetón Lento (Bailemos)</td>\n",
       "      <td>[{'roleTitle': 'Performers', 'artists': [{'uri...</td>\n",
       "      <td>[]</td>\n",
       "      <td>[Sony Music Latin]</td>\n",
       "    </tr>\n",
       "    <tr>\n",
       "      <th>6rQSrBHf7HlZjtcMZ4S4bO</th>\n",
       "      <td>Safari</td>\n",
       "      <td>[{'roleTitle': 'Performers', 'artists': [{'uri...</td>\n",
       "      <td>[]</td>\n",
       "      <td>[Universal Music Group, Sony Music Publishing,...</td>\n",
       "    </tr>\n",
       "    <tr>\n",
       "      <th>58IL315gMSTD37DOZPJ2hf</th>\n",
       "      <td>Shaky Shaky</td>\n",
       "      <td>[{'roleTitle': 'Performers', 'artists': [{'uri...</td>\n",
       "      <td>[]</td>\n",
       "      <td>[Universal Music Group]</td>\n",
       "    </tr>\n",
       "  </tbody>\n",
       "</table>\n",
       "</div>"
      ],
      "text/plain": [
       "                                        track_title  \\\n",
       "track_id                                              \n",
       "6mICuAdrwEjh6Y6lroV2Kg      Chantaje (feat. Maluma)   \n",
       "7DM4BPaS7uofFul3ywMe46  Vente Pa' Ca (feat. Maluma)   \n",
       "3AEZUABDXNtecAOSC1qTfo   Reggaetón Lento (Bailemos)   \n",
       "6rQSrBHf7HlZjtcMZ4S4bO                       Safari   \n",
       "58IL315gMSTD37DOZPJ2hf                  Shaky Shaky   \n",
       "\n",
       "                                                             role_credits  \\\n",
       "track_id                                                                    \n",
       "6mICuAdrwEjh6Y6lroV2Kg  [{'roleTitle': 'Performers', 'artists': [{'uri...   \n",
       "7DM4BPaS7uofFul3ywMe46  [{'roleTitle': 'Performers', 'artists': [{'uri...   \n",
       "3AEZUABDXNtecAOSC1qTfo  [{'roleTitle': 'Performers', 'artists': [{'uri...   \n",
       "6rQSrBHf7HlZjtcMZ4S4bO  [{'roleTitle': 'Performers', 'artists': [{'uri...   \n",
       "58IL315gMSTD37DOZPJ2hf  [{'roleTitle': 'Performers', 'artists': [{'uri...   \n",
       "\n",
       "                       extended_credits  \\\n",
       "track_id                                  \n",
       "6mICuAdrwEjh6Y6lroV2Kg               []   \n",
       "7DM4BPaS7uofFul3ywMe46               []   \n",
       "3AEZUABDXNtecAOSC1qTfo               []   \n",
       "6rQSrBHf7HlZjtcMZ4S4bO               []   \n",
       "58IL315gMSTD37DOZPJ2hf               []   \n",
       "\n",
       "                                                             source_names  \n",
       "track_id                                                                   \n",
       "6mICuAdrwEjh6Y6lroV2Kg          [Sony Music Latin, Sony Music Publishing]  \n",
       "7DM4BPaS7uofFul3ywMe46                                 [Sony Music Latin]  \n",
       "3AEZUABDXNtecAOSC1qTfo                                 [Sony Music Latin]  \n",
       "6rQSrBHf7HlZjtcMZ4S4bO  [Universal Music Group, Sony Music Publishing,...  \n",
       "58IL315gMSTD37DOZPJ2hf                            [Universal Music Group]  "
      ]
     },
     "execution_count": 44,
     "metadata": {},
     "output_type": "execute_result"
    }
   ],
   "source": [
    "credits_file_path = os.path.join(data_folder, \"credits.jsonl\")\n",
    "credits_df = pd.read_json(credits_file_path, lines=True)\n",
    "credits_df['trackId'] = credits_df['trackUri'].apply(lambda x: get_id_from_spotify_uri(x))\n",
    "credits_df.drop(columns=['trackUri'], inplace=True)\n",
    "credits_df = convert_columns_to_snake_case(credits_df)\n",
    "credits_df = credits_df.set_index('track_id')\n",
    "credits_df.head()"
   ]
  },
  {
   "cell_type": "code",
   "execution_count": 45,
   "metadata": {},
   "outputs": [
    {
     "data": {
      "text/plain": [
       "0    163479\n",
       "Name: extended_credits, dtype: int64"
      ]
     },
     "execution_count": 45,
     "metadata": {},
     "output_type": "execute_result"
    }
   ],
   "source": [
    "credits_df.extended_credits.apply(len).value_counts()"
   ]
  },
  {
   "attachments": {},
   "cell_type": "markdown",
   "metadata": {},
   "source": [
    "Looks like the extended credits aren't used at all at this moment."
   ]
  },
  {
   "cell_type": "code",
   "execution_count": 46,
   "metadata": {},
   "outputs": [
    {
     "data": {
      "text/plain": [
       "track_title                                   Chantaje (feat. Maluma)\n",
       "role_credits        [{'roleTitle': 'Performers', 'artists': [{'uri...\n",
       "extended_credits                                                   []\n",
       "source_names                [Sony Music Latin, Sony Music Publishing]\n",
       "Name: 6mICuAdrwEjh6Y6lroV2Kg, dtype: object"
      ]
     },
     "execution_count": 46,
     "metadata": {},
     "output_type": "execute_result"
    }
   ],
   "source": [
    "example_credits = credits_df.loc['6mICuAdrwEjh6Y6lroV2Kg']\n",
    "example_credits"
   ]
  },
  {
   "cell_type": "code",
   "execution_count": 47,
   "metadata": {},
   "outputs": [],
   "source": [
    "temp_data_folder_path = 'data' # create data folder in directory of this notebook -> store JSON files etc. there for easier inspection (with code editor) than in notebook output"
   ]
  },
  {
   "cell_type": "code",
   "execution_count": 48,
   "metadata": {},
   "outputs": [],
   "source": [
    "write_series_to_file_as_prettified_json(example_credits, os.path.join(temp_data_folder_path, \"example_credits.json\"))"
   ]
  },
  {
   "cell_type": "code",
   "execution_count": 49,
   "metadata": {},
   "outputs": [
    {
     "data": {
      "text/plain": [
       "'https://open.spotify.com/track/6mICuAdrwEjh6Y6lroV2Kg'"
      ]
     },
     "execution_count": 49,
     "metadata": {},
     "output_type": "execute_result"
    }
   ],
   "source": [
    "get_spotify_track_link(example_credits.name) # check the link and open the song page for reference"
   ]
  },
  {
   "attachments": {},
   "cell_type": "markdown",
   "metadata": {},
   "source": [
    "We see that internally, Spotify collects more detailed information about song credits than what is actually displayed in the web app. Even 'creator URIs' are mentioned, which do not exist at all in the public API!\n",
    "\n",
    "Furthermore, it is convenient, that in the internal API the artist ID is (at least sometimes) also included if an artist also appears as a producer (see the example). \n",
    "\n",
    "However, unfortunately the data still looks messy: in the example, Shakira is mentioned as performer, writer, and producer, but the link to her artist page is missing for the writer entry is missing. This makes it more difficult to automatically match artist name and artist ID..."
   ]
  },
  {
   "attachments": {},
   "cell_type": "markdown",
   "metadata": {},
   "source": [
    "## Lyrics data"
   ]
  },
  {
   "attachments": {},
   "cell_type": "markdown",
   "metadata": {},
   "source": [
    "Unfortunately, I haven't yet figured out how to fetch lyric data from the internal API without getting blocked. However, I still managed to get some data:"
   ]
  },
  {
   "cell_type": "code",
   "execution_count": 50,
   "metadata": {},
   "outputs": [
    {
     "data": {
      "text/html": [
       "<div>\n",
       "<style scoped>\n",
       "    .dataframe tbody tr th:only-of-type {\n",
       "        vertical-align: middle;\n",
       "    }\n",
       "\n",
       "    .dataframe tbody tr th {\n",
       "        vertical-align: top;\n",
       "    }\n",
       "\n",
       "    .dataframe thead th {\n",
       "        text-align: right;\n",
       "    }\n",
       "</style>\n",
       "<table border=\"1\" class=\"dataframe\">\n",
       "  <thead>\n",
       "    <tr style=\"text-align: right;\">\n",
       "      <th></th>\n",
       "      <th>lyrics</th>\n",
       "      <th>colors</th>\n",
       "      <th>has_vocal_removal</th>\n",
       "    </tr>\n",
       "    <tr>\n",
       "      <th>track_id</th>\n",
       "      <th></th>\n",
       "      <th></th>\n",
       "      <th></th>\n",
       "    </tr>\n",
       "  </thead>\n",
       "  <tbody>\n",
       "    <tr>\n",
       "      <th>6mICuAdrwEjh6Y6lroV2Kg</th>\n",
       "      <td>{'syncType': 'LINE_SYNCED', 'lines': [{'startT...</td>\n",
       "      <td>{'background': -8227014, 'text': -16777216, 'h...</td>\n",
       "      <td>False</td>\n",
       "    </tr>\n",
       "    <tr>\n",
       "      <th>7DM4BPaS7uofFul3ywMe46</th>\n",
       "      <td>{'syncType': 'LINE_SYNCED', 'lines': [{'startT...</td>\n",
       "      <td>{'background': -9079435, 'text': -16777216, 'h...</td>\n",
       "      <td>False</td>\n",
       "    </tr>\n",
       "    <tr>\n",
       "      <th>3AEZUABDXNtecAOSC1qTfo</th>\n",
       "      <td>{'syncType': 'LINE_SYNCED', 'lines': [{'startT...</td>\n",
       "      <td>{'background': -16743782, 'text': -16777216, '...</td>\n",
       "      <td>False</td>\n",
       "    </tr>\n",
       "    <tr>\n",
       "      <th>6rQSrBHf7HlZjtcMZ4S4bO</th>\n",
       "      <td>{'syncType': 'LINE_SYNCED', 'lines': [{'startT...</td>\n",
       "      <td>{'background': -8423168, 'text': -16777216, 'h...</td>\n",
       "      <td>False</td>\n",
       "    </tr>\n",
       "    <tr>\n",
       "      <th>58IL315gMSTD37DOZPJ2hf</th>\n",
       "      <td>{'syncType': 'LINE_SYNCED', 'lines': [{'startT...</td>\n",
       "      <td>{'background': -1824462, 'text': -16777216, 'h...</td>\n",
       "      <td>False</td>\n",
       "    </tr>\n",
       "  </tbody>\n",
       "</table>\n",
       "</div>"
      ],
      "text/plain": [
       "                                                                   lyrics  \\\n",
       "track_id                                                                    \n",
       "6mICuAdrwEjh6Y6lroV2Kg  {'syncType': 'LINE_SYNCED', 'lines': [{'startT...   \n",
       "7DM4BPaS7uofFul3ywMe46  {'syncType': 'LINE_SYNCED', 'lines': [{'startT...   \n",
       "3AEZUABDXNtecAOSC1qTfo  {'syncType': 'LINE_SYNCED', 'lines': [{'startT...   \n",
       "6rQSrBHf7HlZjtcMZ4S4bO  {'syncType': 'LINE_SYNCED', 'lines': [{'startT...   \n",
       "58IL315gMSTD37DOZPJ2hf  {'syncType': 'LINE_SYNCED', 'lines': [{'startT...   \n",
       "\n",
       "                                                                   colors  \\\n",
       "track_id                                                                    \n",
       "6mICuAdrwEjh6Y6lroV2Kg  {'background': -8227014, 'text': -16777216, 'h...   \n",
       "7DM4BPaS7uofFul3ywMe46  {'background': -9079435, 'text': -16777216, 'h...   \n",
       "3AEZUABDXNtecAOSC1qTfo  {'background': -16743782, 'text': -16777216, '...   \n",
       "6rQSrBHf7HlZjtcMZ4S4bO  {'background': -8423168, 'text': -16777216, 'h...   \n",
       "58IL315gMSTD37DOZPJ2hf  {'background': -1824462, 'text': -16777216, 'h...   \n",
       "\n",
       "                        has_vocal_removal  \n",
       "track_id                                   \n",
       "6mICuAdrwEjh6Y6lroV2Kg              False  \n",
       "7DM4BPaS7uofFul3ywMe46              False  \n",
       "3AEZUABDXNtecAOSC1qTfo              False  \n",
       "6rQSrBHf7HlZjtcMZ4S4bO              False  \n",
       "58IL315gMSTD37DOZPJ2hf              False  "
      ]
     },
     "execution_count": 50,
     "metadata": {},
     "output_type": "execute_result"
    }
   ],
   "source": [
    "lyrics_file_path = os.path.join(data_folder, \"lyrics.jsonl\")\n",
    "lyrics_df = pd.read_json(lyrics_file_path, lines=True)\n",
    "lyrics_df['trackId'] = lyrics_df['trackUri'].apply(lambda x: get_id_from_spotify_uri(x))\n",
    "lyrics_df.drop(columns=['trackUri'], inplace=True)\n",
    "lyrics_df = convert_columns_to_snake_case(lyrics_df)\n",
    "lyrics_df = lyrics_df.set_index('track_id')\n",
    "lyrics_df.head()"
   ]
  },
  {
   "cell_type": "code",
   "execution_count": 51,
   "metadata": {},
   "outputs": [
    {
     "data": {
      "text/plain": [
       "lyrics               {'syncType': 'LINE_SYNCED', 'lines': [{'startT...\n",
       "colors               {'background': -8227014, 'text': -16777216, 'h...\n",
       "has_vocal_removal                                                False\n",
       "Name: 6mICuAdrwEjh6Y6lroV2Kg, dtype: object"
      ]
     },
     "execution_count": 51,
     "metadata": {},
     "output_type": "execute_result"
    }
   ],
   "source": [
    "example_lyrics = lyrics_df.loc['6mICuAdrwEjh6Y6lroV2Kg']\n",
    "example_lyrics"
   ]
  },
  {
   "cell_type": "code",
   "execution_count": 52,
   "metadata": {},
   "outputs": [],
   "source": [
    "write_series_to_file_as_prettified_json(example_lyrics, os.path.join(temp_data_folder_path, \"example_lyrics.json\"))"
   ]
  },
  {
   "attachments": {},
   "cell_type": "markdown",
   "metadata": {},
   "source": [
    "The API response even contains timing information (when what line of the lyrics should be displayed). Another interesting aspect is that the origin of the lyrics (usually, or always (?) musiXmatch), together with the ID for the provider is provided. Furthermore, the language of the lyrics is included. This data could be used to verify how muc chart music in a particular country is in its official language."
   ]
  },
  {
   "cell_type": "code",
   "execution_count": 53,
   "metadata": {},
   "outputs": [
    {
     "data": {
      "text/plain": [
       "0"
      ]
     },
     "execution_count": 53,
     "metadata": {},
     "output_type": "execute_result"
    }
   ],
   "source": [
    "lyrics_df.has_vocal_removal.sum()"
   ]
  },
  {
   "attachments": {},
   "cell_type": "markdown",
   "metadata": {},
   "source": [
    "The `has_vocal_removal` column seems to be redundant."
   ]
  }
 ],
 "metadata": {
  "kernelspec": {
   "display_name": "spotify-charts-analysis",
   "language": "python",
   "name": "python3"
  },
  "language_info": {
   "codemirror_mode": {
    "name": "ipython",
    "version": 3
   },
   "file_extension": ".py",
   "mimetype": "text/x-python",
   "name": "python",
   "nbconvert_exporter": "python",
   "pygments_lexer": "ipython3",
   "version": "3.10.11"
  },
  "orig_nbformat": 4
 },
 "nbformat": 4,
 "nbformat_minor": 2
}
