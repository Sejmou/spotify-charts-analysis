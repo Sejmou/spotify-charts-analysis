{
 "cells": [
  {
   "attachments": {},
   "cell_type": "markdown",
   "metadata": {},
   "source": [
    "# Analyzing chart data completeness"
   ]
  },
  {
   "attachments": {},
   "cell_type": "markdown",
   "metadata": {},
   "source": [
    "Here, we check how complete the Top 200 charts data extracted in the previous step is."
   ]
  },
  {
   "attachments": {},
   "cell_type": "markdown",
   "metadata": {},
   "source": [
    "## Load data"
   ]
  },
  {
   "cell_type": "code",
   "execution_count": 2,
   "metadata": {},
   "outputs": [],
   "source": [
    "from helpers import create_data_path\n",
    "import pandas as pd"
   ]
  },
  {
   "cell_type": "code",
   "execution_count": 3,
   "metadata": {},
   "outputs": [],
   "source": [
    "kaggle_top200 = pd.read_parquet(create_data_path(\"kaggle_top200.parquet\"))"
   ]
  },
  {
   "attachments": {},
   "cell_type": "markdown",
   "metadata": {},
   "source": [
    "## Get number of missing chart entries"
   ]
  },
  {
   "cell_type": "code",
   "execution_count": 4,
   "metadata": {},
   "outputs": [
    {
     "data": {
      "text/plain": [
       "title       object\n",
       "pos          int64\n",
       "date        object\n",
       "artist      object\n",
       "url         object\n",
       "region      object\n",
       "trend       object\n",
       "streams    float64\n",
       "dtype: object"
      ]
     },
     "execution_count": 4,
     "metadata": {},
     "output_type": "execute_result"
    }
   ],
   "source": [
    "kaggle_top200.dtypes"
   ]
  },
  {
   "cell_type": "code",
   "execution_count": 5,
   "metadata": {},
   "outputs": [],
   "source": [
    "kaggle_top200.date = pd.to_datetime(kaggle_top200.date)"
   ]
  },
  {
   "attachments": {},
   "cell_type": "markdown",
   "metadata": {},
   "source": [
    "If the data was complete, we would have 200 tracks for every combination of region and date."
   ]
  },
  {
   "attachments": {},
   "cell_type": "markdown",
   "metadata": {},
   "source": [
    "Let's get an overview of what we actually have:"
   ]
  },
  {
   "cell_type": "code",
   "execution_count": 6,
   "metadata": {},
   "outputs": [],
   "source": [
    "track_counts_per_region_and_date = kaggle_top200.groupby(['region', 'date']).size().reset_index(name='track_count').sort_values(['region', 'date'])\n"
   ]
  },
  {
   "cell_type": "code",
   "execution_count": 7,
   "metadata": {},
   "outputs": [
    {
     "data": {
      "text/html": [
       "<div>\n",
       "<style scoped>\n",
       "    .dataframe tbody tr th:only-of-type {\n",
       "        vertical-align: middle;\n",
       "    }\n",
       "\n",
       "    .dataframe tbody tr th {\n",
       "        vertical-align: top;\n",
       "    }\n",
       "\n",
       "    .dataframe thead th {\n",
       "        text-align: right;\n",
       "    }\n",
       "</style>\n",
       "<table border=\"1\" class=\"dataframe\">\n",
       "  <thead>\n",
       "    <tr style=\"text-align: right;\">\n",
       "      <th></th>\n",
       "      <th>region</th>\n",
       "      <th>date</th>\n",
       "      <th>track_count</th>\n",
       "    </tr>\n",
       "  </thead>\n",
       "  <tbody>\n",
       "    <tr>\n",
       "      <th>0</th>\n",
       "      <td>Argentina</td>\n",
       "      <td>2017-01-01</td>\n",
       "      <td>200</td>\n",
       "    </tr>\n",
       "    <tr>\n",
       "      <th>1</th>\n",
       "      <td>Argentina</td>\n",
       "      <td>2017-01-02</td>\n",
       "      <td>200</td>\n",
       "    </tr>\n",
       "    <tr>\n",
       "      <th>2</th>\n",
       "      <td>Argentina</td>\n",
       "      <td>2017-01-03</td>\n",
       "      <td>200</td>\n",
       "    </tr>\n",
       "    <tr>\n",
       "      <th>3</th>\n",
       "      <td>Argentina</td>\n",
       "      <td>2017-01-04</td>\n",
       "      <td>200</td>\n",
       "    </tr>\n",
       "    <tr>\n",
       "      <th>4</th>\n",
       "      <td>Argentina</td>\n",
       "      <td>2017-01-05</td>\n",
       "      <td>200</td>\n",
       "    </tr>\n",
       "    <tr>\n",
       "      <th>...</th>\n",
       "      <td>...</td>\n",
       "      <td>...</td>\n",
       "      <td>...</td>\n",
       "    </tr>\n",
       "    <tr>\n",
       "      <th>109986</th>\n",
       "      <td>Vietnam</td>\n",
       "      <td>2021-11-26</td>\n",
       "      <td>200</td>\n",
       "    </tr>\n",
       "    <tr>\n",
       "      <th>109987</th>\n",
       "      <td>Vietnam</td>\n",
       "      <td>2021-11-27</td>\n",
       "      <td>200</td>\n",
       "    </tr>\n",
       "    <tr>\n",
       "      <th>109988</th>\n",
       "      <td>Vietnam</td>\n",
       "      <td>2021-11-28</td>\n",
       "      <td>200</td>\n",
       "    </tr>\n",
       "    <tr>\n",
       "      <th>109989</th>\n",
       "      <td>Vietnam</td>\n",
       "      <td>2021-11-29</td>\n",
       "      <td>200</td>\n",
       "    </tr>\n",
       "    <tr>\n",
       "      <th>109990</th>\n",
       "      <td>Vietnam</td>\n",
       "      <td>2021-11-30</td>\n",
       "      <td>200</td>\n",
       "    </tr>\n",
       "  </tbody>\n",
       "</table>\n",
       "<p>109991 rows × 3 columns</p>\n",
       "</div>"
      ],
      "text/plain": [
       "           region       date  track_count\n",
       "0       Argentina 2017-01-01          200\n",
       "1       Argentina 2017-01-02          200\n",
       "2       Argentina 2017-01-03          200\n",
       "3       Argentina 2017-01-04          200\n",
       "4       Argentina 2017-01-05          200\n",
       "...           ...        ...          ...\n",
       "109986    Vietnam 2021-11-26          200\n",
       "109987    Vietnam 2021-11-27          200\n",
       "109988    Vietnam 2021-11-28          200\n",
       "109989    Vietnam 2021-11-29          200\n",
       "109990    Vietnam 2021-11-30          200\n",
       "\n",
       "[109991 rows x 3 columns]"
      ]
     },
     "execution_count": 7,
     "metadata": {},
     "output_type": "execute_result"
    }
   ],
   "source": [
    "track_counts_per_region_and_date"
   ]
  },
  {
   "cell_type": "code",
   "execution_count": 8,
   "metadata": {},
   "outputs": [],
   "source": [
    "region_count = track_counts_per_region_and_date.region.nunique()"
   ]
  },
  {
   "cell_type": "code",
   "execution_count": 9,
   "metadata": {},
   "outputs": [
    {
     "data": {
      "text/plain": [
       "(Timestamp('2017-01-01 00:00:00'), Timestamp('2021-12-31 00:00:00'))"
      ]
     },
     "execution_count": 9,
     "metadata": {},
     "output_type": "execute_result"
    }
   ],
   "source": [
    "start = track_counts_per_region_and_date.date.min()\n",
    "end = track_counts_per_region_and_date.date.max()\n",
    "start, end"
   ]
  },
  {
   "cell_type": "code",
   "execution_count": 10,
   "metadata": {},
   "outputs": [
    {
     "data": {
      "text/plain": [
       "1825"
      ]
     },
     "execution_count": 10,
     "metadata": {},
     "output_type": "execute_result"
    }
   ],
   "source": [
    "delta = end.to_pydatetime() - start.to_pydatetime()\n",
    "days_from_start_to_end = delta.days\n",
    "\n",
    "days_from_start_to_end "
   ]
  },
  {
   "cell_type": "code",
   "execution_count": 11,
   "metadata": {},
   "outputs": [
    {
     "data": {
      "text/plain": [
       "125994"
      ]
     },
     "execution_count": 11,
     "metadata": {},
     "output_type": "execute_result"
    }
   ],
   "source": [
    "expected_track_count_rowcount = region_count * (days_from_start_to_end + 1)\n",
    "expected_track_count_rowcount"
   ]
  },
  {
   "cell_type": "code",
   "execution_count": 12,
   "metadata": {},
   "outputs": [
    {
     "data": {
      "text/plain": [
       "109991"
      ]
     },
     "execution_count": 12,
     "metadata": {},
     "output_type": "execute_result"
    }
   ],
   "source": [
    "track_counts_per_region_and_date.shape[0]"
   ]
  },
  {
   "attachments": {},
   "cell_type": "markdown",
   "metadata": {},
   "source": [
    "Looks like quite a few values are non-existent..."
   ]
  },
  {
   "cell_type": "code",
   "execution_count": 13,
   "metadata": {},
   "outputs": [
    {
     "data": {
      "text/plain": [
       "58674"
      ]
     },
     "execution_count": 13,
     "metadata": {},
     "output_type": "execute_result"
    }
   ],
   "source": [
    "track_counts_per_region_and_date.query('track_count < 200').size"
   ]
  },
  {
   "cell_type": "code",
   "execution_count": 14,
   "metadata": {},
   "outputs": [
    {
     "data": {
      "text/plain": [
       "2796"
      ]
     },
     "execution_count": 14,
     "metadata": {},
     "output_type": "execute_result"
    }
   ],
   "source": [
    "track_counts_per_region_and_date.query('track_count < 50').size"
   ]
  },
  {
   "attachments": {},
   "cell_type": "markdown",
   "metadata": {},
   "source": [
    "## Missing values by region"
   ]
  },
  {
   "cell_type": "code",
   "execution_count": 15,
   "metadata": {},
   "outputs": [],
   "source": [
    "missing_perc_per_region = (\n",
    "    (\n",
    "    (days_from_start_to_end + 1) - \n",
    "    track_counts_per_region_and_date.groupby('region').size()\n",
    "    ) / (days_from_start_to_end + 1)\n",
    ").sort_values(ascending=False)"
   ]
  },
  {
   "cell_type": "code",
   "execution_count": 16,
   "metadata": {},
   "outputs": [
    {
     "data": {
      "text/plain": [
       "region\n",
       "Luxembourg       0.837349\n",
       "South Korea      0.834611\n",
       "Russia           0.723987\n",
       "Ukraine          0.723987\n",
       "Egypt            0.569003\n",
       "                   ...   \n",
       "United States    0.002738\n",
       "Argentina        0.002191\n",
       "Austria          0.002191\n",
       "Bolivia          0.001643\n",
       "Brazil           0.001643\n",
       "Length: 69, dtype: float64"
      ]
     },
     "execution_count": 16,
     "metadata": {},
     "output_type": "execute_result"
    }
   ],
   "source": [
    "missing_perc_per_region"
   ]
  },
  {
   "cell_type": "code",
   "execution_count": 17,
   "metadata": {},
   "outputs": [
    {
     "data": {
      "text/plain": [
       "region\n",
       "Luxembourg              0.837349\n",
       "South Korea             0.834611\n",
       "Russia                  0.723987\n",
       "Ukraine                 0.723987\n",
       "Egypt                   0.569003\n",
       "Morocco                 0.525739\n",
       "Saudi Arabia            0.500548\n",
       "United Arab Emirates    0.489595\n",
       "India                   0.447974\n",
       "Nicaragua               0.397590\n",
       "Bulgaria                0.366375\n",
       "South Africa            0.299014\n",
       "Israel                  0.256298\n",
       "Vietnam                 0.256298\n",
       "Romania                 0.256298\n",
       "Estonia                 0.153888\n",
       "Thailand                0.148412\n",
       "Lithuania               0.114458\n",
       "dtype: float64"
      ]
     },
     "execution_count": 17,
     "metadata": {},
     "output_type": "execute_result"
    }
   ],
   "source": [
    "missing_perc_per_region[missing_perc_per_region > 0.1]"
   ]
  },
  {
   "cell_type": "code",
   "execution_count": 18,
   "metadata": {},
   "outputs": [
    {
     "data": {
      "text/plain": [
       "50"
      ]
     },
     "execution_count": 18,
     "metadata": {},
     "output_type": "execute_result"
    }
   ],
   "source": [
    "missing_perc_per_region[missing_perc_per_region < 0.025].shape[0]"
   ]
  },
  {
   "attachments": {},
   "cell_type": "markdown",
   "metadata": {},
   "source": [
    "## Identify regions with good data coverage"
   ]
  },
  {
   "cell_type": "code",
   "execution_count": 19,
   "metadata": {},
   "outputs": [
    {
     "data": {
      "text/plain": [
       "['Slovakia',\n",
       " 'Netherlands',\n",
       " 'Portugal',\n",
       " 'Panama',\n",
       " 'Finland',\n",
       " 'Germany',\n",
       " 'Peru',\n",
       " 'Poland',\n",
       " 'Chile',\n",
       " 'Norway',\n",
       " 'Taiwan',\n",
       " 'Turkey',\n",
       " 'Guatemala',\n",
       " 'Spain',\n",
       " 'Czech Republic',\n",
       " 'Sweden',\n",
       " 'Colombia',\n",
       " 'Costa Rica',\n",
       " 'Philippines',\n",
       " 'Paraguay',\n",
       " 'Belgium',\n",
       " 'Uruguay',\n",
       " 'Singapore',\n",
       " 'France',\n",
       " 'New Zealand',\n",
       " 'El Salvador',\n",
       " 'Greece',\n",
       " 'Honduras',\n",
       " 'Hong Kong',\n",
       " 'Hungary',\n",
       " 'Iceland',\n",
       " 'Denmark',\n",
       " 'Ireland',\n",
       " 'Indonesia',\n",
       " 'Italy',\n",
       " 'Japan',\n",
       " 'Ecuador',\n",
       " 'Dominican Republic',\n",
       " 'Malaysia',\n",
       " 'Mexico',\n",
       " 'Switzerland',\n",
       " 'United Kingdom',\n",
       " 'Canada',\n",
       " 'Australia',\n",
       " 'Global',\n",
       " 'United States',\n",
       " 'Argentina',\n",
       " 'Austria',\n",
       " 'Bolivia',\n",
       " 'Brazil']"
      ]
     },
     "execution_count": 19,
     "metadata": {},
     "output_type": "execute_result"
    }
   ],
   "source": [
    "regions_with_good_coverage = missing_perc_per_region[missing_perc_per_region < 0.025].index.tolist()\n",
    "regions_with_good_coverage"
   ]
  },
  {
   "cell_type": "code",
   "execution_count": 20,
   "metadata": {},
   "outputs": [],
   "source": [
    "def write_list_to_file(file_path, string_list):\n",
    "    with open(file_path, 'w') as file:\n",
    "        for item in string_list:\n",
    "            file.write(item + '\\n')"
   ]
  },
  {
   "cell_type": "code",
   "execution_count": 21,
   "metadata": {},
   "outputs": [],
   "source": [
    "write_list_to_file(create_data_path('regions.txt'), regions_with_good_coverage)"
   ]
  }
 ],
 "metadata": {
  "kernelspec": {
   "display_name": "spotify-charts-analysis",
   "language": "python",
   "name": "python3"
  },
  "language_info": {
   "codemirror_mode": {
    "name": "ipython",
    "version": 3
   },
   "file_extension": ".py",
   "mimetype": "text/x-python",
   "name": "python",
   "nbconvert_exporter": "python",
   "pygments_lexer": "ipython3",
   "version": "3.10.11"
  },
  "orig_nbformat": 4
 },
 "nbformat": 4,
 "nbformat_minor": 2
}
